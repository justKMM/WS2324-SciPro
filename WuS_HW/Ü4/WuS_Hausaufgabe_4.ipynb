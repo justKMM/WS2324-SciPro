{
 "cells": [
  {
   "cell_type": "markdown",
   "id": "2ea698cc",
   "metadata": {
    "deletable": false,
    "editable": false,
    "nbassignment": {
     "type": "header"
    },
    "nbgrader": {
     "cell_type": "markdown",
     "checksum": "5848919663d13f4d1adc92b2205d88e5",
     "grade": false,
     "grade_id": "HeaderA",
     "locked": true,
     "schema_version": 3,
     "solution": false,
     "task": false
    }
   },
   "source": [
    "<div class=\"alert alert-block alert-info\">\n",
    "    <h1>Wahrscheinlichkeitstheorie und Statistik</h1>\n",
    "    <h2>WS 2023 / 2024</h2>\n",
    "    <h2>WuS Hausaufgabe 4</h2>\n",
    "    <h3>Abgabetermin</h3>\n",
    "    <p>Die Abgabefrist dieser Hausaufgabe ist <strong>2023-12-04 12:00 (Montag Mittag)</strong>!</p>\n",
    "    <p>Vergessen Sie nicht Ihre Übung abzugeben (<a href=\"../../tree#assignments\">Assignment Tab / Submit Button</a>). Einfaches Speichern reicht nicht! Sie können beliebig oft abgeben, die letzte Abgabe vor der Deadline wird gewertet.</p>\n",
    "    <h2>Viel Erfolg!</h2>\n",
    "</div>"
   ]
  },
  {
   "cell_type": "markdown",
   "id": "8ce17069",
   "metadata": {
    "deletable": false,
    "editable": false,
    "nbassignment": {
     "type": "header"
    },
    "nbgrader": {
     "cell_type": "markdown",
     "checksum": "d89c5903f952df454681250ce573c84b",
     "grade": false,
     "grade_id": "template_1ed07652_0",
     "locked": true,
     "schema_version": 3,
     "solution": false,
     "task": false
    }
   },
   "source": [
    "<div class=\"alert alert-block alert-warning\">\n",
    "    <h2>Hinweise zur Bearbeitung der Übung</h2>\n",
    "    <h3>Allgemeine Informationen:</h3>\n",
    "    <ul>\n",
    "        <li>Schreiben Sie Ihre Antwort an die Stelle <b>YOUR CODE HERE</b>.</li>\n",
    "        <li>Fügen Sie <b>keine</b> neuen Zellen hinzu oder löschen Zellen.</li>\n",
    "        <li>Benennen Sie <b>keine</b> der Dateien / Notebooks um.</li>\n",
    "    </ul>\n",
    "    <h3>Angabe von Ergebnissen</h3>\n",
    "    <ul>\n",
    "        <li>Runden Sie Ihre Ergebnisse nicht. Bei den Tests werden bis zu 6 Nachkommastellen geprüft.</li>\n",
    "        <li>Prozentzahlen werden immer als Zahl zwischen 0 und 1 angegeben. 30% wird somit als 0.3 angegeben.</li>\n",
    "        <li>Fließkommazahlen werden mit einem Dezimalpunkt angegeben, nicht mit einem Komma. $\\frac{1}{4} \\rightarrow 0.25$.</li>\n",
    "    </ul>\n",
    "    <h3>Programmcode</h3>\n",
    "    <ul>\n",
    "        <li>Das Ergebnis einer Funktion muss mittels <b>return</b> zurückgegeben werden. Ein <b>print</b> Statement ist keine gültige Rückgabe.</li>\n",
    "        <li>Stellen Sie sicher, dass sich Ihr Code ausführen lässt. Code der nicht läuft kann nicht automatisch bewertet werden.</li>\n",
    "        <li><strong>Bevor Sie abgeben:</strong> Klicken Sie im Menü auf Kernel > Restart &amp; Run All (oder den <i class=\"fa-forward fa\"></i> Button in der Toolbar). Damit führen Sie das Notebook linear von oben nach unten aus. Alle Fehler die dann auftreten, treten auch beim Bewerten auf.</li>\n",
    "        <li>Entfernen Sie die <b>raise NotImplementedError()</b>, wenn Sie eine Aufgabe bearbeiten. Ansonsten wird beim Bewerten eine Exception ausgelöst, die uns sagt, dass Sie die Aufgabe nicht bearbeitet haben!</li>\n",
    "    </ul>\n",
    "</div>"
   ]
  },
  {
   "cell_type": "code",
   "execution_count": 35,
   "id": "bb2c1f65",
   "metadata": {
    "ExecuteTime": {
     "end_time": "2023-11-30T21:36:48.889484Z",
     "start_time": "2023-11-30T21:36:48.884645Z"
    },
    "deletable": false,
    "editable": false,
    "nbassignment": {
     "type": "header"
    },
    "nbgrader": {
     "cell_type": "code",
     "checksum": "4a47fcf761a9741d98f77a4073fff76c",
     "grade": false,
     "grade_id": "template_8a5339bf_0",
     "locked": true,
     "schema_version": 3,
     "solution": false,
     "task": false
    }
   },
   "outputs": [],
   "source": [
    "# execute this for default imports\n",
    "import math\n",
    "import random as rd\n",
    "import numpy as np\n",
    "import pandas as pd\n",
    "from matplotlib import pyplot as plt\n",
    "from scipy import stats"
   ]
  },
  {
   "cell_type": "markdown",
   "id": "61208cc9",
   "metadata": {
    "deletable": false,
    "editable": false,
    "nbgrader": {
     "cell_type": "markdown",
     "checksum": "ff02ea842ba7723d935b30b617a6cfd7",
     "grade": false,
     "grade_id": "taskheader_1",
     "locked": true,
     "schema_version": 3,
     "solution": false,
     "task": false
    }
   },
   "source": [
    "# Task 1\n",
    "\n",
    "**[10 Point(s)]**"
   ]
  },
  {
   "cell_type": "markdown",
   "id": "3ec88ebb",
   "metadata": {
    "deletable": false,
    "editable": false,
    "nbgrader": {
     "cell_type": "markdown",
     "checksum": "92f8cefcff1f26cc36a6fa4b3468fd01",
     "grade": false,
     "grade_id": "06_Verteilungen_Poisson_Binom_Impfungen_A06_Verteilungen_Poisson_Binom_Impfungen_B_Header",
     "locked": true,
     "schema_version": 3,
     "solution": false
    }
   },
   "source": [
    "## Impfungen \n",
    "\n",
    "50 Säuglinge erhalten eine bestimmte Impfung. Die Wahrscheinlichkeit, dass ein Säugling die Impfung nicht verträgt, ist $p = 0.05$. Die Reaktionen der einzelnen Säuglinge auf die Impfung sind unabhängig voneinander. Sei $X$ = Anzahl der Säuglinge, die die Impfung nicht vertragen.\n",
    "\n",
    "Berechnen Sie $P(X=0), P(X=1), P(X=2)$ und $P(X\\geq3)$."
   ]
  },
  {
   "cell_type": "markdown",
   "id": "658c9e4a",
   "metadata": {
    "deletable": false,
    "editable": false,
    "nbgrader": {
     "cell_type": "markdown",
     "checksum": "891a6efe4726f94b17000853960c5d8f",
     "grade": false,
     "grade_id": "taskheader_1_1",
     "locked": true,
     "schema_version": 3,
     "solution": false,
     "task": false
    }
   },
   "source": [
    "## Task 1.1\n",
    "\n",
    "**[5 Point(s)]**"
   ]
  },
  {
   "cell_type": "markdown",
   "id": "e9659bb7",
   "metadata": {
    "deletable": false,
    "editable": false,
    "nbgrader": {
     "cell_type": "markdown",
     "checksum": "d3f20d221c05a48fa84927d3b790efd4",
     "grade": false,
     "grade_id": "06_Verteilungen_Poisson_Binom_Impfungen_A_Description0",
     "locked": true,
     "schema_version": 3,
     "solution": false
    }
   },
   "source": [
    "### Impfungen a) \n",
    "\n",
    "Berechnen Sie die Wahrscheinlichkeiten approximativ.\n",
    "\n",
    "Speichern Sie Ihre Lösung in den Variablen ```P0, P1, P2, Pg3```."
   ]
  },
  {
   "cell_type": "code",
   "execution_count": 36,
   "id": "bed71d99",
   "metadata": {
    "ExecuteTime": {
     "end_time": "2023-11-30T21:36:48.963966Z",
     "start_time": "2023-11-30T21:36:48.897386Z"
    },
    "deletable": false,
    "nbgrader": {
     "cell_type": "code",
     "checksum": "e5a8e06738937ce088af70739a0d1713",
     "grade": false,
     "grade_id": "06_Verteilungen_Poisson_Binom_Impfungen_A",
     "locked": false,
     "schema_version": 3,
     "solution": true
    }
   },
   "outputs": [
    {
     "data": {
      "text/plain": [
       "(1.3887943864964021e-11,\n",
       " 3.471985966241e-10,\n",
       " 4.33998245780125e-09,\n",
       " 0.999999995298931)"
      ]
     },
     "execution_count": 36,
     "metadata": {},
     "output_type": "execute_result"
    }
   ],
   "source": [
    "lambda_= .5 * 50\n",
    "\n",
    "P0 = stats.poisson.pmf(0, lambda_)\n",
    "P1 = stats.poisson.pmf(1, lambda_)\n",
    "P2 = stats.poisson.pmf(2, lambda_)\n",
    "Pg3 = 1 - P0 - P1 - P2\n",
    "\n",
    "P0, P1, P2, Pg3"
   ]
  },
  {
   "cell_type": "code",
   "execution_count": null,
   "id": "3e306344",
   "metadata": {
    "ExecuteTime": {
     "end_time": "2023-11-26T14:29:23.529686Z",
     "start_time": "2023-11-26T14:29:23.381155Z"
    },
    "deletable": false,
    "editable": false,
    "nbgrader": {
     "cell_type": "code",
     "checksum": "a2d9b026b85d1abe1843aba2b0d6f20c",
     "grade": true,
     "grade_id": "test_06_Verteilungen_Poisson_Binom_Impfungen_A0",
     "locked": true,
     "points": 5,
     "schema_version": 3,
     "solution": false
    }
   },
   "outputs": [],
   "source": []
  },
  {
   "cell_type": "markdown",
   "id": "e9bacb4c",
   "metadata": {
    "deletable": false,
    "editable": false,
    "nbgrader": {
     "cell_type": "markdown",
     "checksum": "e37bf6c056bcd226b66ded0e4112924f",
     "grade": false,
     "grade_id": "taskheader_1_2",
     "locked": true,
     "schema_version": 3,
     "solution": false,
     "task": false
    }
   },
   "source": [
    "## Task 1.2\n",
    "\n",
    "**[5 Point(s)]**"
   ]
  },
  {
   "cell_type": "markdown",
   "id": "d2a5e1f0",
   "metadata": {
    "deletable": false,
    "editable": false,
    "nbgrader": {
     "cell_type": "markdown",
     "checksum": "c41f0bcf3ec9d1c005bf50af3ba55379",
     "grade": false,
     "grade_id": "06_Verteilungen_Poisson_Binom_Impfungen_B_Description0",
     "locked": true,
     "schema_version": 3,
     "solution": false
    }
   },
   "source": [
    "### Impfungen b) \n",
    "\n",
    "Berechnen Sie die Wahrscheinlichkeiten genau.\n",
    "\n",
    "Speichern Sie Ihre Lösung in den Variablen ```P0genau, P1genau, P2genau, Pg3genau```."
   ]
  },
  {
   "cell_type": "code",
   "execution_count": 37,
   "id": "77a7b676",
   "metadata": {
    "ExecuteTime": {
     "end_time": "2023-11-30T21:36:49.031217Z",
     "start_time": "2023-11-30T21:36:48.967909Z"
    },
    "deletable": false,
    "nbgrader": {
     "cell_type": "code",
     "checksum": "ae0ae4f7d99134bcc5401339e23f2c11",
     "grade": false,
     "grade_id": "06_Verteilungen_Poisson_Binom_Impfungen_B",
     "locked": false,
     "schema_version": 3,
     "solution": true
    }
   },
   "outputs": [
    {
     "data": {
      "text/plain": [
       "(8.881784197001252e-16,\n",
       " 4.440892098500626e-14,\n",
       " 1.0880185641326534e-12,\n",
       " 0.9999999999988667)"
      ]
     },
     "execution_count": 37,
     "metadata": {},
     "output_type": "execute_result"
    }
   ],
   "source": [
    "from scipy.stats import binom\n",
    "def genau(k: int, n: int, p: float):\n",
    "    return math.comb(n, k) * p**k * (1 - p)**(n-k)\n",
    "\n",
    "n = 50\n",
    "p = .5\n",
    "P0genau = genau(0, n=n, p=p)\n",
    "# P0genau = binom.pmf(0, n=n, p=p)\n",
    "P1genau = genau(1, n=n, p=p)\n",
    "P2genau = genau(2, n=n, p=p)\n",
    "Pg3genau = 1- P0genau - P1genau - P2genau\n",
    "\n",
    "P0genau, P1genau, P2genau, Pg3genau"
   ]
  },
  {
   "cell_type": "code",
   "execution_count": null,
   "id": "589804c6",
   "metadata": {
    "ExecuteTime": {
     "end_time": "2023-11-26T14:29:23.653862Z",
     "start_time": "2023-11-26T14:29:23.556696Z"
    },
    "deletable": false,
    "editable": false,
    "nbgrader": {
     "cell_type": "code",
     "checksum": "cd1aee8e33be8ba0213d40348006d579",
     "grade": true,
     "grade_id": "test_06_Verteilungen_Poisson_Binom_Impfungen_B0",
     "locked": true,
     "points": 5,
     "schema_version": 3,
     "solution": false
    }
   },
   "outputs": [],
   "source": []
  },
  {
   "cell_type": "markdown",
   "id": "f47e874e",
   "metadata": {
    "deletable": false,
    "editable": false,
    "nbgrader": {
     "cell_type": "markdown",
     "checksum": "be6ab082ae17de6c48d8e85c8cb35cd8",
     "grade": false,
     "grade_id": "taskheader_2",
     "locked": true,
     "schema_version": 3,
     "solution": false,
     "task": false
    }
   },
   "source": [
    "# Task 2\n",
    "\n",
    "**[15 Point(s)]**"
   ]
  },
  {
   "cell_type": "markdown",
   "id": "711c52a5",
   "metadata": {
    "deletable": false,
    "editable": false,
    "nbgrader": {
     "cell_type": "markdown",
     "checksum": "b6b9883a0761623672e5888e735e4cfe",
     "grade": false,
     "grade_id": "06_Verteilungen_Hypergeom_Werkstuecke_A06_Verteilungen_Hypergeom_Werkstuecke_B06_Verteilungen_Hypergeom_Werkstuecke_C_Header",
     "locked": true,
     "schema_version": 3,
     "solution": false,
     "task": false
    }
   },
   "source": [
    "## Werkstücke\n",
    "\n",
    "Um zu entscheiden, ob eine Lieferung von 100 Werkstücken angenommen werden soll, wird folgender Stichprobenplan durchgeführt:\n",
    "\n",
    "\n",
    "5 Werkstücke werden zufällig entnommen. Falls sich darunter kein Ausschussstück befindet, wird die Lieferung angenommen. \n",
    "\n",
    "Ist mehr als ein Ausschussstück darunter, wird die Lieferung abgelehnt. \n",
    "\n",
    "Ist genau ein Ausschussstück darunter, dann wird eine zweite Stichprobe im Umfang von 10 entnommen. Falls sich kein Ausschussstück in dieser Stichprobe befindet, wird die Lieferung angenommen, andernfalls endgültig abgelehnt. "
   ]
  },
  {
   "cell_type": "markdown",
   "id": "22686bf1",
   "metadata": {
    "deletable": false,
    "editable": false,
    "nbgrader": {
     "cell_type": "markdown",
     "checksum": "993b23359c2df9993fec7e14d38d4ee0",
     "grade": false,
     "grade_id": "taskheader_2_1",
     "locked": true,
     "schema_version": 3,
     "solution": false,
     "task": false
    }
   },
   "source": [
    "## Task 2.1\n",
    "\n",
    "**[6 Point(s)]**"
   ]
  },
  {
   "cell_type": "markdown",
   "id": "b8773510",
   "metadata": {
    "deletable": false,
    "editable": false,
    "nbgrader": {
     "cell_type": "markdown",
     "checksum": "3982d7b87ec086e6af93b4694d5440a0",
     "grade": false,
     "grade_id": "06_Verteilungen_Hypergeom_Werkstuecke_A_Description0",
     "locked": true,
     "schema_version": 3,
     "solution": false,
     "task": false
    }
   },
   "source": [
    "### Werkstücke a)\n",
    "\n",
    "Das Ziel ist es nun die Wahrscheinlichkeit für die Annahme der Lieferung zu berechnen, wenn die gesamte Lieferung 4 defekte Werkstücke enthält und die entnommenen Werkstücke nach der Überprüfung nicht zurückgelegt werden.\n",
    "Berechnen Sie dazu zunächst die Wahrscheinlichkeit für 0 defekte Teile in der 1. Stichprobe.\n",
    "\n",
    "Speichern Sie Ihre Lösung in der Variablen ```p0InEinsDefekt```."
   ]
  },
  {
   "cell_type": "code",
   "execution_count": 38,
   "id": "ccd4050e",
   "metadata": {
    "ExecuteTime": {
     "end_time": "2023-11-30T21:36:49.095041Z",
     "start_time": "2023-11-30T21:36:49.036008Z"
    },
    "deletable": false,
    "nbgrader": {
     "cell_type": "code",
     "checksum": "35844981031fef4f2c4cd9e75f68b738",
     "grade": false,
     "grade_id": "06_Verteilungen_Hypergeom_Werkstuecke_A",
     "locked": false,
     "schema_version": 3,
     "solution": true,
     "task": false
    }
   },
   "outputs": [
    {
     "data": {
      "text/plain": [
       "0.8118751155570009"
      ]
     },
     "execution_count": 38,
     "metadata": {},
     "output_type": "execute_result"
    }
   ],
   "source": [
    "def kIn5(k:int):\n",
    "    return (math.comb(4,k)*math.comb(100-4,5-k))/math.comb(100,5)\n",
    "\n",
    "def kIn10(k:int):\n",
    "    return (math.comb(3,k)*math.comb(95-3,10-k))/math.comb(95,10)\n",
    "\n",
    "# p0InEinsDefekt=kIn5(k=0)\n",
    "p0InEinsDefekt=stats.hypergeom.pmf(0,100,4,5)\n",
    "p0InEinsDefekt "
   ]
  },
  {
   "cell_type": "code",
   "execution_count": null,
   "id": "6323c4a1",
   "metadata": {
    "ExecuteTime": {
     "end_time": "2023-11-26T14:29:23.817463Z",
     "start_time": "2023-11-26T14:29:23.742597Z"
    },
    "deletable": false,
    "editable": false,
    "nbgrader": {
     "cell_type": "code",
     "checksum": "8a1094094aa30c0b938d94d49877b020",
     "grade": true,
     "grade_id": "test_06_Verteilungen_Hypergeom_Werkstuecke_A0",
     "locked": true,
     "points": 6,
     "schema_version": 3,
     "solution": false,
     "task": false
    }
   },
   "outputs": [],
   "source": []
  },
  {
   "cell_type": "markdown",
   "id": "3678d605",
   "metadata": {
    "deletable": false,
    "editable": false,
    "nbgrader": {
     "cell_type": "markdown",
     "checksum": "f5afdb4047c8744665240a3bd4c821e8",
     "grade": false,
     "grade_id": "taskheader_2_2",
     "locked": true,
     "schema_version": 3,
     "solution": false,
     "task": false
    }
   },
   "source": [
    "## Task 2.2\n",
    "\n",
    "**[6 Point(s)]**"
   ]
  },
  {
   "cell_type": "markdown",
   "id": "38c30e6d",
   "metadata": {
    "deletable": false,
    "editable": false,
    "nbgrader": {
     "cell_type": "markdown",
     "checksum": "4dfbdc700865abaa60dffde48520f0aa",
     "grade": false,
     "grade_id": "06_Verteilungen_Hypergeom_Werkstuecke_B_Description0",
     "locked": true,
     "schema_version": 3,
     "solution": false,
     "task": false
    }
   },
   "source": [
    "### Werkstücke b)\n",
    "\n",
    "Berechnen Sie nun die Wahrscheinlichkeit für genau 1 defektes Teil in der ersten Stichprobe und 0 defekte Teile in der zweiten Stichprobe.\n",
    "\n",
    "Speichern Sie Ihre Lösung in der Variablen ```p1InEinsUnd0InZweiDefekt```."
   ]
  },
  {
   "cell_type": "code",
   "execution_count": 39,
   "id": "f304a458",
   "metadata": {
    "ExecuteTime": {
     "end_time": "2023-11-30T21:36:49.155540Z",
     "start_time": "2023-11-30T21:36:49.100635Z"
    },
    "deletable": false,
    "nbgrader": {
     "cell_type": "code",
     "checksum": "001876c9b88de53c1c19ae3f1e78928e",
     "grade": false,
     "grade_id": "06_Verteilungen_Hypergeom_Werkstuecke_B",
     "locked": false,
     "schema_version": 3,
     "solution": true,
     "task": false
    }
   },
   "outputs": [
    {
     "data": {
      "text/plain": [
       "0.12594278573660017"
      ]
     },
     "execution_count": 39,
     "metadata": {},
     "output_type": "execute_result"
    }
   ],
   "source": [
    "# p1InEinsUnd0InZweiDefekt=kIn5(k=1)*kIn10(k=0)\n",
    "p1InEinsUnd0InZweiDefekt=stats.hypergeom.pmf(1,100,4,5)*stats.hypergeom.pmf(0,95,3,10)\n",
    "p1InEinsUnd0InZweiDefekt"
   ]
  },
  {
   "cell_type": "code",
   "execution_count": null,
   "id": "fd389322",
   "metadata": {
    "ExecuteTime": {
     "end_time": "2023-11-26T14:29:23.988500Z",
     "start_time": "2023-11-26T14:29:23.912499Z"
    },
    "deletable": false,
    "editable": false,
    "nbgrader": {
     "cell_type": "code",
     "checksum": "0ace794cb8e3f54ed05f9c308f2d9ff9",
     "grade": true,
     "grade_id": "test_06_Verteilungen_Hypergeom_Werkstuecke_B0",
     "locked": true,
     "points": 6,
     "schema_version": 3,
     "solution": false,
     "task": false
    }
   },
   "outputs": [],
   "source": []
  },
  {
   "cell_type": "markdown",
   "id": "a524e849",
   "metadata": {
    "deletable": false,
    "editable": false,
    "nbgrader": {
     "cell_type": "markdown",
     "checksum": "6495619b255b074b27b92297bad4b519",
     "grade": false,
     "grade_id": "taskheader_2_3",
     "locked": true,
     "schema_version": 3,
     "solution": false,
     "task": false
    }
   },
   "source": [
    "## Task 2.3\n",
    "\n",
    "**[3 Point(s)]**"
   ]
  },
  {
   "cell_type": "markdown",
   "id": "57762aca",
   "metadata": {
    "deletable": false,
    "editable": false,
    "nbgrader": {
     "cell_type": "markdown",
     "checksum": "fa18b157cd1172e8392495c4afb973ad",
     "grade": false,
     "grade_id": "06_Verteilungen_Hypergeom_Werkstuecke_C_Description0",
     "locked": true,
     "schema_version": 3,
     "solution": false,
     "task": false
    }
   },
   "source": [
    "### Werkstücke c)\n",
    "\n",
    "Berechnen Sie die Wahrscheinlichkeit für die Annahme der Lieferung.\n",
    "\n",
    "Speichern Sie Ihre Lösung in der Variablen ```pAnnahmeA```."
   ]
  },
  {
   "cell_type": "code",
   "execution_count": 40,
   "id": "96cac327",
   "metadata": {
    "ExecuteTime": {
     "end_time": "2023-11-30T21:36:49.236578Z",
     "start_time": "2023-11-30T21:36:49.159683Z"
    },
    "deletable": false,
    "nbgrader": {
     "cell_type": "code",
     "checksum": "55ee06a2ba6de72b10c6f1b1fbac2d59",
     "grade": false,
     "grade_id": "06_Verteilungen_Hypergeom_Werkstuecke_C",
     "locked": false,
     "schema_version": 3,
     "solution": true,
     "task": false
    }
   },
   "outputs": [
    {
     "data": {
      "text/plain": [
       "0.937817901293601"
      ]
     },
     "execution_count": 40,
     "metadata": {},
     "output_type": "execute_result"
    }
   ],
   "source": [
    "# pAnnahmeA=1 - kIn5(k=5) - kIn5(k=4) - kIn5(k=3) - kIn5(k=2) - kIn5(k=1)*(kIn10(k=1) + kIn10(k=2) + kIn10(k=3))\n",
    "pAnnahmeA = p0InEinsDefekt + p1InEinsUnd0InZweiDefekt\n",
    "pAnnahmeA"
   ]
  },
  {
   "cell_type": "code",
   "execution_count": null,
   "id": "4b4dcb73",
   "metadata": {
    "ExecuteTime": {
     "end_time": "2023-11-26T14:29:24.161881Z",
     "start_time": "2023-11-26T14:29:24.079985Z"
    },
    "deletable": false,
    "editable": false,
    "nbgrader": {
     "cell_type": "code",
     "checksum": "0a177f7659ffc75019d345d6d6031a95",
     "grade": true,
     "grade_id": "test_06_Verteilungen_Hypergeom_Werkstuecke_C0",
     "locked": true,
     "points": 3,
     "schema_version": 3,
     "solution": false,
     "task": false
    }
   },
   "outputs": [],
   "source": []
  },
  {
   "cell_type": "markdown",
   "id": "394ec392",
   "metadata": {
    "deletable": false,
    "editable": false,
    "nbgrader": {
     "cell_type": "markdown",
     "checksum": "e021eec975d59374fb5de3099d99078f",
     "grade": false,
     "grade_id": "taskheader_3",
     "locked": true,
     "schema_version": 3,
     "solution": false,
     "task": false
    }
   },
   "source": [
    "# Task 3\n",
    "\n",
    "**[35 Point(s)]**"
   ]
  },
  {
   "cell_type": "markdown",
   "id": "1c44c896",
   "metadata": {
    "deletable": false,
    "editable": false,
    "nbgrader": {
     "cell_type": "markdown",
     "checksum": "e2fdff532a8c048054f0281c5497c29c",
     "grade": false,
     "grade_id": "06_Verteilungen_Norm_T_Rechenaufgaben_A06_Verteilungen_Norm_T_Rechenaufgaben_B06_Verteilungen_Norm_T_Rechenaufgaben_C06_Verteilungen_Norm_T_Rechenaufgaben_D06_Verteilungen_Norm_T_Rechenaufgaben_E06_Verteilungen_Norm_T_Rechenaufgaben_F06_Verteilungen_Norm_T_Rechenaufgaben_G06_Verteilungen_Norm_T_Rechenaufgaben_H_Header",
     "locked": true,
     "schema_version": 3,
     "solution": false,
     "task": false
    }
   },
   "source": [
    "## Rechenaufgaben\n",
    "Sei X normalverteilt mit Mittelwert 5 und Standardabweichung 7.\n"
   ]
  },
  {
   "cell_type": "markdown",
   "id": "6a930c05",
   "metadata": {
    "deletable": false,
    "editable": false,
    "nbgrader": {
     "cell_type": "markdown",
     "checksum": "e8854c5149d2f82ef8c999dfb43d8c01",
     "grade": false,
     "grade_id": "taskheader_3_1",
     "locked": true,
     "schema_version": 3,
     "solution": false,
     "task": false
    }
   },
   "source": [
    "## Task 3.1\n",
    "\n",
    "**[5 Point(s)]**"
   ]
  },
  {
   "cell_type": "markdown",
   "id": "c1bae4c4",
   "metadata": {
    "deletable": false,
    "editable": false,
    "nbgrader": {
     "cell_type": "markdown",
     "checksum": "7545a28d93e06f39f6c6d2ebbb69c8c6",
     "grade": false,
     "grade_id": "06_Verteilungen_Norm_T_Rechenaufgaben_A_Description0",
     "locked": true,
     "schema_version": 3,
     "solution": false,
     "task": false
    }
   },
   "source": [
    "### Rechenaufgaben a)\n",
    "Wie wahrscheinlich ist es, dass X kleiner als 5 ist?\n",
    "\n",
    "Speichern Sie ihre Lösung in der Variable ```p_k_5```."
   ]
  },
  {
   "cell_type": "code",
   "execution_count": 41,
   "id": "fcb6643a",
   "metadata": {
    "ExecuteTime": {
     "end_time": "2023-11-30T21:36:49.305897Z",
     "start_time": "2023-11-30T21:36:49.243443Z"
    },
    "deletable": false,
    "nbgrader": {
     "cell_type": "code",
     "checksum": "2ee26b52e04f5c9cd3359a86498935b1",
     "grade": false,
     "grade_id": "06_Verteilungen_Norm_T_Rechenaufgaben_A",
     "locked": false,
     "schema_version": 3,
     "solution": true,
     "task": false
    }
   },
   "outputs": [
    {
     "data": {
      "text/plain": [
       "0.5"
      ]
     },
     "execution_count": 41,
     "metadata": {},
     "output_type": "execute_result"
    }
   ],
   "source": [
    "from scipy.stats import norm\n",
    "\n",
    "mu=5\n",
    "sigma=7\n",
    "x_a=5\n",
    "\n",
    "z=(x_a-mu)/sigma\n",
    "\n",
    "# norm.cdf((x-mu)/sigma) -> sodass mean = 0 und std_dev = 1\n",
    "p_k_5 = norm.cdf(z)\n",
    "\n",
    "p_k_5"
   ]
  },
  {
   "cell_type": "code",
   "execution_count": null,
   "id": "0f0bc58f",
   "metadata": {
    "ExecuteTime": {
     "end_time": "2023-11-26T14:29:24.334345Z",
     "start_time": "2023-11-26T14:29:24.252304Z"
    },
    "deletable": false,
    "editable": false,
    "nbgrader": {
     "cell_type": "code",
     "checksum": "08eba72347998a0fa82372161c52a256",
     "grade": true,
     "grade_id": "test_06_Verteilungen_Norm_T_Rechenaufgaben_A0",
     "locked": true,
     "points": 5,
     "schema_version": 3,
     "solution": false,
     "task": false
    }
   },
   "outputs": [],
   "source": []
  },
  {
   "cell_type": "markdown",
   "id": "361c8028",
   "metadata": {
    "deletable": false,
    "editable": false,
    "nbgrader": {
     "cell_type": "markdown",
     "checksum": "22ae311cc72cec46a7a19fe02c8d48f5",
     "grade": false,
     "grade_id": "taskheader_3_2",
     "locked": true,
     "schema_version": 3,
     "solution": false,
     "task": false
    }
   },
   "source": [
    "## Task 3.2\n",
    "\n",
    "**[5 Point(s)]**"
   ]
  },
  {
   "cell_type": "markdown",
   "id": "e94f8cc3",
   "metadata": {
    "deletable": false,
    "editable": false,
    "nbgrader": {
     "cell_type": "markdown",
     "checksum": "b623baddc067542911e9e168ff286253",
     "grade": false,
     "grade_id": "06_Verteilungen_Norm_T_Rechenaufgaben_B_Description0",
     "locked": true,
     "schema_version": 3,
     "solution": false,
     "task": false
    }
   },
   "source": [
    "### Rechenaufgaben b)\n",
    "Wie wahrscheinlich ist es, dass X größer als 4 und kleiner als 6 ist?\n",
    "\n",
    "Speichern Sie ihre Lösung in der Variable ```p_4_6```."
   ]
  },
  {
   "cell_type": "code",
   "execution_count": 42,
   "id": "aa7786d2",
   "metadata": {
    "ExecuteTime": {
     "end_time": "2023-11-30T21:36:49.366079Z",
     "start_time": "2023-11-30T21:36:49.311369Z"
    },
    "deletable": false,
    "nbgrader": {
     "cell_type": "code",
     "checksum": "6fbda5b2f41821ad9102d18119e12cc7",
     "grade": false,
     "grade_id": "06_Verteilungen_Norm_T_Rechenaufgaben_B",
     "locked": false,
     "schema_version": 3,
     "solution": true,
     "task": false
    }
   },
   "outputs": [
    {
     "data": {
      "text/plain": [
       "0.1135969936329364"
      ]
     },
     "execution_count": 42,
     "metadata": {},
     "output_type": "execute_result"
    }
   ],
   "source": [
    "x_b1=4\n",
    "x_b2=6\n",
    "# norm.cdf(x (sodass X <= x, loc=mean, scale=std_dev)\n",
    "p_4_6 = norm.cdf(x_b2, mu, sigma) - norm.cdf(x_b1, mu, sigma)\n",
    "\n",
    "p_4_6"
   ]
  },
  {
   "cell_type": "code",
   "execution_count": null,
   "id": "e0281638",
   "metadata": {
    "ExecuteTime": {
     "end_time": "2023-11-26T14:29:24.561728Z",
     "start_time": "2023-11-26T14:29:24.449339Z"
    },
    "deletable": false,
    "editable": false,
    "nbgrader": {
     "cell_type": "code",
     "checksum": "e58ffad52bfad56db8321b4f8879b9ff",
     "grade": true,
     "grade_id": "test_06_Verteilungen_Norm_T_Rechenaufgaben_B0",
     "locked": true,
     "points": 5,
     "schema_version": 3,
     "solution": false,
     "task": false
    }
   },
   "outputs": [],
   "source": []
  },
  {
   "cell_type": "markdown",
   "id": "05c372b5",
   "metadata": {
    "deletable": false,
    "editable": false,
    "nbgrader": {
     "cell_type": "markdown",
     "checksum": "16b8999dd4a169afa805e79e176a9563",
     "grade": false,
     "grade_id": "taskheader_3_3",
     "locked": true,
     "schema_version": 3,
     "solution": false,
     "task": false
    }
   },
   "source": [
    "## Task 3.3\n",
    "\n",
    "**[3 Point(s)]**"
   ]
  },
  {
   "cell_type": "markdown",
   "id": "d9266062",
   "metadata": {
    "deletable": false,
    "editable": false,
    "nbgrader": {
     "cell_type": "markdown",
     "checksum": "18327e67d69330377f1d386243c9d897",
     "grade": false,
     "grade_id": "06_Verteilungen_Norm_T_Rechenaufgaben_C_Description0",
     "locked": true,
     "schema_version": 3,
     "solution": false,
     "task": false
    }
   },
   "source": [
    "### Rechenaufgaben c)\n",
    "Wie wahrscheinlich ist es, dass X größer als 12 ist?\n",
    "\n",
    "Speichern Sie ihre Lösung in der Variable ```p_g_12```."
   ]
  },
  {
   "cell_type": "code",
   "execution_count": 43,
   "id": "1f99f7c3",
   "metadata": {
    "ExecuteTime": {
     "end_time": "2023-11-30T21:36:49.437867Z",
     "start_time": "2023-11-30T21:36:49.376047Z"
    },
    "deletable": false,
    "nbgrader": {
     "cell_type": "code",
     "checksum": "bc2f58fdbe8f2ad41596ba6ffebdce1f",
     "grade": false,
     "grade_id": "06_Verteilungen_Norm_T_Rechenaufgaben_C",
     "locked": false,
     "schema_version": 3,
     "solution": true,
     "task": false
    }
   },
   "outputs": [
    {
     "data": {
      "text/plain": [
       "0.15865525393145707"
      ]
     },
     "execution_count": 43,
     "metadata": {},
     "output_type": "execute_result"
    }
   ],
   "source": [
    "x_c=12\n",
    "p_g_12 = 1 - norm.cdf(x_c, mu, sigma)\n",
    "\n",
    "p_g_12"
   ]
  },
  {
   "cell_type": "code",
   "execution_count": null,
   "id": "885f13a8",
   "metadata": {
    "ExecuteTime": {
     "end_time": "2023-11-26T14:29:24.752132Z",
     "start_time": "2023-11-26T14:29:24.661746Z"
    },
    "deletable": false,
    "editable": false,
    "nbgrader": {
     "cell_type": "code",
     "checksum": "36dc7b0fd0648d9b86b0d7006585e427",
     "grade": true,
     "grade_id": "test_06_Verteilungen_Norm_T_Rechenaufgaben_C0",
     "locked": true,
     "points": 3,
     "schema_version": 3,
     "solution": false,
     "task": false
    }
   },
   "outputs": [],
   "source": []
  },
  {
   "cell_type": "markdown",
   "id": "ea40d1e5",
   "metadata": {
    "deletable": false,
    "editable": false,
    "nbgrader": {
     "cell_type": "markdown",
     "checksum": "43b7b32e9559a79f21540e4b7dbcfb36",
     "grade": false,
     "grade_id": "taskheader_3_4",
     "locked": true,
     "schema_version": 3,
     "solution": false,
     "task": false
    }
   },
   "source": [
    "## Task 3.4\n",
    "\n",
    "**[4 Point(s)]**"
   ]
  },
  {
   "cell_type": "markdown",
   "id": "6336ccae",
   "metadata": {
    "deletable": false,
    "editable": false,
    "nbgrader": {
     "cell_type": "markdown",
     "checksum": "b7f78e50010e4e97d8279f57f54ba3ad",
     "grade": false,
     "grade_id": "06_Verteilungen_Norm_T_Rechenaufgaben_D_Description0",
     "locked": true,
     "schema_version": 3,
     "solution": false,
     "task": false
    }
   },
   "source": [
    "### Rechenaufgaben d)\n",
    "Wie wahrscheinlich ist es, dass X kleiner als 4 oder größer als 6 ist?\n",
    "\n",
    "Speichern Sie ihre Lösung in der Variable ```p_6_4```."
   ]
  },
  {
   "cell_type": "code",
   "execution_count": 44,
   "id": "b5acf849",
   "metadata": {
    "ExecuteTime": {
     "end_time": "2023-11-30T21:36:49.513555Z",
     "start_time": "2023-11-30T21:36:49.444942Z"
    },
    "deletable": false,
    "nbgrader": {
     "cell_type": "code",
     "checksum": "eda5bfe64c1ceb57aed4b4d75316b568",
     "grade": false,
     "grade_id": "06_Verteilungen_Norm_T_Rechenaufgaben_D",
     "locked": false,
     "schema_version": 3,
     "solution": true,
     "task": false
    }
   },
   "outputs": [
    {
     "data": {
      "text/plain": [
       "0.8299898435198835"
      ]
     },
     "execution_count": 44,
     "metadata": {},
     "output_type": "execute_result"
    }
   ],
   "source": [
    "p_6_4 = 1 - p_4_6 - norm.pdf(x_b2, mu, sigma)\n",
    "\n",
    "p_6_4"
   ]
  },
  {
   "cell_type": "code",
   "execution_count": null,
   "id": "c371974a",
   "metadata": {
    "ExecuteTime": {
     "end_time": "2023-11-26T14:29:24.936786Z",
     "start_time": "2023-11-26T14:29:24.845932Z"
    },
    "deletable": false,
    "editable": false,
    "nbgrader": {
     "cell_type": "code",
     "checksum": "401e6a709831c9bbc5be95079aa3462e",
     "grade": true,
     "grade_id": "test_06_Verteilungen_Norm_T_Rechenaufgaben_D0",
     "locked": true,
     "points": 4,
     "schema_version": 3,
     "solution": false,
     "task": false
    }
   },
   "outputs": [],
   "source": []
  },
  {
   "cell_type": "markdown",
   "id": "4ee52fef",
   "metadata": {
    "deletable": false,
    "editable": false,
    "nbgrader": {
     "cell_type": "markdown",
     "checksum": "a8cd2c7b80b6e5c352af50a4e368a054",
     "grade": false,
     "grade_id": "taskheader_3_5",
     "locked": true,
     "schema_version": 3,
     "solution": false,
     "task": false
    }
   },
   "source": [
    "## Task 3.5\n",
    "\n",
    "**[3 Point(s)]**"
   ]
  },
  {
   "cell_type": "markdown",
   "id": "4ae4d27f",
   "metadata": {
    "deletable": false,
    "editable": false,
    "nbgrader": {
     "cell_type": "markdown",
     "checksum": "9392153c089a1833420665113940bb8f",
     "grade": false,
     "grade_id": "06_Verteilungen_Norm_T_Rechenaufgaben_E_Description0",
     "locked": true,
     "schema_version": 3,
     "solution": false,
     "task": false
    }
   },
   "source": [
    "### Rechenaufgaben e)\n",
    "Wie wahrscheinlich ist es, dass X = 5 ist?\n",
    "\n",
    "Speichern Sie ihre Lösung in der Variable ```p_5```."
   ]
  },
  {
   "cell_type": "code",
   "execution_count": 45,
   "id": "5bdc63fa",
   "metadata": {
    "ExecuteTime": {
     "end_time": "2023-11-30T21:36:49.584158Z",
     "start_time": "2023-11-30T21:36:49.520249Z"
    },
    "deletable": false,
    "nbgrader": {
     "cell_type": "code",
     "checksum": "ce5f53b2307912b59651a2b0da3a4642",
     "grade": false,
     "grade_id": "06_Verteilungen_Norm_T_Rechenaufgaben_E",
     "locked": false,
     "schema_version": 3,
     "solution": true,
     "task": false
    }
   },
   "outputs": [
    {
     "data": {
      "text/plain": [
       "0.056991754343061814"
      ]
     },
     "execution_count": 45,
     "metadata": {},
     "output_type": "execute_result"
    }
   ],
   "source": [
    "p_5 = norm.pdf(5, mu, sigma)\n",
    "\n",
    "p_5"
   ]
  },
  {
   "cell_type": "code",
   "execution_count": null,
   "id": "8660f12d",
   "metadata": {
    "ExecuteTime": {
     "end_time": "2023-11-26T14:29:25.104273Z",
     "start_time": "2023-11-26T14:29:25.017043Z"
    },
    "deletable": false,
    "editable": false,
    "nbgrader": {
     "cell_type": "code",
     "checksum": "ecc970e1977839e9741b2d83657442de",
     "grade": true,
     "grade_id": "test_06_Verteilungen_Norm_T_Rechenaufgaben_E0",
     "locked": true,
     "points": 3,
     "schema_version": 3,
     "solution": false,
     "task": false
    }
   },
   "outputs": [],
   "source": []
  },
  {
   "cell_type": "markdown",
   "id": "163dc1ee",
   "metadata": {
    "deletable": false,
    "editable": false,
    "nbgrader": {
     "cell_type": "markdown",
     "checksum": "479a55a61156ca756c26438225668799",
     "grade": false,
     "grade_id": "taskheader_3_6",
     "locked": true,
     "schema_version": 3,
     "solution": false,
     "task": false
    }
   },
   "source": [
    "## Task 3.6\n",
    "\n",
    "**[5 Point(s)]**"
   ]
  },
  {
   "cell_type": "markdown",
   "id": "4acb35a0",
   "metadata": {
    "ExecuteTime": {
     "end_time": "2022-11-27T18:58:46.529472Z",
     "start_time": "2022-11-27T18:58:46.521348Z"
    },
    "deletable": false,
    "editable": false,
    "nbgrader": {
     "cell_type": "markdown",
     "checksum": "f109b8b28a5c683b5794636fb8de4dfd",
     "grade": false,
     "grade_id": "06_Verteilungen_Norm_T_Rechenaufgaben_F_Description0",
     "locked": true,
     "schema_version": 3,
     "solution": false,
     "task": false
    }
   },
   "source": [
    "### Sei nun für die folgenden Teilaufgaben $X \\sim \\chi^2_3 = X_1^2 + X_2^2 + X_3^2$ und $X_1, X_2, X_3$ unabhängige standardnormalverteilte Zufallsvariablen.\n"
   ]
  },
  {
   "cell_type": "markdown",
   "id": "55c61c9f",
   "metadata": {
    "deletable": false,
    "editable": false,
    "nbgrader": {
     "cell_type": "markdown",
     "checksum": "c90a5a46f63f387ffd26e68385fb21fd",
     "grade": false,
     "grade_id": "06_Verteilungen_Norm_T_Rechenaufgaben_F_Description1",
     "locked": true,
     "schema_version": 3,
     "solution": false,
     "task": false
    }
   },
   "source": [
    "### Rechenaufgabe f)\n",
    "Berechnen Sie $F_X(5)$.\n",
    "\n",
    "Speichern Sie ihre Lösung in ```p_chi_5```."
   ]
  },
  {
   "cell_type": "code",
   "execution_count": 46,
   "id": "0dfabd65",
   "metadata": {
    "ExecuteTime": {
     "end_time": "2023-11-30T21:36:49.653317Z",
     "start_time": "2023-11-30T21:36:49.589994Z"
    },
    "deletable": false,
    "nbgrader": {
     "cell_type": "code",
     "checksum": "abb7e56d249b9360c705abd78edfabf9",
     "grade": false,
     "grade_id": "06_Verteilungen_Norm_T_Rechenaufgaben_F",
     "locked": false,
     "schema_version": 3,
     "solution": true,
     "task": false
    }
   },
   "outputs": [
    {
     "data": {
      "text/plain": [
       "0.8282028557032665"
      ]
     },
     "execution_count": 46,
     "metadata": {},
     "output_type": "execute_result"
    }
   ],
   "source": [
    "from scipy.stats import chi2\n",
    "# Degree of Freedom for the Chi-Quadrat-Verteilung\n",
    "dof=3\n",
    "\n",
    "# Possibility, that X <= 5\n",
    "p_chi_5 = chi2.cdf(5, ddof)\n",
    "p_chi_5"
   ]
  },
  {
   "cell_type": "code",
   "execution_count": null,
   "id": "3ffe835c",
   "metadata": {
    "ExecuteTime": {
     "end_time": "2023-11-26T14:29:25.285820Z",
     "start_time": "2023-11-26T14:29:25.199098Z"
    },
    "deletable": false,
    "editable": false,
    "nbgrader": {
     "cell_type": "code",
     "checksum": "0b518dc8eb522ecdce37f213747bec1e",
     "grade": true,
     "grade_id": "test_06_Verteilungen_Norm_T_Rechenaufgaben_F0",
     "locked": true,
     "points": 5,
     "schema_version": 3,
     "solution": false,
     "task": false
    }
   },
   "outputs": [],
   "source": []
  },
  {
   "cell_type": "markdown",
   "id": "a5d2f3aa",
   "metadata": {
    "deletable": false,
    "editable": false,
    "nbgrader": {
     "cell_type": "markdown",
     "checksum": "3d8655149890a48c9357e953f3d22946",
     "grade": false,
     "grade_id": "taskheader_3_7",
     "locked": true,
     "schema_version": 3,
     "solution": false,
     "task": false
    }
   },
   "source": [
    "## Task 3.7\n",
    "\n",
    "**[5 Point(s)]**"
   ]
  },
  {
   "cell_type": "markdown",
   "id": "c85e42d6",
   "metadata": {
    "deletable": false,
    "editable": false,
    "nbgrader": {
     "cell_type": "markdown",
     "checksum": "2c85e407affa40d8990d38ab5d22be83",
     "grade": false,
     "grade_id": "06_Verteilungen_Norm_T_Rechenaufgaben_G_Description0",
     "locked": true,
     "schema_version": 3,
     "solution": false,
     "task": false
    }
   },
   "source": [
    "### Rechenaufgabe g)\n",
    "\n",
    "Berechnen Sie $P(2 \\leq X < 4)$.\n",
    "\n",
    "Speichern Sie ihre Lösung in ```p_chi_2_4```."
   ]
  },
  {
   "cell_type": "code",
   "execution_count": 47,
   "id": "76216823",
   "metadata": {
    "ExecuteTime": {
     "end_time": "2023-11-30T21:36:49.714804Z",
     "start_time": "2023-11-30T21:36:49.659617Z"
    },
    "deletable": false,
    "nbgrader": {
     "cell_type": "code",
     "checksum": "13b36640c070fe17f8baa9737567f300",
     "grade": false,
     "grade_id": "06_Verteilungen_Norm_T_Rechenaufgaben_G",
     "locked": false,
     "schema_version": 3,
     "solution": true,
     "task": false
    }
   },
   "outputs": [
    {
     "data": {
      "text/plain": [
       "0.3109425745217686"
      ]
     },
     "execution_count": 47,
     "metadata": {},
     "output_type": "execute_result"
    }
   ],
   "source": [
    "# Same as above (also CDF)\n",
    "p_chi_2_4 = chi2.cdf(4, dof) - chi2.cdf(2, dof)\n",
    "\n",
    "p_chi_2_4"
   ]
  },
  {
   "cell_type": "code",
   "execution_count": null,
   "id": "c445edc0",
   "metadata": {
    "ExecuteTime": {
     "end_time": "2023-11-26T14:29:25.461380Z",
     "start_time": "2023-11-26T14:29:25.363434Z"
    },
    "deletable": false,
    "editable": false,
    "nbgrader": {
     "cell_type": "code",
     "checksum": "412a7dddc1a084e62902ac45c212afac",
     "grade": true,
     "grade_id": "test_06_Verteilungen_Norm_T_Rechenaufgaben_G0",
     "locked": true,
     "points": 5,
     "schema_version": 3,
     "solution": false,
     "task": false
    }
   },
   "outputs": [],
   "source": []
  },
  {
   "cell_type": "markdown",
   "id": "2d4fe5dd",
   "metadata": {
    "deletable": false,
    "editable": false,
    "nbgrader": {
     "cell_type": "markdown",
     "checksum": "e5475a81a70aa987cb4538ca0958edbb",
     "grade": false,
     "grade_id": "taskheader_3_8",
     "locked": true,
     "schema_version": 3,
     "solution": false,
     "task": false
    }
   },
   "source": [
    "## Task 3.8\n",
    "\n",
    "**[5 Point(s)]**"
   ]
  },
  {
   "cell_type": "markdown",
   "id": "3b23be67",
   "metadata": {
    "deletable": false,
    "editable": false,
    "nbgrader": {
     "cell_type": "markdown",
     "checksum": "351e3aa96b77e81d53044707626af879",
     "grade": false,
     "grade_id": "06_Verteilungen_Norm_T_Rechenaufgaben_H_Description0",
     "locked": true,
     "schema_version": 3,
     "solution": false,
     "task": false
    }
   },
   "source": [
    "### Rechenaufgabe h)\n",
    "\n",
    "Berechnen Sie $\\int_2^5 f_X(u) du$.\n",
    "\n",
    "Speichern Sie ihre Lösung in ```p_chi_2_5```."
   ]
  },
  {
   "cell_type": "code",
   "execution_count": 48,
   "id": "d28ada66",
   "metadata": {
    "ExecuteTime": {
     "end_time": "2023-11-30T21:36:51.187950Z",
     "start_time": "2023-11-30T21:36:51.180640Z"
    },
    "deletable": false,
    "nbgrader": {
     "cell_type": "code",
     "checksum": "b44996215c4fb2f17196141da1215328",
     "grade": false,
     "grade_id": "06_Verteilungen_Norm_T_Rechenaufgaben_H",
     "locked": false,
     "schema_version": 3,
     "solution": true,
     "task": false
    }
   },
   "outputs": [
    {
     "data": {
      "text/plain": [
       "0.40060956017414623"
      ]
     },
     "execution_count": 48,
     "metadata": {},
     "output_type": "execute_result"
    }
   ],
   "source": [
    "p_chi_2_5 = chi2.cdf(5, dof) - chi2.cdf(2, dof)\n",
    "p_chi_2_5"
   ]
  },
  {
   "cell_type": "code",
   "execution_count": null,
   "id": "5a51d966",
   "metadata": {
    "ExecuteTime": {
     "end_time": "2023-11-26T14:29:25.647527Z",
     "start_time": "2023-11-26T14:29:25.548048Z"
    },
    "deletable": false,
    "editable": false,
    "nbgrader": {
     "cell_type": "code",
     "checksum": "6cc308aaf1f35145a180f829297ad9e4",
     "grade": true,
     "grade_id": "test_06_Verteilungen_Norm_T_Rechenaufgaben_H0",
     "locked": true,
     "points": 5,
     "schema_version": 3,
     "solution": false,
     "task": false
    }
   },
   "outputs": [],
   "source": []
  },
  {
   "cell_type": "markdown",
   "id": "9a682fcc",
   "metadata": {
    "deletable": false,
    "editable": false,
    "nbgrader": {
     "cell_type": "markdown",
     "checksum": "c39b084c5e83633781b552d107d6117b",
     "grade": false,
     "grade_id": "taskheader_4",
     "locked": true,
     "schema_version": 3,
     "solution": false,
     "task": false
    }
   },
   "source": [
    "# Task 4\n",
    "\n",
    "**[20 Point(s)]**"
   ]
  },
  {
   "cell_type": "markdown",
   "id": "e980873f",
   "metadata": {
    "deletable": false,
    "editable": false,
    "nbgrader": {
     "cell_type": "markdown",
     "checksum": "aac49c4c778d8e5143a8c41fe78bdbb3",
     "grade": false,
     "grade_id": "06_Verteilungen_Norm_Transformationen_A06_Verteilungen_Norm_Transformationen_B06_Verteilungen_Norm_Transformationen_C06_Verteilungen_Norm_Transformationen_D06_Verteilungen_Norm_Transformationen_E06_Verteilungen_Norm_Transformationen_F06_Verteilungen_Norm_Transformationen_G_Header",
     "locked": true,
     "schema_version": 3,
     "solution": false,
     "task": false
    }
   },
   "source": [
    "## Transformationen\n"
   ]
  },
  {
   "cell_type": "markdown",
   "id": "90e5df61",
   "metadata": {
    "deletable": false,
    "editable": false,
    "nbgrader": {
     "cell_type": "markdown",
     "checksum": "104c533fe5d15a0895458e7892c609d8",
     "grade": false,
     "grade_id": "taskheader_4_1",
     "locked": true,
     "schema_version": 3,
     "solution": false,
     "task": false
    }
   },
   "source": [
    "## Task 4.1\n",
    "\n",
    "**[5 Point(s)]**"
   ]
  },
  {
   "cell_type": "markdown",
   "id": "1e8b85a6",
   "metadata": {
    "deletable": false,
    "editable": false,
    "nbgrader": {
     "cell_type": "markdown",
     "checksum": "06e657c4aaf2f50d4295c89ef23ebbc5",
     "grade": false,
     "grade_id": "06_Verteilungen_Norm_Transformationen_A_Description0",
     "locked": true,
     "schema_version": 3,
     "solution": false,
     "task": false
    }
   },
   "source": [
    "### Transformationen a)\n",
    "Unter ```data/data.csv``` finden Sie einen Datensatz. Dieser enthält Messungen der Mengen in g an Müsli, die beim Einschütten aus der Packung in eine Schüssel auftraten.\n",
    "\n",
    "Laden Sie den Datensatz aus der Datei und speichern sie ihn in der Variable ```data```.\n",
    "Sie können diese danach Plotten, um sich einen Überblick über die Daten zu verschaffen."
   ]
  },
  {
   "cell_type": "code",
   "execution_count": 64,
   "id": "a10163a1",
   "metadata": {
    "ExecuteTime": {
     "end_time": "2023-11-30T21:46:05.135588Z",
     "start_time": "2023-11-30T21:46:04.296691Z"
    },
    "deletable": false,
    "nbgrader": {
     "cell_type": "code",
     "checksum": "661303f05b02c609e3fce2a44dad0848",
     "grade": false,
     "grade_id": "06_Verteilungen_Norm_Transformationen_A",
     "locked": false,
     "points": 5,
     "schema_version": 3,
     "solution": true,
     "task": false
    }
   },
   "outputs": [
    {
     "data": {
      "text/plain": [
       "<function matplotlib.pyplot.show(close=None, block=None)>"
      ]
     },
     "execution_count": 64,
     "metadata": {},
     "output_type": "execute_result"
    },
    {
     "data": {
      "image/png": "[encoded data removed]",
      "text/plain": [
       "<Figure size 640x480 with 1 Axes>"
      ]
     },
     "metadata": {},
     "output_type": "display_data"
    }
   ],
   "source": [
    "# Read .csv file\n",
    "data = pd.read_csv(\"WuS_Hausaufgabe_4_files/data/data.csv\", header=None)\n",
    "\n",
    "# Plot \n",
    "plt.plot(data, marker='*', linestyle='')\n",
    "plt.title('einschüttete Müslimenge')\n",
    "plt.xlabel('Messungen')\n",
    "plt.ylabel('einschüttete Menge (g)')\n",
    "plt.grid(True)\n",
    "plt.show"
   ]
  },
  {
   "cell_type": "code",
   "execution_count": null,
   "id": "9d512ff2",
   "metadata": {
    "ExecuteTime": {
     "end_time": "2023-11-26T14:29:27.139450Z",
     "start_time": "2023-11-26T14:29:26.714785Z"
    },
    "deletable": false,
    "editable": false,
    "nbgrader": {
     "cell_type": "code",
     "checksum": "16fde0c0ea2f9048712c920129635ddf",
     "grade": true,
     "grade_id": "test_06_Verteilungen_Norm_Transformationen_A0",
     "locked": true,
     "points": 5,
     "schema_version": 3,
     "solution": false,
     "task": false
    }
   },
   "outputs": [],
   "source": []
  },
  {
   "cell_type": "markdown",
   "id": "5df44355",
   "metadata": {
    "deletable": false,
    "editable": false,
    "nbgrader": {
     "cell_type": "markdown",
     "checksum": "d5361c0d5a830dd3e02d6a9613828b06",
     "grade": false,
     "grade_id": "taskheader_4_2",
     "locked": true,
     "schema_version": 3,
     "solution": false,
     "task": false
    }
   },
   "source": [
    "## Task 4.2\n",
    "\n",
    "**[3 Point(s)]**"
   ]
  },
  {
   "cell_type": "markdown",
   "id": "f4a60be3",
   "metadata": {
    "deletable": false,
    "editable": false,
    "nbgrader": {
     "cell_type": "markdown",
     "checksum": "f592fe97718c2cae64e6650ce1fe3fe3",
     "grade": false,
     "grade_id": "06_Verteilungen_Norm_Transformationen_B_Description0",
     "locked": true,
     "schema_version": 3,
     "solution": false,
     "task": false
    }
   },
   "source": [
    "### Transformationen b)\n",
    "Um diese Normalverteilung mit anderen vergleichbar zu machen und das Rechnen zu erleichtern, soll sie in eine Standardnormalverteilung transformiert werden.\n",
    "\n",
    "Berechnen Sie dazu zunächst den Mittelwert und die Standardabweichung der Daten und speichern diese in ```mu``` und ```sigma```.\n",
    "\n",
    "Gehen Sie davon aus, dass der Datensatz keine Stichprobe, sondern die Grundgesamtheit repräsentiert."
   ]
  },
  {
   "cell_type": "code",
   "execution_count": 69,
   "id": "3095d9ba",
   "metadata": {
    "ExecuteTime": {
     "end_time": "2023-11-30T21:50:09.009950Z",
     "start_time": "2023-11-30T21:50:08.991090Z"
    },
    "deletable": false,
    "nbgrader": {
     "cell_type": "code",
     "checksum": "4647fab39711ec924affb817aa68161c",
     "grade": false,
     "grade_id": "06_Verteilungen_Norm_Transformationen_B",
     "locked": false,
     "schema_version": 3,
     "solution": true,
     "task": false
    }
   },
   "outputs": [
    {
     "data": {
      "text/plain": [
       "(199.93070630416864, 9.999170641123184)"
      ]
     },
     "execution_count": 69,
     "metadata": {},
     "output_type": "execute_result"
    }
   ],
   "source": [
    "# mu = mean\n",
    "mu = np.mean(data)\n",
    "# sigma = standard deviation\n",
    "sigma = np.std(data)[0]\n",
    "\n",
    "mu, sigma"
   ]
  },
  {
   "cell_type": "code",
   "execution_count": null,
   "id": "a4bffc75",
   "metadata": {
    "ExecuteTime": {
     "end_time": "2023-11-26T14:29:27.248109Z",
     "start_time": "2023-11-26T14:29:27.165120Z"
    },
    "deletable": false,
    "editable": false,
    "nbgrader": {
     "cell_type": "code",
     "checksum": "7e6694889ccb0b9d710693125ccfdff6",
     "grade": true,
     "grade_id": "test_06_Verteilungen_Norm_Transformationen_B0",
     "locked": true,
     "points": 3,
     "schema_version": 3,
     "solution": false,
     "task": false
    }
   },
   "outputs": [],
   "source": []
  },
  {
   "cell_type": "markdown",
   "id": "75fffc56",
   "metadata": {
    "deletable": false,
    "editable": false,
    "nbgrader": {
     "cell_type": "markdown",
     "checksum": "f4e99531363c5fddd9d642e9a0753de7",
     "grade": false,
     "grade_id": "taskheader_4_3",
     "locked": true,
     "schema_version": 3,
     "solution": false,
     "task": false
    }
   },
   "source": [
    "## Task 4.3\n",
    "\n",
    "**[4 Point(s)]**"
   ]
  },
  {
   "cell_type": "markdown",
   "id": "94401e7b",
   "metadata": {
    "deletable": false,
    "editable": false,
    "nbgrader": {
     "cell_type": "markdown",
     "checksum": "9e1d03fadfb30a698eaeb37989674eac",
     "grade": false,
     "grade_id": "06_Verteilungen_Norm_Transformationen_C_Description0",
     "locked": true,
     "schema_version": 3,
     "solution": false,
     "task": false
    }
   },
   "source": [
    "### Transformationen c)\n",
    "Wenden Sie nun Transformationen auf die Daten an, damit diese standardnormalverteilt sind.\n",
    "\n",
    "Speichern Sie die Transformierten Daten in ```data_std_norm```."
   ]
  },
  {
   "cell_type": "code",
   "execution_count": 68,
   "id": "56ebfc21",
   "metadata": {
    "ExecuteTime": {
     "end_time": "2023-11-30T21:49:38.792483Z",
     "start_time": "2023-11-30T21:49:38.769453Z"
    },
    "deletable": false,
    "nbgrader": {
     "cell_type": "code",
     "checksum": "f0f634c0a4c46ba86f32fe24fa82f531",
     "grade": false,
     "grade_id": "06_Verteilungen_Norm_Transformationen_C",
     "locked": false,
     "schema_version": 3,
     "solution": true,
     "task": false
    }
   },
   "outputs": [
    {
     "data": {
      "text/html": [
       "<div>\n",
       "<style scoped>\n",
       "    .dataframe tbody tr th:only-of-type {\n",
       "        vertical-align: middle;\n",
       "    }\n",
       "\n",
       "    .dataframe tbody tr th {\n",
       "        vertical-align: top;\n",
       "    }\n",
       "\n",
       "    .dataframe thead th {\n",
       "        text-align: right;\n",
       "    }\n",
       "</style>\n",
       "<table border=\"1\" class=\"dataframe\">\n",
       "  <thead>\n",
       "    <tr style=\"text-align: right;\">\n",
       "      <th></th>\n",
       "      <th>0</th>\n",
       "    </tr>\n",
       "  </thead>\n",
       "  <tbody>\n",
       "    <tr>\n",
       "      <th>0</th>\n",
       "      <td>-0.762800</td>\n",
       "    </tr>\n",
       "    <tr>\n",
       "      <th>1</th>\n",
       "      <td>0.520028</td>\n",
       "    </tr>\n",
       "    <tr>\n",
       "      <th>2</th>\n",
       "      <td>-0.457945</td>\n",
       "    </tr>\n",
       "    <tr>\n",
       "      <th>3</th>\n",
       "      <td>1.163734</td>\n",
       "    </tr>\n",
       "    <tr>\n",
       "      <th>4</th>\n",
       "      <td>0.269084</td>\n",
       "    </tr>\n",
       "    <tr>\n",
       "      <th>...</th>\n",
       "      <td>...</td>\n",
       "    </tr>\n",
       "    <tr>\n",
       "      <th>99995</th>\n",
       "      <td>-0.525051</td>\n",
       "    </tr>\n",
       "    <tr>\n",
       "      <th>99996</th>\n",
       "      <td>1.212765</td>\n",
       "    </tr>\n",
       "    <tr>\n",
       "      <th>99997</th>\n",
       "      <td>-0.264044</td>\n",
       "    </tr>\n",
       "    <tr>\n",
       "      <th>99998</th>\n",
       "      <td>-0.004573</td>\n",
       "    </tr>\n",
       "    <tr>\n",
       "      <th>99999</th>\n",
       "      <td>-0.573153</td>\n",
       "    </tr>\n",
       "  </tbody>\n",
       "</table>\n",
       "<p>100000 rows × 1 columns</p>\n",
       "</div>"
      ],
      "text/plain": [
       "              0\n",
       "0     -0.762800\n",
       "1      0.520028\n",
       "2     -0.457945\n",
       "3      1.163734\n",
       "4      0.269084\n",
       "...         ...\n",
       "99995 -0.525051\n",
       "99996  1.212765\n",
       "99997 -0.264044\n",
       "99998 -0.004573\n",
       "99999 -0.573153\n",
       "\n",
       "[100000 rows x 1 columns]"
      ]
     },
     "execution_count": 68,
     "metadata": {},
     "output_type": "execute_result"
    }
   ],
   "source": [
    "data_std_norm = (data-mu)/sigma\n",
    "\n",
    "data_std_norm "
   ]
  },
  {
   "cell_type": "code",
   "execution_count": null,
   "id": "4b77239a",
   "metadata": {
    "ExecuteTime": {
     "end_time": "2023-11-26T14:29:27.430625Z",
     "start_time": "2023-11-26T14:29:27.341023Z"
    },
    "deletable": false,
    "editable": false,
    "nbgrader": {
     "cell_type": "code",
     "checksum": "ccf72c3f3f1bdd6f12968915867eaa3d",
     "grade": true,
     "grade_id": "test_06_Verteilungen_Norm_Transformationen_C0",
     "locked": true,
     "points": 4,
     "schema_version": 3,
     "solution": false,
     "task": false
    }
   },
   "outputs": [],
   "source": []
  },
  {
   "cell_type": "markdown",
   "id": "ae7b11f7",
   "metadata": {
    "deletable": false,
    "editable": false,
    "nbgrader": {
     "cell_type": "markdown",
     "checksum": "4efb34b93eb353d2765a01f899ee3c6a",
     "grade": false,
     "grade_id": "taskheader_4_4",
     "locked": true,
     "schema_version": 3,
     "solution": false,
     "task": false
    }
   },
   "source": [
    "## Task 4.4\n",
    "\n",
    "**[2 Point(s)]**"
   ]
  },
  {
   "cell_type": "markdown",
   "id": "bc27817d",
   "metadata": {
    "ExecuteTime": {
     "end_time": "2022-11-25T10:03:46.660332Z",
     "start_time": "2022-11-25T10:03:46.651997Z"
    },
    "deletable": false,
    "editable": false,
    "nbgrader": {
     "cell_type": "markdown",
     "checksum": "da52fb5e66222415b7d837ecb3287f70",
     "grade": false,
     "grade_id": "06_Verteilungen_Norm_Transformationen_D_Description0",
     "locked": true,
     "schema_version": 3,
     "solution": false,
     "task": false
    }
   },
   "source": [
    "### Transformationen d)"
   ]
  },
  {
   "cell_type": "markdown",
   "id": "acfb8eef",
   "metadata": {
    "deletable": false,
    "extended_cell": {
     "choice": "1",
     "options": {},
     "type": "singlechoice"
    },
    "nbgrader": {
     "cell_type": "markdown",
     "checksum": "ca9c11ba240176aa733e585ad5d31ed0",
     "grade": true,
     "grade_id": "06_Verteilungen_Norm_Transformationen_D",
     "locked": false,
     "points": 2,
     "schema_version": 3,
     "solution": true,
     "task": false
    }
   },
   "source": [
    "Gegeben sei eine Normalverteilung mit Mittelwert = 5 und Varianz = 7.\n",
    "Nun wird die Transformation $f(x) = 7 x-5$ angewendet. \n",
    "Was ist der resultierende Mittelwert der Verteilung?\n",
    "\n",
    "- 0\n",
    "- 30\n",
    "- 35\n",
    "- 44\n",
    "- keiner der Obigen"
   ]
  },
  {
   "cell_type": "code",
   "execution_count": null,
   "id": "12f75e18",
   "metadata": {},
   "outputs": [],
   "source": [
    "# f(x) = ax + b\n",
    "# -> new_mean = a*old_mean + b, new_var = a²*old_var"
   ]
  },
  {
   "cell_type": "markdown",
   "id": "6e5efe5b",
   "metadata": {
    "deletable": false,
    "editable": false,
    "nbgrader": {
     "cell_type": "markdown",
     "checksum": "5859242334947ecf01852c72860a5eec",
     "grade": false,
     "grade_id": "taskheader_4_5",
     "locked": true,
     "schema_version": 3,
     "solution": false,
     "task": false
    }
   },
   "source": [
    "## Task 4.5\n",
    "\n",
    "**[2 Point(s)]**"
   ]
  },
  {
   "cell_type": "code",
   "execution_count": null,
   "id": "4a2a5698",
   "metadata": {},
   "outputs": [],
   "source": []
  },
  {
   "cell_type": "markdown",
   "id": "0fec3137",
   "metadata": {
    "deletable": false,
    "extended_cell": {
     "choice": "4",
     "options": {},
     "type": "singlechoice"
    },
    "nbgrader": {
     "cell_type": "markdown",
     "checksum": "a78aef0b81a22457f0dbb99009003b64",
     "grade": true,
     "grade_id": "06_Verteilungen_Norm_Transformationen_E",
     "locked": false,
     "points": 2,
     "schema_version": 3,
     "solution": true,
     "task": false
    }
   },
   "source": [
    "Was ist die resultierende Varianz?\n",
    "\n",
    "- 1\n",
    "- 14\n",
    "- 44\n",
    "- 49\n",
    "- 343\n",
    "- 2401\n",
    "- keine der Obigen"
   ]
  },
  {
   "cell_type": "markdown",
   "id": "1c7e7714",
   "metadata": {
    "deletable": false,
    "editable": false,
    "nbgrader": {
     "cell_type": "markdown",
     "checksum": "271c5d46be5b0865ed0e78c7f94b4ba8",
     "grade": false,
     "grade_id": "taskheader_4_6",
     "locked": true,
     "schema_version": 3,
     "solution": false,
     "task": false
    }
   },
   "source": [
    "## Task 4.6\n",
    "\n",
    "**[2 Point(s)]**"
   ]
  },
  {
   "cell_type": "markdown",
   "id": "fe3bda0b",
   "metadata": {
    "deletable": false,
    "extended_cell": {
     "choice": "4",
     "options": {},
     "type": "singlechoice"
    },
    "nbgrader": {
     "cell_type": "markdown",
     "checksum": "94203a20c56fa0ea7d9fccdd373bb5fe",
     "grade": true,
     "grade_id": "06_Verteilungen_Norm_Transformationen_F",
     "locked": false,
     "points": 2,
     "schema_version": 3,
     "solution": true,
     "task": false
    }
   },
   "source": [
    "Gegeben sei eine Normalverteilung mit Mittelwert = 1 und Varianz = 1.\n",
    "Nun wird die Transformation $f(x) = 3x^2 +1$ angewendet. \n",
    "Was ist der resultierende Mittelwert der Verteilung? \n",
    "\n",
    "- 1\n",
    "- 3\n",
    "- 4\n",
    "- 10\n",
    "- keiner der Obigen"
   ]
  },
  {
   "cell_type": "markdown",
   "id": "f7d031ff",
   "metadata": {
    "deletable": false,
    "editable": false,
    "nbgrader": {
     "cell_type": "markdown",
     "checksum": "bc22d5789c215c31ac1274dfc8e15a72",
     "grade": false,
     "grade_id": "taskheader_4_7",
     "locked": true,
     "schema_version": 3,
     "solution": false,
     "task": false
    }
   },
   "source": [
    "## Task 4.7\n",
    "\n",
    "**[2 Point(s)]**"
   ]
  },
  {
   "cell_type": "markdown",
   "id": "baa478d4",
   "metadata": {
    "deletable": false,
    "extended_cell": {
     "choice": "4",
     "options": {},
     "type": "singlechoice"
    },
    "nbgrader": {
     "cell_type": "markdown",
     "checksum": "c10a8dc1edd1eef2b946cba9e2682bfd",
     "grade": true,
     "grade_id": "06_Verteilungen_Norm_Transformationen_G",
     "locked": false,
     "points": 2,
     "schema_version": 3,
     "solution": true,
     "task": false
    }
   },
   "source": [
    "Was ist die resultierende Varianz? \n",
    "\n",
    "- 1\n",
    "- 3\n",
    "- 4\n",
    "- 10\n",
    "- keiner der Obigen"
   ]
  },
  {
   "cell_type": "markdown",
   "id": "67359a36",
   "metadata": {
    "deletable": false,
    "editable": false,
    "nbgrader": {
     "cell_type": "markdown",
     "checksum": "2d9ef5dbd92d92de76a3e9c6d9de408a",
     "grade": false,
     "grade_id": "taskheader_5",
     "locked": true,
     "schema_version": 3,
     "solution": false,
     "task": false
    }
   },
   "source": [
    "# Task 5\n",
    "\n",
    "**[20 Point(s)]**"
   ]
  },
  {
   "cell_type": "markdown",
   "id": "b86838b0",
   "metadata": {
    "deletable": false,
    "editable": false,
    "nbgrader": {
     "cell_type": "markdown",
     "checksum": "cf80176b74801b9052dbc8d8ceca4bef",
     "grade": false,
     "grade_id": "06_Verteilungen_Norm_Normal_Koelschglas_A06_Verteilungen_Norm_Normal_Koelschglas_B06_Verteilungen_Norm_Normal_Koelschglas_C06_Verteilungen_Norm_Normal_Koelschglas_D_Header",
     "locked": true,
     "schema_version": 3,
     "solution": false,
     "task": false
    }
   },
   "source": [
    "\n",
    "## Füllmenge eines Kölschglases \n",
    "\n",
    "Nehmen Sie an ein Wirt befüllt handelsübliche Kölschgläser mit durchschnittlich $\\mu=$200ml und einer Standardabweichung von $\\sigma=$10ml. Gehen Sie davon aus, dass die Füllmenge normalverteilt ist.  \n"
   ]
  },
  {
   "cell_type": "markdown",
   "id": "f1f7cfe1",
   "metadata": {
    "deletable": false,
    "editable": false,
    "nbgrader": {
     "cell_type": "markdown",
     "checksum": "cdb43e254cb5a8ae84115803cd4f6a89",
     "grade": false,
     "grade_id": "taskheader_5_1",
     "locked": true,
     "schema_version": 3,
     "solution": false,
     "task": false
    }
   },
   "source": [
    "## Task 5.1\n",
    "\n",
    "**[5 Point(s)]**"
   ]
  },
  {
   "cell_type": "markdown",
   "id": "95445ebb",
   "metadata": {
    "deletable": false,
    "editable": false,
    "nbgrader": {
     "cell_type": "markdown",
     "checksum": "8bc37e2618e0f327258ac466bb911c1d",
     "grade": false,
     "grade_id": "06_Verteilungen_Norm_Normal_Koelschglas_A_Description0",
     "locked": true,
     "schema_version": 3,
     "solution": false,
     "task": false
    }
   },
   "source": [
    "### Füllmenge eines Kölschglases a)\n",
    "\n",
    "Wie wahrscheinlich ist es, dass das Glas überläuft, wenn das Glas maximal 220ml fasst? \n",
    "\n",
    "Speichern Sie Ihre Lösung in der Variablen ```pUeberlauf```."
   ]
  },
  {
   "cell_type": "code",
   "execution_count": 71,
   "id": "6c29d77b",
   "metadata": {
    "ExecuteTime": {
     "end_time": "2023-11-30T21:59:34.769339Z",
     "start_time": "2023-11-30T21:59:34.758936Z"
    },
    "deletable": false,
    "nbgrader": {
     "cell_type": "code",
     "checksum": "6748ea7f127adfa20755426a362232db",
     "grade": false,
     "grade_id": "06_Verteilungen_Norm_Normal_Koelschglas_A",
     "locked": false,
     "schema_version": 3,
     "solution": true,
     "task": false
    }
   },
   "outputs": [
    {
     "data": {
      "text/plain": [
       "0.02275013194817921"
      ]
     },
     "execution_count": 71,
     "metadata": {},
     "output_type": "execute_result"
    }
   ],
   "source": [
    "mu = 200\n",
    "sigma = 10\n",
    "\n",
    "# norm.cdf(x, loc=mean, scale=std_dev) : Probability that a glass\n",
    "# is filled to less than or equal (<=) 220ml\n",
    "pUeberlauf=1 - norm.cdf(220, loc=mu, scale=sigma)\n",
    "pUeberlauf"
   ]
  },
  {
   "cell_type": "code",
   "execution_count": null,
   "id": "75163ec5",
   "metadata": {
    "ExecuteTime": {
     "end_time": "2023-11-26T14:29:27.613608Z",
     "start_time": "2023-11-26T14:29:27.528036Z"
    },
    "deletable": false,
    "editable": false,
    "nbgrader": {
     "cell_type": "code",
     "checksum": "5418ff96add51edfb3697b9a07e0a42c",
     "grade": true,
     "grade_id": "test_06_Verteilungen_Norm_Normal_Koelschglas_A0",
     "locked": true,
     "points": 5,
     "schema_version": 3,
     "solution": false,
     "task": false
    }
   },
   "outputs": [],
   "source": []
  },
  {
   "cell_type": "markdown",
   "id": "67e23aa8",
   "metadata": {
    "deletable": false,
    "editable": false,
    "nbgrader": {
     "cell_type": "markdown",
     "checksum": "401dd1bc6124c2cd4f5d5414f2e7f799",
     "grade": false,
     "grade_id": "taskheader_5_2",
     "locked": true,
     "schema_version": 3,
     "solution": false,
     "task": false
    }
   },
   "source": [
    "## Task 5.2\n",
    "\n",
    "**[5 Point(s)]**"
   ]
  },
  {
   "cell_type": "markdown",
   "id": "545b0a85",
   "metadata": {
    "deletable": false,
    "editable": false,
    "nbgrader": {
     "cell_type": "markdown",
     "checksum": "f39f91fb75e39dc799427335c59dd773",
     "grade": false,
     "grade_id": "06_Verteilungen_Norm_Normal_Koelschglas_B_Description0",
     "locked": true,
     "schema_version": 3,
     "solution": false,
     "task": false
    }
   },
   "source": [
    "### Füllmenge eines Kölschglases b)\n",
    "\n",
    "Welche Füllmenge wird in 85% der Fälle nicht überschritten?\n",
    "\n",
    "Speichern Sie Ihre Lösung in der Variablen ```q85Prozent```."
   ]
  },
  {
   "cell_type": "code",
   "execution_count": 73,
   "id": "65a619df",
   "metadata": {
    "ExecuteTime": {
     "end_time": "2023-11-30T22:01:05.819205Z",
     "start_time": "2023-11-30T22:01:05.809295Z"
    },
    "deletable": false,
    "nbgrader": {
     "cell_type": "code",
     "checksum": "8ad3692b426cfa52be463685700a6123",
     "grade": false,
     "grade_id": "06_Verteilungen_Norm_Normal_Koelschglas_B",
     "locked": false,
     "schema_version": 3,
     "solution": true,
     "task": false
    }
   },
   "outputs": [
    {
     "data": {
      "text/plain": [
       "210.3643338949379"
      ]
     },
     "execution_count": 73,
     "metadata": {},
     "output_type": "execute_result"
    }
   ],
   "source": [
    "# norm.ppf(%, loc=mean, scale=std_dev) : calculate z Score for 85%\n",
    "# percentile\n",
    "q85Prozent=norm.ppf(.85, loc=mu, scale=sigma)\n",
    "q85Prozent"
   ]
  },
  {
   "cell_type": "code",
   "execution_count": null,
   "id": "a7713f3b",
   "metadata": {
    "ExecuteTime": {
     "end_time": "2023-11-26T14:29:27.778648Z",
     "start_time": "2023-11-26T14:29:27.697654Z"
    },
    "deletable": false,
    "editable": false,
    "nbgrader": {
     "cell_type": "code",
     "checksum": "8f3162200809a9ac9d358d7985d0db24",
     "grade": true,
     "grade_id": "test_06_Verteilungen_Norm_Normal_Koelschglas_B0",
     "locked": true,
     "points": 5,
     "schema_version": 3,
     "solution": false,
     "task": false
    }
   },
   "outputs": [],
   "source": []
  },
  {
   "cell_type": "markdown",
   "id": "4b449032",
   "metadata": {
    "deletable": false,
    "editable": false,
    "nbgrader": {
     "cell_type": "markdown",
     "checksum": "4883b9f7f16d65aa5b201bec8e51bc37",
     "grade": false,
     "grade_id": "taskheader_5_3",
     "locked": true,
     "schema_version": 3,
     "solution": false,
     "task": false
    }
   },
   "source": [
    "## Task 5.3\n",
    "\n",
    "**[5 Point(s)]**"
   ]
  },
  {
   "cell_type": "markdown",
   "id": "5eff00cd",
   "metadata": {
    "deletable": false,
    "editable": false,
    "nbgrader": {
     "cell_type": "markdown",
     "checksum": "32cbab8e5c63d8cf7245b4592534f8bf",
     "grade": false,
     "grade_id": "06_Verteilungen_Norm_Normal_Koelschglas_C_Description0",
     "locked": true,
     "schema_version": 3,
     "solution": false,
     "task": false
    }
   },
   "source": [
    "### Füllmenge eines Kölschglases c) \n",
    "\n",
    "Wie wahrscheinlich ist es, dass ein Glas exakt 200ml enthält?\n",
    "\n",
    "Speichern Sie Ihre Lösung in der Variablen ```pGenau200ml```."
   ]
  },
  {
   "cell_type": "code",
   "execution_count": 74,
   "id": "c1474842",
   "metadata": {
    "ExecuteTime": {
     "end_time": "2023-11-30T22:04:45.474542Z",
     "start_time": "2023-11-30T22:04:45.461265Z"
    },
    "deletable": false,
    "nbgrader": {
     "cell_type": "code",
     "checksum": "a0ff06ff6cf3e1bfa04cd7b34bec82fe",
     "grade": false,
     "grade_id": "06_Verteilungen_Norm_Normal_Koelschglas_C",
     "locked": false,
     "schema_version": 3,
     "solution": true,
     "task": false
    }
   },
   "outputs": [
    {
     "data": {
      "text/plain": [
       "0.03989422804014327"
      ]
     },
     "execution_count": 74,
     "metadata": {},
     "output_type": "execute_result"
    }
   ],
   "source": [
    "pGenau200ml=norm.pdf(200, loc=mu, scale=sigma)\n",
    "\n",
    "pGenau200ml"
   ]
  },
  {
   "cell_type": "code",
   "execution_count": null,
   "id": "93683f26",
   "metadata": {
    "ExecuteTime": {
     "end_time": "2023-11-26T14:29:27.952200Z",
     "start_time": "2023-11-26T14:29:27.875101Z"
    },
    "deletable": false,
    "editable": false,
    "nbgrader": {
     "cell_type": "code",
     "checksum": "da6e637c321f8a281dbdc850ed0cebe6",
     "grade": true,
     "grade_id": "test_06_Verteilungen_Norm_Normal_Koelschglas_C0",
     "locked": true,
     "points": 5,
     "schema_version": 3,
     "solution": false,
     "task": false
    }
   },
   "outputs": [],
   "source": []
  },
  {
   "cell_type": "markdown",
   "id": "5b90d95c",
   "metadata": {
    "deletable": false,
    "editable": false,
    "nbgrader": {
     "cell_type": "markdown",
     "checksum": "a54c96420c435fe2ae3c710d5c3c7814",
     "grade": false,
     "grade_id": "taskheader_5_4",
     "locked": true,
     "schema_version": 3,
     "solution": false,
     "task": false
    }
   },
   "source": [
    "## Task 5.4\n",
    "\n",
    "**[5 Point(s)]**"
   ]
  },
  {
   "cell_type": "markdown",
   "id": "e38a87a6",
   "metadata": {
    "deletable": false,
    "editable": false,
    "nbgrader": {
     "cell_type": "markdown",
     "checksum": "6a2e2ba2a32169e160996151d55fec67",
     "grade": false,
     "grade_id": "06_Verteilungen_Norm_Normal_Koelschglas_D_Description0",
     "locked": true,
     "schema_version": 3,
     "solution": false,
     "task": false
    }
   },
   "source": [
    "### Füllmenge eines Kölschglases d) \n",
    "\n",
    "Wie müsste sich die mittlere Füllmenge verändern, damit es nur in einem Prozent der Fälle zum Überlaufen kommt?\n",
    "\n",
    "Hier sind einige Hinweise, die Ihnen dabei helfen könnten:\n",
    "- Für welchen Parameter steht die mittlere Füllmenge?\n",
    "- Denken Sie darüber nach, ob sich die Standardabweichung ändert\n",
    "- Schauen Sie in der Vorlesung nach, wie sich eine Normalverteilung verändert, wenn der Erwartungswert sich ändert\n",
    "- Schreiben Sie die Wahrscheinlichkeit die Sie berechnen müssen auf: $P(X ...) = ...$\n",
    "\n",
    "Speichern Sie Ihre Lösung in der Variablen ```myNeu```."
   ]
  },
  {
   "cell_type": "code",
   "execution_count": 76,
   "id": "cbc3b164",
   "metadata": {
    "ExecuteTime": {
     "end_time": "2023-11-30T22:46:28.541401Z",
     "start_time": "2023-11-30T22:46:28.530520Z"
    },
    "deletable": false,
    "nbgrader": {
     "cell_type": "code",
     "checksum": "3e3aa528a0d111bbf3dcfffffdda8a00",
     "grade": false,
     "grade_id": "06_Verteilungen_Norm_Normal_Koelschglas_D",
     "locked": false,
     "schema_version": 3,
     "solution": true,
     "task": false
    }
   },
   "outputs": [
    {
     "data": {
      "text/plain": [
       "196.7365212595916"
      ]
     },
     "execution_count": 76,
     "metadata": {},
     "output_type": "execute_result"
    }
   ],
   "source": [
    "myNeu=norm.ppf(.01, loc=220, scale=sigma)\n",
    "myNeu"
   ]
  },
  {
   "cell_type": "code",
   "execution_count": null,
   "id": "b9a391bf",
   "metadata": {
    "ExecuteTime": {
     "end_time": "2023-11-26T14:29:28.103671Z",
     "start_time": "2023-11-26T14:29:28.033952Z"
    },
    "deletable": false,
    "editable": false,
    "nbgrader": {
     "cell_type": "code",
     "checksum": "7529a356e11bcc79cc7b35162b1654bb",
     "grade": true,
     "grade_id": "test_06_Verteilungen_Norm_Normal_Koelschglas_D0",
     "locked": true,
     "points": 5,
     "schema_version": 3,
     "solution": false,
     "task": false
    }
   },
   "outputs": [],
   "source": []
  },
  {
   "cell_type": "markdown",
   "id": "5c7c75df",
   "metadata": {
    "deletable": false,
    "editable": false,
    "nbassignment": {
     "type": "footer"
    },
    "nbgrader": {
     "cell_type": "markdown",
     "checksum": "cdcd06061eec2aa10d70111b04b8dcb0",
     "grade": false,
     "grade_id": "template_3a671bc7_0",
     "locked": true,
     "schema_version": 3,
     "solution": false,
     "task": false
    }
   },
   "source": [
    "### Viel Erfolg\n",
    "\n",
    "<div class=\"alert alert-block alert-warning\">\n",
    "    <h3>Erinnerungen: Ausführbar? Errors Raised? Abgegeben?</h3>\n",
    "    <ul>\n",
    "        <li>Stellen Sie sicher, dass sich Ihr Code ausführen lässt. Code der nicht läuft kann nicht automatisch bewertet werden.</li>\n",
    "        <li><strong>Bevor Sie abgeben:</strong> Klicken Sie im Menü auf Kernel > Restart &amp; Run All (oder den <i class=\"fa-forward fa\"></i> Button in der Toolbar). Damit führen Sie das Notebook linear von oben nach unten aus. Alle Fehler die dann auftreten, treten auch beim Bewerten auf.</li>\n",
    "        <li>Entfernen Sie die <b>raise NotImplementedError()</b>, wenn Sie eine Aufgabe bearbeiten. Ansonsten wird beim Bewerten eine Exception ausgelöst, die uns sagt, dass Sie die Aufgabe nicht bearbeitet haben!</li>\n",
    "        <li>Vergessen Sie nicht Ihr bearbeitetes Notebook zu <strong>abzugeben (<a href=\"../../tree#assignments\">Assignment Tab / Submit Button</a>)</strong>! Einfaches Speichern reicht nicht und wird nicht bewertet.</li>\n",
    "    </ul>\n",
    "</div>"
   ]
  },
  {
   "cell_type": "markdown",
   "id": "bbd4f852",
   "metadata": {
    "deletable": false,
    "editable": false,
    "name": "timestamp_cell"
   },
   "source": [
    "\n",
    "<div class=\"alert alert-block alert-danger\">\n",
    "    Timestamp:\n",
    "    <h1>2023-11-30 23:52:21.670362 CET</h1>\n",
    "</div>\n"
   ]
  }
 ],
 "metadata": {
  "kernelspec": {
   "display_name": "Python 3 (ipykernel)",
   "language": "python",
   "name": "python3"
  },
  "language_info": {
   "codemirror_mode": {
    "name": "ipython",
    "version": 3
   },
   "file_extension": ".py",
   "mimetype": "text/x-python",
   "name": "python",
   "nbconvert_exporter": "python",
   "pygments_lexer": "ipython3",
   "version": "3.10.11"
  }
 },
 "nbformat": 4,
 "nbformat_minor": 5
}
