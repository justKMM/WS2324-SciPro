{
 "cells": [
  {
   "cell_type": "markdown",
   "id": "82394654-277c-4fef-a1d2-001531df027f",
   "metadata": {},
   "source": [
    "<div style = \"display:flex; flex-direction:row; flex-wrap:wrap\">\n",
    "    <p style = \"flex:1 0; width:50%; text-align:left\">2023WS_12632</p>\n",
    "    <p style = \"flex:1 0; width:50%; text-align:right\">25. Oktober 2023</p>\n",
    "</div>\n",
    "\n",
    "### <strong>Assignment:</strong> Lennard-Jones Equation\n",
    "<hr>\n",
    "<br>\n",
    "\n",
    "<strong>Goal:</strong>Improve the first solution involving the Lennard-Jones equation [1]\n",
    "\n",
    "<strong>Equation:</strong>\n",
    "#### \\begin{equation}\n",
    "    V_{LJ}(r) = 4\\epsilon\\left[(\\frac{\\sigma}{r})^{12} - (\\frac{\\sigma}{r})^6\\right]\n",
    "\\end{equation}\n",
    "<hr>"
   ]
  },
  {
   "cell_type": "markdown",
   "id": "90023b0a-4fa2-464c-81fe-2908673a1ecf",
   "metadata": {},
   "source": [
    "To calculate nonbonded potential energy between two atoms we utilise the Lennard-Jones Equation, which is portrayed through this Python function:"
   ]
  },
  {
   "cell_type": "code",
   "execution_count": null,
   "id": "bbe52828-9d99-47d7-964f-355407730925",
   "metadata": {},
   "outputs": [],
   "source": [
    "def lennardJones(distance:float, epsilon:float, sigma:float) -> float:\n",
    "    return 4 * epsilon * ((sigma / distance) ** 12 - (sigma / distance) ** 6)"
   ]
  },
  {
   "cell_type": "markdown",
   "id": "4a128564-785e-4c55-9962-4a5e444628e4",
   "metadata": {},
   "source": [
    "For this exercise, atom-dependent variables are already specified, with"
   ]
  },
  {
   "cell_type": "code",
   "execution_count": null,
   "id": "da8818ff-5eef-4384-b63e-7d455b206475",
   "metadata": {},
   "outputs": [],
   "source": [
    "epsilon = 0.0103 #eV\n",
    "sigma = 3.40 #Å"
   ]
  }
 ],
 "metadata": {
  "kernelspec": {
   "display_name": "Python 3 (ipykernel)",
   "language": "python",
   "name": "python3"
  },
  "language_info": {
   "codemirror_mode": {
    "name": "ipython",
    "version": 3
   },
   "file_extension": ".py",
   "mimetype": "text/x-python",
   "name": "python",
   "nbconvert_exporter": "python",
   "pygments_lexer": "ipython3",
   "version": "3.11.5"
  }
 },
 "nbformat": 4,
 "nbformat_minor": 5
}
