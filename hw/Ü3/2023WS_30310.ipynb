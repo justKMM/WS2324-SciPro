{
 "cells": [
  {
   "cell_type": "markdown",
   "id": "4cf109e4-b81d-4d74-bfaf-b73b157c87f9",
   "metadata": {},
   "source": [
    "2023WS_30310"
   ]
  },
  {
   "cell_type": "markdown",
   "id": "979be5cb-0134-43b0-91eb-fe4feabe0f69",
   "metadata": {},
   "source": [
    "#### Assignment 3\n",
    "# Lennard-Jones Equation v.2"
   ]
  },
  {
   "cell_type": "markdown",
   "id": "9d3e50a0-e88c-4850-9696-d530b44a082c",
   "metadata": {},
   "source": [
    "### Goal:\n",
    "The function from the first assignment to the Lennard-Jones Equation will be improved. <br>\n",
    "All solutions will be provided with signifcant figures by using build-in functions."
   ]
  },
  {
   "cell_type": "markdown",
   "id": "0e0da4a9-c284-4060-a6f5-893925833f92",
   "metadata": {},
   "source": [
    "### Problem and Input Data:"
   ]
  },
  {
   "cell_type": "markdown",
   "id": "15f29e91-d272-4173-99fe-7846826b310e",
   "metadata": {},
   "source": [
    "#### The Lennard-Jones Equation:"
   ]
  },
  {
   "cell_type": "markdown",
   "id": "a810148d-7e0e-45d9-b37c-b1d2c3cf159d",
   "metadata": {},
   "source": [
    "$$\\Large V_{LJ}(r) = 4\\varepsilon \\left[\\left(\\frac{\\sigma}{r}\\right)^{12} - \\left(\\frac{\\sigma}{r}\\right)^{6}\\right]$$"
   ]
  },
  {
   "cell_type": "markdown",
   "id": "3e54fb12-2265-436b-a2d1-4e7d6d0e3fda",
   "metadata": {},
   "source": [
    "This equation is used to calculate the motion of atoms and how they influence each other. $V_{LJ}(r)$ descripes the potential energy of the interaction in $eV$. $\\epsilon$ (in $eV$) and $\\sigma$ (in Å) are atom-dependent parameters, $r$ is the distance beetwen the atoms in Å$^{[1]}$."
   ]
  },
  {
   "cell_type": "markdown",
   "id": "95b7d171-130e-45ec-8dc9-abc9c6d5f4e4",
   "metadata": {},
   "source": [
    "#### Argon specific values: $^{[2]}$\n",
    "$\\epsilon$ = 0.0103 $eV$ <br>\n",
    "$\\sigma$ = 3.40 Å"
   ]
  },
  {
   "cell_type": "markdown",
   "id": "a1b2964a-e330-42d5-9c09-deaca38ca69c",
   "metadata": {},
   "source": [
    "---"
   ]
  },
  {
   "cell_type": "markdown",
   "id": "3a7022fd-80b5-4f45-9847-ea65aa3db2f0",
   "metadata": {},
   "source": [
    "### Task 1\n",
    "With the Lennard-Jones equation, the nonbonded potential energy between two argon atoms in diffrent scenarios will be calculated. The distances in the diffrent scenarios, all in Å, are: 3.0, 3.4, 3.8, 4.2, 4.6 and 5.0."
   ]
  },
  {
   "cell_type": "markdown",
   "id": "389dd5b8-5e6b-4f74-a6b4-13b285d0fe59",
   "metadata": {},
   "source": [
    "#### Functions:"
   ]
  },
  {
   "cell_type": "markdown",
   "id": "480e7fd5-c899-4e1d-b100-a9abd7e13f23",
   "metadata": {},
   "source": [
    "This function implements the Lennard-Jones equation and will be used to calculate the energy in the diffrent scenarios. <br>\n",
    "The numbers 4, 6 and 12 in the function have all infinite significant figures $^{[3]}$."
   ]
  },
  {
   "cell_type": "code",
   "execution_count": 1,
   "id": "d83e274c-8d9c-4f7c-82bd-60fb2081b6a8",
   "metadata": {},
   "outputs": [],
   "source": [
    "def lennard_jones_equation(r: float, sigma: float, epsilon: float) -> float:\n",
    "    '''Implements the Lennard-Jones Equation.\n",
    "\n",
    "    Parameters:\n",
    "        r (float): distance between atoms in Å\n",
    "        sigma (float): atom-specific in Å\n",
    "        epsilon (float): atom-specific in eV\n",
    "\n",
    "    Return:\n",
    "        nonbonded potential energy in eV as a float\n",
    "    '''\n",
    "    return 4*epsilon * ((sigma/r)**12 - (sigma/r)**6)"
   ]
  },
  {
   "cell_type": "markdown",
   "id": "70456b4d-956f-4859-b808-41dc40f9fed7",
   "metadata": {},
   "source": [
    "The unit of the result from the Lennard-Jones equation ist $eV$. To provide the result in $J$, this function is used to convert the units:"
   ]
  },
  {
   "cell_type": "code",
   "execution_count": 2,
   "id": "8d08360c-ebb4-491a-8f29-8c701b89e375",
   "metadata": {},
   "outputs": [],
   "source": [
    "def convert_eV_to_J(eV: float) -> float:\n",
    "    '''Converts energy from eV into J\n",
    "\n",
    "    Parameter:\n",
    "        eV (float): energy in eV\n",
    "\n",
    "    Return:\n",
    "        energy in J\n",
    "    '''\n",
    "    return eV * 1.602176487E-19"
   ]
  },
  {
   "cell_type": "markdown",
   "id": "c8218b48-efa4-499c-98c0-06b2dadefb1f",
   "metadata": {},
   "source": [
    "To do so, the function multiplies the value in $eV$ with 1.602176487E-19$^{[4]}$."
   ]
  },
  {
   "cell_type": "markdown",
   "id": "5d234e2a-6e22-49dc-82e7-444cba0feca7",
   "metadata": {},
   "source": [
    "#### Argon specific values:\n",
    "$\\epsilon$ and $\\sigma$ will be set to the values of Argon once:"
   ]
  },
  {
   "cell_type": "code",
   "execution_count": 3,
   "id": "c01fb8fd-dd24-41c9-9360-1a23e1b8b155",
   "metadata": {},
   "outputs": [],
   "source": [
    "# Argon specific values\n",
    "epsilon = 0.0103  # eV\n",
    "sigma = 3.40  # Å"
   ]
  },
  {
   "cell_type": "markdown",
   "id": "875c9834-dcf9-4f59-a42e-947b65f92650",
   "metadata": {},
   "source": [
    "#### Calculation:\n",
    "With the two functions and the specific values, the potential energy for all scenarios is calculated:"
   ]
  },
  {
   "cell_type": "markdown",
   "id": "5810f3b0-3a18-4ddb-a5ee-ec5a36f1788d",
   "metadata": {},
   "source": [
    "##### distance = 3.0 Å"
   ]
  },
  {
   "cell_type": "code",
   "execution_count": 4,
   "id": "e49cd7ea-097c-47e7-9fd7-211daced039a",
   "metadata": {},
   "outputs": [],
   "source": [
    "pot_energy_eV_r_3_0 = lennard_jones_equation(r=3.0, sigma=sigma, epsilon=epsilon)  # in eV\n",
    "pot_energy_r_3_0 = convert_eV_to_J(eV=pot_energy_eV_r_3_0)  # in J"
   ]
  },
  {
   "cell_type": "markdown",
   "id": "f2ddf0a6-952a-4ead-9c20-56b4e0409b56",
   "metadata": {},
   "source": [
    "##### distance = 3.4 Å"
   ]
  },
  {
   "cell_type": "code",
   "execution_count": 5,
   "id": "edf813e2-e001-405e-80c4-d1ca98e1e9bc",
   "metadata": {},
   "outputs": [],
   "source": [
    "pot_energy_eV_r_3_4 = lennard_jones_equation(r=3.4, sigma=sigma, epsilon=epsilon)  # in eV\n",
    "pot_energy_r_3_4 = convert_eV_to_J(eV=pot_energy_eV_r_3_4)  # in J"
   ]
  },
  {
   "cell_type": "markdown",
   "id": "141f6d98-a0fa-46eb-ad8d-b3e5881750e7",
   "metadata": {},
   "source": [
    "##### distance = 3.8 Å"
   ]
  },
  {
   "cell_type": "code",
   "execution_count": 6,
   "id": "7ba14661-fe54-4fbe-a41b-1fde2a098b91",
   "metadata": {},
   "outputs": [],
   "source": [
    "pot_energy_eV_r_3_8 = lennard_jones_equation(r=3.8, sigma=sigma, epsilon=epsilon)  # in eV\n",
    "pot_energy_r_3_8 = convert_eV_to_J(eV=pot_energy_eV_r_3_8)  # in J"
   ]
  },
  {
   "cell_type": "markdown",
   "id": "2c23dc03-b5d9-4209-995e-154cc74daeff",
   "metadata": {},
   "source": [
    "##### distance = 4.2 Å"
   ]
  },
  {
   "cell_type": "code",
   "execution_count": 7,
   "id": "193acb94-65ea-420d-a2d5-317097170bcc",
   "metadata": {},
   "outputs": [],
   "source": [
    "pot_energy_eV_r_4_2 = lennard_jones_equation(r=4.2, sigma=sigma, epsilon=epsilon)  # in eV\n",
    "pot_energy_r_4_2 = convert_eV_to_J(eV=pot_energy_eV_r_4_2)  # in J"
   ]
  },
  {
   "cell_type": "markdown",
   "id": "e1a41fac-7ef7-4ec7-86af-ce71d20806e6",
   "metadata": {},
   "source": [
    "##### distance = 4.6 Å"
   ]
  },
  {
   "cell_type": "code",
   "execution_count": 8,
   "id": "ecdc30fb-6491-4fdb-8c9e-8b82b0349800",
   "metadata": {},
   "outputs": [],
   "source": [
    "pot_energy_eV_r_4_6 = lennard_jones_equation(r=4.6, sigma=sigma, epsilon=epsilon)  # in eV\n",
    "pot_energy_r_4_6 = convert_eV_to_J(eV=pot_energy_eV_r_4_6)  # in J"
   ]
  },
  {
   "cell_type": "markdown",
   "id": "78e81344-5a63-4894-9af6-e7670b39ecc8",
   "metadata": {},
   "source": [
    "##### distance = 5.0 Å"
   ]
  },
  {
   "cell_type": "code",
   "execution_count": 9,
   "id": "e29a5dc5-05e0-4521-a230-61e2949a4e3f",
   "metadata": {},
   "outputs": [],
   "source": [
    "pot_energy_eV_r_5_0 = lennard_jones_equation(r=5.0, sigma=sigma, epsilon=epsilon)  # in eV\n",
    "pot_energy_r_5_0 = convert_eV_to_J(eV=pot_energy_eV_r_5_0)  # in J"
   ]
  },
  {
   "cell_type": "markdown",
   "id": "fce0adf1-eec7-4b3c-86dd-db691116365d",
   "metadata": {},
   "source": [
    "#### Results:\n",
    "The results are given with the correct amount of significant figures, which is two significant figures due to the values of the distance$^{[5]}$."
   ]
  },
  {
   "cell_type": "markdown",
   "id": "b26a2a70-b72f-44eb-8589-24b2605da3eb",
   "metadata": {},
   "source": [
    "To round to the correct amount of significant figures, the build-in feature to round of f-Strings is used."
   ]
  },
  {
   "cell_type": "code",
   "execution_count": 10,
   "id": "0f01e50f-2a56-4cae-96ed-f9630dbe549a",
   "metadata": {},
   "outputs": [
    {
     "name": "stdout",
     "output_type": "stream",
     "text": [
      "The potential energy for the two argon atoms with diffrent distances can be read in the table below:\n",
      "\n",
      "distance: 3.0 Å  potential energy: 1.6E-20 J\n",
      "distance: 3.4 Å  potential energy: 0.0 J\n",
      "distance: 3.8 Å  potential energy: -1.6E-21 J\n",
      "distance: 4.2 Å  potential energy: -1.3E-21 J\n",
      "distance: 4.6 Å  potential energy: -9.0E-22 J\n",
      "distance: 5.0 Å  potential energy: -5.9E-22 J\n"
     ]
    }
   ],
   "source": [
    "print(f\"The potential energy for the two argon atoms with diffrent distances can be read in the table below:\\n\")\n",
    "print(f\"distance: 3.0 Å  potential energy: {pot_energy_r_3_0:.1E} J\")\n",
    "print(f\"distance: 3.4 Å  potential energy: {pot_energy_r_3_4:.2} J\")\n",
    "print(f\"distance: 3.8 Å  potential energy: {pot_energy_r_3_8:.1E} J\")\n",
    "print(f\"distance: 4.2 Å  potential energy: {pot_energy_r_4_2:.1E} J\")\n",
    "print(f\"distance: 4.6 Å  potential energy: {pot_energy_r_4_6:.1E} J\")\n",
    "print(f\"distance: 5.0 Å  potential energy: {pot_energy_r_5_0:.1E} J\")"
   ]
  },
  {
   "cell_type": "markdown",
   "id": "55b25e3f-cc68-4b61-b1d1-7aa9e19dc632",
   "metadata": {},
   "source": [
    "Argon atoms with $\\epsilon$ = 0.0103 $eV$ and $\\sigma$ = 3.40 Å have a nonbonded potential energy of:"
   ]
  },
  {
   "cell_type": "markdown",
   "id": "bb8e3155-be4a-498f-98fc-01477e7e7059",
   "metadata": {},
   "source": [
    "| distance in Å | potential Energy in $J$ | \r\n",
    "| --- | -- \n",
    "| 3.0 | 7.9e2 | \n",
    "| 3.4 | 0.0 | \n",
    "| 3.8 | -1.6e-21 | \n",
    "| 4.2 | -1.3e-21 | \n",
    "| 4.6 | -9.0e-22 | \n",
    "| 5.0 | -5.9e-22 |  | |"
   ]
  },
  {
   "cell_type": "markdown",
   "id": "f6c72b31-e8d0-4200-80bf-27175d9d8844",
   "metadata": {},
   "source": [
    "### Task 2\n",
    "Point out the lowest energy from Task 1."
   ]
  },
  {
   "cell_type": "markdown",
   "id": "a5bef115-50d8-42b2-910a-1774fa315748",
   "metadata": {},
   "source": [
    "To find out the loweset energy by using a function, the distances and the energy will be stored in two lists with same indices:"
   ]
  },
  {
   "cell_type": "code",
   "execution_count": 11,
   "id": "b18cbcc4-67c9-4b4a-b840-a37824bb2a1c",
   "metadata": {},
   "outputs": [],
   "source": [
    "distances = [3.0, 3.0, 3.8, 4.2, 4.6, 5.0]  # all in Å\n",
    "energies = [7.9e2, 0.0, -1.6e-21, -1.3e-21, -9.0e-22, -5.9e-22]  # all in J"
   ]
  },
  {
   "cell_type": "markdown",
   "id": "2e7b4d4e-9509-4111-9632-99a5d41ef1fb",
   "metadata": {},
   "source": [
    "With the min()-function, the lowest energy will getting selected. Also, the index of the enrgy in the list is stored:"
   ]
  },
  {
   "cell_type": "code",
   "execution_count": 12,
   "id": "b997d702-bf74-496a-9d02-0d6643657532",
   "metadata": {},
   "outputs": [],
   "source": [
    "lowest_energy = min(energies)\n",
    "index_lowest_energy = energies.index(lowest_energy)"
   ]
  },
  {
   "cell_type": "markdown",
   "id": "91b93645-eb34-4725-b7c9-1456ef4cbcde",
   "metadata": {},
   "source": [
    "Due to the same indicies in both lists, the lowest energy and its distance can be groupt together."
   ]
  },
  {
   "cell_type": "code",
   "execution_count": 13,
   "id": "302b7197-3c0e-43e4-bf94-a9b214f4f6d0",
   "metadata": {},
   "outputs": [
    {
     "name": "stdout",
     "output_type": "stream",
     "text": [
      "The lowest energy from Task 1 is -1.6e-21 J which happens at a distance of 3.8 Å\n"
     ]
    }
   ],
   "source": [
    "print(f\"The lowest energy from Task 1 is {energies[index_lowest_energy]} J \\\n",
    "which happens at a distance of {distances[index_lowest_energy]} Å\")"
   ]
  },
  {
   "cell_type": "markdown",
   "id": "a143d8c1-48f0-4f2f-867c-2acc2f5bfe25",
   "metadata": {},
   "source": [
    "The lowest potential energy between two argon atoms with distances from Task 1 is -1.6e-21 $J$ at a distance of 3.8 Å"
   ]
  },
  {
   "cell_type": "markdown",
   "id": "5b558012-4dff-4f4c-8ed7-611f5695974d",
   "metadata": {},
   "source": [
    "### References"
   ]
  },
  {
   "cell_type": "markdown",
   "id": "93be6ae6-108f-40c9-861d-fcfe1f6ea87f",
   "metadata": {},
   "source": [
    "[1] Wikipedia contributors, \"Lennard-Jones potential.\" Wikimedia Foundation. Last modified August 30, 2023. https://en.wikipedia.org/wiki/Lennard-Jones_potential. Last accessed on September 12, 2023. <br>\n",
    "[2] Rahman A. (1964) Correlations in the motion of atoms in liquid argon. Physical Review. 136(2A), A405-A411. https://doi.org/10.1103/PhysRev.136.A405.<br>\n",
    "[3] Karl N. Kirschner. Scientific Programming with Python Assignment: Lennard-Jones Equation v.2. October 23, 2023. <br>\n",
    "[4] UnitJuggler. Pierre Di Marco. https://www.unitjuggler.com/energy-umwandeln-von-eV-nach-J.html Last accessed on October 02, 2023. <br>\n",
    "[5] Carter, A. R. (2013) Evolution of the Significant Figure Rules. Physics Teacher. 51, 340-343. https://doi.org/10.1119/1.4818368."
   ]
  }
 ],
 "metadata": {
  "kernelspec": {
   "display_name": "Python 3 (ipykernel)",
   "language": "python",
   "name": "python3"
  },
  "language_info": {
   "codemirror_mode": {
    "name": "ipython",
    "version": 3
   },
   "file_extension": ".py",
   "mimetype": "text/x-python",
   "name": "python",
   "nbconvert_exporter": "python",
   "pygments_lexer": "ipython3",
   "version": "3.11.5"
  }
 },
 "nbformat": 4,
 "nbformat_minor": 5
}
