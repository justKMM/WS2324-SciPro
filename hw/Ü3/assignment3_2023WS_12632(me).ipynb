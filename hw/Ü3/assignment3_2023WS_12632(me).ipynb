{
 "cells": [
  {
   "cell_type": "markdown",
   "id": "82394654-277c-4fef-a1d2-001531df027f",
   "metadata": {},
   "source": [
    "<div style = \"display:flex; flex-direction:row; flex-wrap:wrap\">\n",
    "    <p style = \"flex:1 0; width:50%; text-align:left\">2023WS_12632</p>\n",
    "    <p style = \"flex:1 0; width:50%; text-align:right\">25. Oktober 2023</p>\n",
    "</div>\n",
    "\n",
    "### <strong>Assignment:</strong> Lennard-Jones Equation\n",
    "<hr>\n",
    "<br>\n",
    "\n",
    "<strong>Goal: </strong> Improve the first solution involving the Lennard-Jones equation [1]\n",
    "\n",
    "<strong>Equation:</strong>\n",
    "#### \\begin{equation}\n",
    "    V_{LJ}(r) = 4\\epsilon\\left[(\\frac{\\sigma}{r})^{12} - (\\frac{\\sigma}{r})^6\\right]\n",
    "\\end{equation}\n",
    "<hr>"
   ]
  },
  {
   "cell_type": "markdown",
   "id": "7de4153c-4ba8-48f7-b362-edf9b47acaef",
   "metadata": {},
   "source": [
    "<strong style = \"font-size:20px\">Task 1</strong>\n",
    "<hr>"
   ]
  },
  {
   "cell_type": "markdown",
   "id": "90023b0a-4fa2-464c-81fe-2908673a1ecf",
   "metadata": {},
   "source": [
    "To calculate nonbonded potential energy between two atoms we utilise the Lennard-Jones Equation <strong>[1][2]</strong>, which is portrayed through this Python function:"
   ]
  },
  {
   "cell_type": "code",
   "execution_count": 96,
   "id": "bbe52828-9d99-47d7-964f-355407730925",
   "metadata": {},
   "outputs": [],
   "source": [
    "def lennardJones(distance:float, epsilon:float, sigma:float) -> float:\n",
    "    return 4 * epsilon * ((sigma / distance) ** 12 - (sigma / distance) ** 6)"
   ]
  },
  {
   "cell_type": "markdown",
   "id": "4a128564-785e-4c55-9962-4a5e444628e4",
   "metadata": {},
   "source": [
    "For this exercise, atom-dependent parameters are already specified, with $\\epsilon$ = 0.0103 eV (electronvolts) and $\\sigma$ = 3.40 Å (Angstrom) being those of the Argon atoms."
   ]
  },
  {
   "cell_type": "code",
   "execution_count": 97,
   "id": "da8818ff-5eef-4384-b63e-7d455b206475",
   "metadata": {},
   "outputs": [],
   "source": [
    "epsilon = 0.0103 #eV\n",
    "sigma = 3.40 #Å"
   ]
  },
  {
   "cell_type": "markdown",
   "id": "4206787f-3d97-42da-9f1d-def900fa07a9",
   "metadata": {},
   "source": [
    "And the assessed distances are, according to the assignment: 3.0, 3.4, 3.8, 4.2, 4.6, 5.0 Angstrom. As we can see from the equation and the provided variables, the number of significant figures of all of the cases are the lowest ammount of significant figures of participating numbers <strong>[4]</strong>, and r has 2 (in all 6 cases), $\\epsilon$ has 3, $\\sigma$ has 3, while 4, 6, 12 all have infinite many significant figures.<br><br>\n",
    "---> In all 6 cases we have <strong>2 significant figures</strong>."
   ]
  },
  {
   "cell_type": "markdown",
   "id": "43ddbf3e-7b70-45b2-8986-6261332dedde",
   "metadata": {},
   "source": [
    "<strong>First case: </strong> r = 3.0 Å"
   ]
  },
  {
   "cell_type": "code",
   "execution_count": 98,
   "id": "49c963e0-81e6-4cca-9a2a-43e159a01672",
   "metadata": {},
   "outputs": [
    {
     "name": "stdout",
     "output_type": "stream",
     "text": [
      "The potential energy for the Argon atoms is -0.003670619384348032 electronvolts.\n"
     ]
    }
   ],
   "source": [
    "potential_energy_argon_1 = lennardJones(distance = 3.0, \n",
    "                                      epsilon = epsilon, \n",
    "                                      sigma = sigma)\n",
    "print(f\"The potential energy for the Argon atoms is {potential_energy_argon} electronvolts.\")"
   ]
  },
  {
   "cell_type": "markdown",
   "id": "13ae7a51-e769-44dc-9352-ccd60ce563f0",
   "metadata": {},
   "source": [
    "We then have to convert the result from electronvolts into international standard unit for energy, which is Joules <strong>[3]</strong>, which can be done by multiplying the result with 1.602176565E-19 <strong>[3]</strong>"
   ]
  },
  {
   "cell_type": "code",
   "execution_count": 99,
   "id": "73fe0866-bd45-4739-b74c-9ae1715b302e",
   "metadata": {},
   "outputs": [],
   "source": [
    "potential_energy_argon_1 *= 1.602176565E-19"
   ]
  },
  {
   "cell_type": "markdown",
   "id": "47e7fcb4-13da-4e85-bf71-21681ecee1d4",
   "metadata": {},
   "source": [
    "Considering the number of significant figures mentioned above (which is 2), we will then have to format this result into a suitable decimal format using Python's built-in String formatting functionalities:"
   ]
  },
  {
   "cell_type": "code",
   "execution_count": 100,
   "id": "0b84cf0f-07e8-4f0c-a088-5f28cefbccc1",
   "metadata": {},
   "outputs": [
    {
     "name": "stdout",
     "output_type": "stream",
     "text": [
      "The potential energy for the Argon atoms is 1.6e-20 Joules.\n"
     ]
    }
   ],
   "source": [
    "print(f\"The potential energy for the Argon atoms is {potential_energy_argon_1:.2g} Joules.\")"
   ]
  },
  {
   "cell_type": "code",
   "execution_count": null,
   "id": "be9aaa98-a3cf-4942-a212-3287dc7127ee",
   "metadata": {},
   "outputs": [],
   "source": []
  },
  {
   "cell_type": "markdown",
   "id": "95f08129-acdc-4f8e-8336-0a7d326d366d",
   "metadata": {},
   "source": [
    "We then have to do the same for the other 5 cases:<br><br>\n",
    "<strong>Second case: </strong> r = 3.4 Å"
   ]
  },
  {
   "cell_type": "code",
   "execution_count": 101,
   "id": "56f651b1-4c66-4803-8eae-58c607ac47d7",
   "metadata": {},
   "outputs": [
    {
     "name": "stdout",
     "output_type": "stream",
     "text": [
      "The potential energy for the Argon atoms is 0 Joules.\n"
     ]
    }
   ],
   "source": [
    "potential_energy_argon_2 = lennardJones(distance = 3.4, \n",
    "                                      epsilon = epsilon, \n",
    "                                      sigma = sigma)\n",
    "print(f\"The potential energy for the Argon atoms is {potential_energy_argon_2 * 1.602176565E-19:.2g} Joules.\")"
   ]
  },
  {
   "cell_type": "code",
   "execution_count": null,
   "id": "3cb42e82-92ea-4920-8788-3a2769e14219",
   "metadata": {},
   "outputs": [],
   "source": []
  },
  {
   "cell_type": "markdown",
   "id": "53bc1b37-33d6-4bad-941d-29ef5f810782",
   "metadata": {},
   "source": [
    "<strong>Third case: </strong> r = 3.8 Å"
   ]
  },
  {
   "cell_type": "code",
   "execution_count": 102,
   "id": "c4c42c7f-f4e8-4441-83dc-9228feedf0d8",
   "metadata": {},
   "outputs": [
    {
     "name": "stdout",
     "output_type": "stream",
     "text": [
      "The potential energy for the Argon atoms is -1.6e-21 Joules.\n"
     ]
    }
   ],
   "source": [
    "potential_energy_argon_3 = lennardJones(distance = 3.8, \n",
    "                                      epsilon = epsilon, \n",
    "                                      sigma = sigma)\n",
    "print(f\"The potential energy for the Argon atoms is {potential_energy_argon_3 * 1.602176565E-19:.2g} Joules.\")"
   ]
  },
  {
   "cell_type": "code",
   "execution_count": null,
   "id": "a26949bb-9f7d-4655-82ae-b0104a1fba20",
   "metadata": {},
   "outputs": [],
   "source": []
  },
  {
   "cell_type": "markdown",
   "id": "594aa650-a865-4f24-833c-7b4a8aab93c5",
   "metadata": {},
   "source": [
    "<strong>Fourth case: </strong> r = 4.2 Å"
   ]
  },
  {
   "cell_type": "code",
   "execution_count": 103,
   "id": "8d7576de-f5d3-4a2f-be46-0b3595517749",
   "metadata": {},
   "outputs": [
    {
     "name": "stdout",
     "output_type": "stream",
     "text": [
      "The potential energy for the Argon atoms is -1.3e-21 Joules.\n"
     ]
    }
   ],
   "source": [
    "potential_energy_argon_4 = lennardJones(distance = 4.2, \n",
    "                                      epsilon = epsilon, \n",
    "                                      sigma = sigma)\n",
    "print(f\"The potential energy for the Argon atoms is {potential_energy_argon_4 * 1.602176565E-19:.2g} Joules.\")"
   ]
  },
  {
   "cell_type": "code",
   "execution_count": null,
   "id": "47eda7f4-079e-4352-a177-910025b1ed5c",
   "metadata": {},
   "outputs": [],
   "source": []
  },
  {
   "cell_type": "markdown",
   "id": "05ddbdf1-f0a1-4483-ae55-9cd324c47b00",
   "metadata": {},
   "source": [
    "<strong>Fifth case: </strong> r = 4.6 Å"
   ]
  },
  {
   "cell_type": "code",
   "execution_count": 104,
   "id": "f2bcfc03-6877-400c-bb6b-7e3e8bc09f36",
   "metadata": {},
   "outputs": [
    {
     "name": "stdout",
     "output_type": "stream",
     "text": [
      "The potential energy for the Argon atoms is -9e-22 Joules.\n"
     ]
    }
   ],
   "source": [
    "potential_energy_argon_5 = lennardJones(distance = 4.6, \n",
    "                                      epsilon = epsilon, \n",
    "                                      sigma = sigma)\n",
    "print(f\"The potential energy for the Argon atoms is {potential_energy_argon_5 * 1.602176565E-19:.2g} Joules.\")"
   ]
  },
  {
   "cell_type": "code",
   "execution_count": null,
   "id": "dbc5deec-72d1-4f1b-8816-95a9ab484837",
   "metadata": {},
   "outputs": [],
   "source": []
  },
  {
   "cell_type": "markdown",
   "id": "dbaaa47e-0822-4df2-827c-347213d3dcdd",
   "metadata": {},
   "source": [
    "<strong>Six case: </strong> r = 5.0 Å"
   ]
  },
  {
   "cell_type": "code",
   "execution_count": 105,
   "id": "bac893c9-e276-4884-933e-1ae0554d08c8",
   "metadata": {},
   "outputs": [
    {
     "name": "stdout",
     "output_type": "stream",
     "text": [
      "The potential energy for the Argon atoms is -5.9e-22 Joules.\n"
     ]
    }
   ],
   "source": [
    "potential_energy_argon_6 = lennardJones(distance = 5.0, \n",
    "                                      epsilon = epsilon, \n",
    "                                      sigma = sigma)\n",
    "print(f\"The potential energy for the Argon atoms is {potential_energy_argon_6 * 1.602176565E-19:.2g} Joules.\")"
   ]
  },
  {
   "cell_type": "code",
   "execution_count": null,
   "id": "46cbcda6-0d04-4a5d-9cd7-9d1fbe4b9dac",
   "metadata": {},
   "outputs": [],
   "source": []
  },
  {
   "cell_type": "markdown",
   "id": "116a3221-b4da-46fb-8141-50c76db05b9a",
   "metadata": {},
   "source": [
    "<strong style = \"font-size:20px\">Task 2</strong>\n",
    "<hr>"
   ]
  },
  {
   "cell_type": "markdown",
   "id": "0355792f-04eb-4165-8cda-ca3c417999d3",
   "metadata": {},
   "source": [
    "To identify the lowest energy value and it's corresponding distance, we will utilise one of Python's built-in function \"min()\", which queries through the dict and find the key-value pair with the minimum key:"
   ]
  },
  {
   "cell_type": "code",
   "execution_count": 106,
   "id": "341d7c83-828d-4fd0-8f28-16af15a2b005",
   "metadata": {},
   "outputs": [],
   "source": [
    "def find_min_key(values:dict):\n",
    "    return min(values, key=lambda k:k)"
   ]
  },
  {
   "cell_type": "markdown",
   "id": "e1b5e01b-5c43-4fd6-af57-2abba07a6eb6",
   "metadata": {},
   "source": [
    "Then we have to create a dictionary of potential energy values and their respective distances, call the function on that dict, and print the key-value pair out (with 2 significant figures):"
   ]
  },
  {
   "cell_type": "code",
   "execution_count": 107,
   "id": "11f06ca6-8bbe-497d-bad0-66a932f642ee",
   "metadata": {},
   "outputs": [
    {
     "name": "stdout",
     "output_type": "stream",
     "text": [
      "The potential energy for the Argon atoms is -1.6e-21 Joules, when the atoms have distance equals 3.8.\n"
     ]
    }
   ],
   "source": [
    "# Dictionary of potential energy values and their respective distances\n",
    "energy_values = {potential_energy_argon_1:3.0, \n",
    "                 potential_energy_argon_2:3.4, \n",
    "                 potential_energy_argon_3:3.8, \n",
    "                 potential_energy_argon_4:4.2, \n",
    "                 potential_energy_argon_5:4.6, \n",
    "                 potential_energy_argon_6:5.0}\n",
    "\n",
    "# Calling the function on the dict\n",
    "minimum_key = find_min_key(energy_values)\n",
    "\n",
    "# Print out the result\n",
    "print(f\"The potential energy for the Argon atoms is {minimum_key * 1.602176565E-19:.2g} Joules, when the atoms have distance equals {energy_values[minimum_key]}.\")"
   ]
  },
  {
   "cell_type": "markdown",
   "id": "47f9977d-df1c-447b-bb27-22d074abd68f",
   "metadata": {},
   "source": [
    "<hr>\n",
    "\n",
    "## References:\n",
    "[1] A. Rahman. Published 1964, October 19. Correlations in the Motion of Atoms in Liquid Argon. Argonne National Laboratory, Argonne, Illinois.<br>\n",
    "[2] J.B. Adams, in Encyclopedia of Materials: Science and Technology, 2001. Bonding Energy Models - Lennard-Jones potential. https://www.sciencedirect.com/science/article/pii/B0080431526001467 <br>\n",
    "[3] Taylor, B.N. & Thompson, A. (Year). NIST Special Publication 811: Guide for the Use of the International System of Units (SI). National Institute of Standards and Technology. <br>\n",
    "[4] Morral, J. Significant Figures and False Precision. J. Phase Equilib. Diffus. 39, 367–368 (2018). https://doi.org/10.1007/s11669-018-0662-z"
   ]
  }
 ],
 "metadata": {
  "kernelspec": {
   "display_name": "Python 3 (ipykernel)",
   "language": "python",
   "name": "python3"
  },
  "language_info": {
   "codemirror_mode": {
    "name": "ipython",
    "version": 3
   },
   "file_extension": ".py",
   "mimetype": "text/x-python",
   "name": "python",
   "nbconvert_exporter": "python",
   "pygments_lexer": "ipython3",
   "version": "3.11.5"
  }
 },
 "nbformat": 4,
 "nbformat_minor": 5
}
