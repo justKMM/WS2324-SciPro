{
 "cells": [
  {
   "cell_type": "markdown",
   "source": [
    "# Assignment: Lennard-Jones Equation\n",
    "Author: 2023WS_54616\n",
    "Date: 2023.10.29\n",
    "Goal: Implement the Lennard-Jones Equation to identify the nonbonded potential between two argon atoms.\n",
    "Task 1: Calculate the nonbonded potential between two argon atoms that are 3.0, 3.4, 3.8, 4.2, 4.6 and 5.0 Å apart,\n",
    "&nbsp;&nbsp;&nbsp;&nbsp;&nbsp;&nbsp; &nbsp;&nbsp;&nbsp;&nbsp; using the Lennard-Jones Equation.\n",
    "Task 2: Identify the lowest energy value and its corresponding distance from task 1's results."
   ],
   "metadata": {
    "collapsed": false
   },
   "id": "a6a158324310c140"
  },
  {
   "cell_type": "markdown",
   "source": [
    "# The Lennard-Jones Equation\n",
    "The following equation is used to approximate how atoms are attracted and repulsed form each other [1].\n",
    "<br>The symbols in the function have the following meanings:\n",
    ">$\\varepsilon$ is the dispersion energy,<br>\n",
    ">$\\sigma$ is the size of the particle,<br>\n",
    ">$r$ distance between two interacting particles,<br>\n",
    ">$V_{LJ}(r)$ is the intermolecular potential energy [1]."
   ],
   "metadata": {
    "collapsed": false
   },
   "id": "f39e99d636ffdb2"
  },
  {
   "cell_type": "markdown",
   "source": [
    "$$V_{LJ}(r)=4\\varepsilon\\left[ \\left( \\frac{\\sigma}{r} \\right)^{12} - \\left( \\frac{\\sigma}{r} \\right)^6 \\right]$$"
   ],
   "metadata": {
    "collapsed": false
   },
   "id": "74ad054dcefe55ca"
  },
  {
   "cell_type": "markdown",
   "source": [
    "# TASK 1"
   ],
   "metadata": {
    "collapsed": false
   },
   "id": "5efeb51a77cbe88c"
  },
  {
   "cell_type": "code",
   "execution_count": 23,
   "outputs": [],
   "source": [
    "def lennard_jones_equation(epsilon:float, sigma:float, r:float) -> float:\n",
    "    \"\"\"\n",
    "    This function calculates the potential energy of two atoms making use of the lennard jones equation.\n",
    "    Args:\n",
    "        epsilon (float): dispersion energy of an atom in electronvolt.\n",
    "        sigma (float): size of a particle in Angström.\n",
    "        r (float): distance between two interacting particles in Angström.\n",
    "    Returns:\n",
    "        potential_energy (float): the calculated potential energy in electron volt.\n",
    "    \"\"\"\n",
    "    potential_energy = 4 * epsilon *  ((sigma/r)**12 - (sigma/r)**6)\n",
    " \n",
    "    return potential_energy"
   ],
   "metadata": {
    "collapsed": false,
    "ExecuteTime": {
     "end_time": "2023-10-29T18:33:17.656394600Z",
     "start_time": "2023-10-29T18:33:17.637370500Z"
    }
   },
   "id": "cc4b2f36a60d2439"
  },
  {
   "cell_type": "code",
   "execution_count": 24,
   "outputs": [],
   "source": [
    "def convert_electron_volt_to_joules(electron_volt: float) -> float:\n",
    "    \"\"\"\n",
    "    Args:\n",
    "        electron_volt (float): any electron volt value.\n",
    "    Returns:\n",
    "        joules (float): the converted electron volt value in Joules.\n",
    "    \"\"\"\n",
    "    joules = electron_volt / (6.241506363094*10**18)\n",
    "    return joules"
   ],
   "metadata": {
    "collapsed": false,
    "ExecuteTime": {
     "end_time": "2023-10-29T18:33:17.657896300Z",
     "start_time": "2023-10-29T18:33:17.639881200Z"
    }
   },
   "id": "1149939fa3227d35"
  },
  {
   "cell_type": "markdown",
   "source": [
    "# Function explanation\n",
    "The above function uses the conversion constant $6,241506363094*10^{18}$ [2] to convert the inserted eV value into Joules."
   ],
   "metadata": {
    "collapsed": false
   },
   "id": "a67e35bb5bb4148a"
  },
  {
   "cell_type": "code",
   "execution_count": 25,
   "outputs": [],
   "source": [
    "# Initialization\n",
    "sigma_argon = 3.4\n",
    "epsilon_argon = 0.0103\n",
    "r_argon = [3.0, 3.4, 3.8, 4.2, 4.6, 5.0]"
   ],
   "metadata": {
    "collapsed": false,
    "ExecuteTime": {
     "end_time": "2023-10-29T18:33:17.677434Z",
     "start_time": "2023-10-29T18:33:17.649393400Z"
    }
   },
   "id": "ba7b1260f9d437e2"
  },
  {
   "cell_type": "markdown",
   "source": [
    "# Code explanation\n",
    "The codeblock above initializes the variables,<br>\n",
    "which will later be need to calculate the potential energy of two argon atoms:\n",
    "- a list with the distance as r_argon\n",
    "- 0.0103 eV as epsilon\n",
    "- 3.5 Å as sigma. [3]"
   ],
   "metadata": {
    "collapsed": false
   },
   "id": "9a86cb40135f3b01"
  },
  {
   "cell_type": "code",
   "execution_count": 26,
   "outputs": [],
   "source": [
    "def calculate_potential_energy(distances: list[float]) -> dict[float,float]:\n",
    "    \"\"\"\n",
    "    This function calculates the potential energy  of two argon atoms, which are different distances apart.\n",
    "    Therefore, it calls the lennard_jones_equation function and the convert_electron_volt_to_joules function.\n",
    "    Args:\n",
    "        distances (list[float]): a list of distances in Å\n",
    "    Returns:\n",
    "        potential_energies_joules (dict[float,float]): a dictionary of distances in Å \n",
    "        and their potential energies in Joules\n",
    "    \"\"\"\n",
    "    potential_energies_joules = {}\n",
    "    for i in range(len(distances)):\n",
    "        distance = distances[i]\n",
    "        \n",
    "        energy_electron_volt = lennard_jones_equation(epsilon_argon,sigma_argon,distance)\n",
    "        energy_joule = convert_electron_volt_to_joules(energy_electron_volt)\n",
    "\n",
    "        potential_energies_joules[distance] = energy_joule\n",
    "    return potential_energies_joules"
   ],
   "metadata": {
    "collapsed": false,
    "ExecuteTime": {
     "end_time": "2023-10-29T18:33:17.694425300Z",
     "start_time": "2023-10-29T18:33:17.659904100Z"
    }
   },
   "id": "dd710d380c191ea7"
  },
  {
   "cell_type": "code",
   "execution_count": 27,
   "outputs": [
    {
     "name": "stdout",
     "output_type": "stream",
     "text": [
      "The potential energy for the distance 3.0 Å is 1.6e-20 J.\n",
      "The potential energy for the distance 3.4 Å is 0.0e+00 J.\n",
      "The potential energy for the distance 3.8 Å is -1.6e-21 J.\n",
      "The potential energy for the distance 4.2 Å is -1.3e-21 J.\n",
      "The potential energy for the distance 4.6 Å is -9.0e-22 J.\n",
      "The potential energy for the distance 5.0 Å is -5.9e-22 J.\n"
     ]
    }
   ],
   "source": [
    "results = calculate_potential_energy(r_argon)\n",
    "for distance,potential_energy in results.items():\n",
    "    print(f\"The potential energy for the distance {distance} \\u00C5 is {potential_energy:.1e} J.\")"
   ],
   "metadata": {
    "collapsed": false,
    "ExecuteTime": {
     "end_time": "2023-10-29T18:33:17.696442800Z",
     "start_time": "2023-10-29T18:33:17.669429100Z"
    }
   },
   "id": "8b4790af3392b436"
  },
  {
   "cell_type": "markdown",
   "source": [
    "# TASK 2"
   ],
   "metadata": {
    "collapsed": false
   },
   "id": "f87c0f5bd4c9d211"
  },
  {
   "cell_type": "code",
   "execution_count": 28,
   "outputs": [],
   "source": [
    "def find_the_lowest_energy(potential_energy: dict[float,float], ) -> dict[float,float]:\n",
    "    \"\"\"\n",
    "    This function determines the lowest potential energy and\n",
    "    creates a dictionary in case there are two or more equal min values.\n",
    "    Args: \n",
    "        potential_energy (dict[float,float]): a list of potential_energies in Joules\n",
    "    Returns:\n",
    "        \n",
    "    \"\"\"\n",
    "    energies = potential_energy.values()\n",
    "    lowest_energy = min(energies)\n",
    "    key_energy = {}\n",
    "    \n",
    "    for key in potential_energy:\n",
    "        if potential_energy[key] == lowest_energy:\n",
    "            key_energy[key] = lowest_energy\n",
    "    \n",
    "    return key_energy"
   ],
   "metadata": {
    "collapsed": false,
    "ExecuteTime": {
     "end_time": "2023-10-29T18:33:17.696442800Z",
     "start_time": "2023-10-29T18:33:17.679584800Z"
    }
   },
   "id": "e0ca25ebc6847251"
  },
  {
   "cell_type": "code",
   "execution_count": 29,
   "outputs": [
    {
     "name": "stdout",
     "output_type": "stream",
     "text": [
      "The lowest potential energy is -1.6e-21 J at a distance of 3.8 Å.\n"
     ]
    }
   ],
   "source": [
    "lowest_energy = find_the_lowest_energy(results)\n",
    "for key,value in lowest_energy.items():\n",
    "    print(f\"The lowest potential energy is {value:.1e} J at a distance of {key} \\u00C5.\")"
   ],
   "metadata": {
    "collapsed": false,
    "ExecuteTime": {
     "end_time": "2023-10-29T18:33:17.697430700Z",
     "start_time": "2023-10-29T18:33:17.687233200Z"
    }
   },
   "id": "15e43daee4cbeb14"
  },
  {
   "cell_type": "markdown",
   "source": [
    "# The result\n",
    "The lowest potential energy is found at a distance of 3.8 Å.\n",
    "The potential energy is $-1.6e-21$ J for two argon atoms."
   ],
   "metadata": {
    "collapsed": false
   },
   "id": "5f02dc40a373f688"
  },
  {
   "cell_type": "markdown",
   "source": [
    "# References\n",
    "[1] Wikipedia contributors, \"Lennard-Jones potential\", Wikimedia Foundation. Last modified on 30 August 2023. [https://en.wikipedia.org/wiki/Lennard-Jones_potential](https://en.wikipedia.org/wiki/Lennard-Jones_potential). Accessed on October 02, 2023. <br>\n",
    "[2] Heim, Gunter: Joule in Elektronenvolt, in: Rhetos Lexikon der spekulativen Philosophie. Aachen. https://www.rhetos.de/html/lex/elektronenvolt_in_joule.htm. Accessed on October 02, 2023.<br>\n",
    "[3] Rahman. (1964). Correlations in the Motion of Atoms in Liquid Argon. Physical Review, 136(2A), A405–A411. https://doi.org/10.1103/PhysRev.136.A405\n"
   ],
   "metadata": {
    "collapsed": false
   },
   "id": "2564981f9ca06fe7"
  }
 ],
 "metadata": {
  "kernelspec": {
   "display_name": "Python 3",
   "language": "python",
   "name": "python3"
  },
  "language_info": {
   "codemirror_mode": {
    "name": "ipython",
    "version": 2
   },
   "file_extension": ".py",
   "mimetype": "text/x-python",
   "name": "python",
   "nbconvert_exporter": "python",
   "pygments_lexer": "ipython2",
   "version": "2.7.6"
  }
 },
 "nbformat": 4,
 "nbformat_minor": 5
}
