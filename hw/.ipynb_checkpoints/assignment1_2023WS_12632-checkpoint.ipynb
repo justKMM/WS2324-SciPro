{
 "cells": [
  {
   "cell_type": "markdown",
   "id": "552066f8-e9d2-4d7b-8fb1-d1b83cca75fd",
   "metadata": {},
   "source": [
    "2023WS_12632\n",
    "\n",
    "### <strong>Assignment:</strong> Lennard-Jones Equation\n",
    "<hr>\n",
    "<br>\n",
    "\n",
    "### \\begin{equation}\n",
    "    V_{LJ}(r) = 4\\epsilon\\left[(\\frac{\\sigma}{r})^{12} - (\\frac{\\sigma}{r})^6\\right]\n",
    "\\end{equation}\n",
    "<hr>"
   ]
  },
  {
   "cell_type": "markdown",
   "id": "c737fad5-4290-4eb9-9f36-c960770a48fe",
   "metadata": {},
   "source": [
    "<strong style = \"font-size:20px\">Task 1</strong>\n",
    "<hr>"
   ]
  },
  {
   "cell_type": "markdown",
   "id": "0d901913-6c4f-4392-aff8-44a2ffcd8937",
   "metadata": {},
   "source": [
    "To calculate nonbonded potential energy between two atoms we utilise the Lennard-Jones Equation, which is portrayed through this Python function:"
   ]
  },
  {
   "cell_type": "code",
   "execution_count": 1,
   "id": "cf1b08c6-c85d-499f-8c08-daf20a068d93",
   "metadata": {},
   "outputs": [],
   "source": [
    "def lennardJones(distance:float, epsilon:float, sigma:float) -> float:\n",
    "    return 4 * epsilon * ((sigma / distance) ** 12 - (sigma / distance) ** 6)"
   ]
  },
  {
   "cell_type": "markdown",
   "id": "c3657a1b-7eae-4292-8eb4-de3d85baeb12",
   "metadata": {},
   "source": [
    "For this exercise, the variables are already specified: "
   ]
  },
  {
   "cell_type": "code",
   "execution_count": 2,
   "id": "c15b6cde-2239-42fc-8b4e-1bdb28cf9cb0",
   "metadata": {},
   "outputs": [],
   "source": [
    "distance = 3.5 #Å\n",
    "epsilon = 0.0103 #eV\n",
    "sigma = 3.40 #Å"
   ]
  },
  {
   "cell_type": "markdown",
   "id": "0855ea2d-204e-4a1a-ae63-2365556481c0",
   "metadata": {},
   "source": [
    "The function will then be called to calculate the potential energy between the two atoms"
   ]
  },
  {
   "cell_type": "code",
   "execution_count": 3,
   "id": "383bf531-fac1-4530-8295-d7705f34df4c",
   "metadata": {},
   "outputs": [],
   "source": [
    "potential_energy_argon = lennardJones(distance = distance, \n",
    "                                      epsilon = epsilon, \n",
    "                                      sigma = sigma)"
   ]
  },
  {
   "cell_type": "markdown",
   "id": "929bf4df-2292-4cf1-95fe-7fd7ca7ef28b",
   "metadata": {},
   "source": [
    "Then we'll need to convert the result into the \"International Unit for Energy\" (Joules):"
   ]
  },
  {
   "cell_type": "code",
   "execution_count": 4,
   "id": "4a362d9f-6fe7-4ffd-a8af-8285cee263cf",
   "metadata": {},
   "outputs": [
    {
     "name": "stdout",
     "output_type": "stream",
     "text": [
      "The potential energy for the Argon atom is -8.86E-22 Joules.\n"
     ]
    }
   ],
   "source": [
    "print(f\"The potential energy for the Argon atom is {potential_energy_argon * 1.602176565E-19:.2E} Joules.\")"
   ]
  },
  {
   "cell_type": "markdown",
   "id": "c8c19d84-fd0f-4152-b6bd-d8637b97fcfb",
   "metadata": {},
   "source": [
    "<hr>\n",
    "\n",
    "## References:\n",
    "[1] Wikipedia contributors. Last edited 2023, August 30. Lennard-Jones potential. In Wikipedia, The Free Encyclopedia, from: https://en.wikipedia.org/w/index.php?title=Lennard-Jones_potential&oldid=1172898356 <br>\n",
    "[2] Multiple authors. Lennard-Jones potential. ScienceDirect: https://www.sciencedirect.com/topics/physics-and-astronomy/lennard-jones-potential#:~:text=It%20is%20often%20argued%20that,the%20two%20types%20of%20interactions. <br>\n",
    "[3] Wikipedia contributors. Last edited 2023, February 10. Units of energy. In Wikipedia, The Free Encyclopedia, from: https://en.wikipedia.org/w/index.php?title=Units_of_energy&oldid=1138515769 <br>\n",
    "[4] A. Rahman. Published 1964, October 19. Correlations in the Motion of Atoms in Liquid Argon. Argonne National Laboratory, Argonne, Illinois."
   ]
  }
 ],
 "metadata": {
  "kernelspec": {
   "display_name": "Python 3 (ipykernel)",
   "language": "python",
   "name": "python3"
  },
  "language_info": {
   "codemirror_mode": {
    "name": "ipython",
    "version": 3
   },
   "file_extension": ".py",
   "mimetype": "text/x-python",
   "name": "python",
   "nbconvert_exporter": "python",
   "pygments_lexer": "ipython3",
   "version": "3.11.5"
  }
 },
 "nbformat": 4,
 "nbformat_minor": 5
}
