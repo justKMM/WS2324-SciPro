{
 "cells": [
  {
   "cell_type": "markdown",
   "id": "82394654-277c-4fef-a1d2-001531df027f",
   "metadata": {},
   "source": [
    "<div style = \"display:flex; flex-direction:row; flex-wrap:wrap\">\n",
    "    <p style = \"flex:1 0; width:50%; text-align:left\">2023WS_12632</p>\n",
    "    <p style = \"flex:1 0; width:50%; text-align:right\">25. Oktober 2023</p>\n",
    "</div>\n",
    "\n",
    "### <strong>Assignment:</strong> Lennard-Jones Equation\n",
    "<hr>\n",
    "<br>\n",
    "\n",
    "<strong>Equation:</strong>\n",
    "#### \\begin{equation}\n",
    "    V_{LJ}(r) = 4\\epsilon\\left[(\\frac{\\sigma}{r})^{12} - (\\frac{\\sigma}{r})^6\\right]\n",
    "\\end{equation}\n",
    "\n",
    "<strong>Goal:</strong>Improve the first solution involving the Lennard-Jones equation [1]\n",
    "<hr>"
   ]
  },
  {
   "cell_type": "code",
   "execution_count": null,
   "id": "9d679435-c539-41b3-a88e-18d8fbf4c1db",
   "metadata": {},
   "outputs": [],
   "source": []
  },
  {
   "cell_type": "code",
   "execution_count": null,
   "id": "bbe52828-9d99-47d7-964f-355407730925",
   "metadata": {},
   "outputs": [],
   "source": []
  }
 ],
 "metadata": {
  "kernelspec": {
   "display_name": "Python 3 (ipykernel)",
   "language": "python",
   "name": "python3"
  },
  "language_info": {
   "codemirror_mode": {
    "name": "ipython",
    "version": 3
   },
   "file_extension": ".py",
   "mimetype": "text/x-python",
   "name": "python",
   "nbconvert_exporter": "python",
   "pygments_lexer": "ipython3",
   "version": "3.11.5"
  }
 },
 "nbformat": 4,
 "nbformat_minor": 5
}
