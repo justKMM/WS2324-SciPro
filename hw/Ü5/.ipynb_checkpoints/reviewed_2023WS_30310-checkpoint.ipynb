{
 "cells": [
  {
   "cell_type": "markdown",
   "id": "4cf109e4-b81d-4d74-bfaf-b73b157c87f9",
   "metadata": {},
   "source": [
    "2023WS_30310"
   ]
  },
  {
   "cell_type": "markdown",
   "id": "979be5cb-0134-43b0-91eb-fe4feabe0f69",
   "metadata": {},
   "source": [
    "#### Assignment 5\n",
    "# The Performance of Numpy Versus Regular Python Lists when Computing a Loss Function"
   ]
  },
  {
   "cell_type": "markdown",
   "id": "9d3e50a0-e88c-4850-9696-d530b44a082c",
   "metadata": {},
   "source": [
    "### Goal:\n",
    "In this assignment, the advantages of numpy in performance compared to python-lists is shown with an example on a Loss function. Additionally, by using pandas, the understanding with the library is strengthen."
   ]
  },
  {
   "cell_type": "markdown",
   "id": "0e0da4a9-c284-4060-a6f5-893925833f92",
   "metadata": {},
   "source": [
    "### Problem and Input Data:"
   ]
  },
  {
   "cell_type": "markdown",
   "id": "cc5bdc1d-51db-4308-81c3-56b09b7dfca8",
   "metadata": {},
   "source": [
    "#### Loss function$^{[1, 2]}$:"
   ]
  },
  {
   "cell_type": "markdown",
   "id": "10709fae-f093-405c-a502-a6c46afc91fc",
   "metadata": {},
   "source": [
    "$$\\Large Loss = \\alpha * |R^{Pred.} - R^{Exp.}| + \\beta * |E^{Pred.} - E^{Exp.}|$$"
   ]
  },
  {
   "cell_type": "markdown",
   "id": "3e54fb12-2265-436b-a2d1-4e7d6d0e3fda",
   "metadata": {},
   "source": [
    "The Loss function will be used on some example wheather data from diffrent locations and days in Australia$^{[3, 4]}$. It is used to evaluate the quality of the prediction of the observed values."
   ]
  },
  {
   "cell_type": "markdown",
   "id": "a1b2964a-e330-42d5-9c09-deaca38ca69c",
   "metadata": {},
   "source": [
    "---"
   ]
  },
  {
   "cell_type": "markdown",
   "id": "4dd05718-485b-4867-8679-e97db1924bd4",
   "metadata": {},
   "source": [
    "### Imports\n",
    "For the following tasks, some imported libraries will be used:\n",
    "<li> numpy </li>\n",
    "<li> pandas </li>\n",
    "<li> timeit </li>"
   ]
  },
  {
   "cell_type": "code",
   "execution_count": 1,
   "id": "7bb7cf4e-d034-4117-bcc5-50fadc8cb6ea",
   "metadata": {},
   "outputs": [],
   "source": [
    "import numpy as np\n",
    "import pandas as pd\n",
    "import timeit"
   ]
  },
  {
   "cell_type": "markdown",
   "id": "3a7022fd-80b5-4f45-9847-ea65aa3db2f0",
   "metadata": {},
   "source": [
    "### Task 1\n",
    "First of all, the given data will be stored in a singe dataframe. For this, two dataframes will be created and merged. Than, the fist lines will be displayed."
   ]
  },
  {
   "cell_type": "code",
   "execution_count": 2,
   "id": "9c90b7f2-5604-4dbe-8cb1-1c55f05146d8",
   "metadata": {},
   "outputs": [
    {
     "data": {
      "text/html": [
       "<div>\n",
       "<style scoped>\n",
       "    .dataframe tbody tr th:only-of-type {\n",
       "        vertical-align: middle;\n",
       "    }\n",
       "\n",
       "    .dataframe tbody tr th {\n",
       "        vertical-align: top;\n",
       "    }\n",
       "\n",
       "    .dataframe thead th {\n",
       "        text-align: right;\n",
       "    }\n",
       "</style>\n",
       "<table border=\"1\" class=\"dataframe\">\n",
       "  <thead>\n",
       "    <tr style=\"text-align: right;\">\n",
       "      <th></th>\n",
       "      <th>Date</th>\n",
       "      <th>Location</th>\n",
       "      <th>MinTemp</th>\n",
       "      <th>MaxTemp</th>\n",
       "      <th>Rainfall</th>\n",
       "      <th>Evaporation</th>\n",
       "      <th>Sunshine</th>\n",
       "      <th>WindGustSpeed</th>\n",
       "      <th>RainToday</th>\n",
       "      <th>RainTomorrow</th>\n",
       "      <th>Rainfall Pred.</th>\n",
       "      <th>Evaporation Pred.</th>\n",
       "    </tr>\n",
       "  </thead>\n",
       "  <tbody>\n",
       "    <tr>\n",
       "      <th>0</th>\n",
       "      <td>2009-01-01</td>\n",
       "      <td>Cobar</td>\n",
       "      <td>17.9</td>\n",
       "      <td>35.2</td>\n",
       "      <td>0.0</td>\n",
       "      <td>12.0</td>\n",
       "      <td>12.3</td>\n",
       "      <td>48.0</td>\n",
       "      <td>No</td>\n",
       "      <td>No</td>\n",
       "      <td>7.098998</td>\n",
       "      <td>6.179719</td>\n",
       "    </tr>\n",
       "    <tr>\n",
       "      <th>1</th>\n",
       "      <td>2009-01-02</td>\n",
       "      <td>Cobar</td>\n",
       "      <td>18.4</td>\n",
       "      <td>28.9</td>\n",
       "      <td>0.0</td>\n",
       "      <td>14.8</td>\n",
       "      <td>13.0</td>\n",
       "      <td>37.0</td>\n",
       "      <td>No</td>\n",
       "      <td>No</td>\n",
       "      <td>1.433238</td>\n",
       "      <td>6.375806</td>\n",
       "    </tr>\n",
       "    <tr>\n",
       "      <th>2</th>\n",
       "      <td>2009-01-04</td>\n",
       "      <td>Cobar</td>\n",
       "      <td>19.4</td>\n",
       "      <td>37.6</td>\n",
       "      <td>0.0</td>\n",
       "      <td>10.8</td>\n",
       "      <td>10.6</td>\n",
       "      <td>46.0</td>\n",
       "      <td>No</td>\n",
       "      <td>No</td>\n",
       "      <td>0.914834</td>\n",
       "      <td>5.687946</td>\n",
       "    </tr>\n",
       "    <tr>\n",
       "      <th>3</th>\n",
       "      <td>2009-01-05</td>\n",
       "      <td>Cobar</td>\n",
       "      <td>21.9</td>\n",
       "      <td>38.4</td>\n",
       "      <td>0.0</td>\n",
       "      <td>11.4</td>\n",
       "      <td>12.2</td>\n",
       "      <td>31.0</td>\n",
       "      <td>No</td>\n",
       "      <td>No</td>\n",
       "      <td>5.285904</td>\n",
       "      <td>6.897139</td>\n",
       "    </tr>\n",
       "    <tr>\n",
       "      <th>4</th>\n",
       "      <td>2009-01-06</td>\n",
       "      <td>Cobar</td>\n",
       "      <td>24.2</td>\n",
       "      <td>41.0</td>\n",
       "      <td>0.0</td>\n",
       "      <td>11.2</td>\n",
       "      <td>8.4</td>\n",
       "      <td>35.0</td>\n",
       "      <td>No</td>\n",
       "      <td>No</td>\n",
       "      <td>0.993975</td>\n",
       "      <td>0.050364</td>\n",
       "    </tr>\n",
       "  </tbody>\n",
       "</table>\n",
       "</div>"
      ],
      "text/plain": [
       "         Date Location  MinTemp  MaxTemp  Rainfall  Evaporation  Sunshine  \\\n",
       "0  2009-01-01    Cobar     17.9     35.2       0.0         12.0      12.3   \n",
       "1  2009-01-02    Cobar     18.4     28.9       0.0         14.8      13.0   \n",
       "2  2009-01-04    Cobar     19.4     37.6       0.0         10.8      10.6   \n",
       "3  2009-01-05    Cobar     21.9     38.4       0.0         11.4      12.2   \n",
       "4  2009-01-06    Cobar     24.2     41.0       0.0         11.2       8.4   \n",
       "\n",
       "   WindGustSpeed RainToday RainTomorrow  Rainfall Pred.  Evaporation Pred.  \n",
       "0           48.0        No           No        7.098998           6.179719  \n",
       "1           37.0        No           No        1.433238           6.375806  \n",
       "2           46.0        No           No        0.914834           5.687946  \n",
       "3           31.0        No           No        5.285904           6.897139  \n",
       "4           35.0        No           No        0.993975           0.050364  "
      ]
     },
     "execution_count": 2,
     "metadata": {},
     "output_type": "execute_result"
    }
   ],
   "source": [
    "experiment = pd.read_csv(filepath_or_buffer = 'weather_experiment.csv')\n",
    "prediction = pd.read_csv(filepath_or_buffer = 'weather_prediction.csv')\n",
    "\n",
    "weather_data = pd.merge(experiment, prediction, on = ['Date', 'Location'])\n",
    "weather_data.head()"
   ]
  },
  {
   "cell_type": "markdown",
   "id": "41972f15-b24e-4078-b663-27e39084e7e1",
   "metadata": {},
   "source": [
    "### Task 2\n",
    "Now, two functions will be defined which will calculate the Loss function. The first one uses python lists, the second one uses numpy."
   ]
  },
  {
   "cell_type": "markdown",
   "id": "0acf69a7-4ff1-4056-a964-f5e9d702923c",
   "metadata": {},
   "source": [
    "#### Function with lists by python:"
   ]
  },
  {
   "cell_type": "code",
   "execution_count": 3,
   "id": "d83e274c-8d9c-4f7c-82bd-60fb2081b6a8",
   "metadata": {},
   "outputs": [],
   "source": [
    "def loss_function_lists(alpha: float, beta: float, weather: pd.DataFrame) -> list:\n",
    "    '''\n",
    "    Calculates the loss function by using python lists\n",
    "\n",
    "    Parameter:\n",
    "        alpha (float): rainfall weighting factor (No Unit)\n",
    "        beta (float): evaporation weighting factor (No Unit, float)\n",
    "        weather (pd.DataFrame): experimental and predicted weather data \n",
    "                    \n",
    "    Return: \n",
    "        List with loss values for each column\n",
    "    '''\n",
    "    if not isinstance(alpha, float):\n",
    "        raise TypeError(f'The given value for alpha (i.e. {alpha}) must be a float type.')\n",
    "    elif not isinstance(beta, float):\n",
    "        raise TypeError(f'The given value for beta (i.e. {beta}) must be a float type.')\n",
    "    elif not isinstance(weather, pd.DataFrame):\n",
    "        raise TypeError(f'The given input for weather must be a Pandas DataFrame.')\n",
    "    elif not (alpha + beta == 1):\n",
    "        raise ValueError(f'The weighting factors have to sum up to 1.0 but are {alpha + beta}.')\n",
    "    else:\n",
    "        input = [\n",
    "            list(weather['Rainfall Pred.']), \n",
    "            list(weather['Rainfall']), \n",
    "            list(weather['Evaporation Pred.']), \n",
    "            list(weather['Evaporation'])\n",
    "        ]\n",
    "\n",
    "        result = [alpha * abs(r_pred - r_exp) + beta * abs(e_pred - e_exp)\n",
    "            for r_pred, r_exp, e_pred, e_exp in zip(*input)]\n",
    "        \n",
    "        return result"
   ]
  },
  {
   "cell_type": "markdown",
   "id": "7543dd89-cbc8-4189-aa18-7e3ade4f099e",
   "metadata": {},
   "source": [
    "#### Function with numpy:"
   ]
  },
  {
   "cell_type": "code",
   "execution_count": 4,
   "id": "dbc37202-94da-4288-b2d7-f895c6ecb29c",
   "metadata": {},
   "outputs": [],
   "source": [
    "def loss_function_numpy(alpha: float, beta: float, weather: pd.DataFrame) -> np.array:\n",
    "    '''\n",
    "    Calculates the loss function by using python lists\n",
    "\n",
    "    Parameter:\n",
    "        alpha (float): rainfall weighting factor (No Unit)\n",
    "        beta (float): evaporation weighting factor (No Unit, float)\n",
    "        weather (pd.DataFrame): experimental and predicted weather data \n",
    "                    \n",
    "    Return: \n",
    "        List with loss values for each column\n",
    "    '''\n",
    "    if not isinstance(alpha, float):\n",
    "        raise TypeError(f'The given value for alpha (i.e. {alpha}) must be a float type.')\n",
    "    elif not isinstance(beta, float):\n",
    "        raise TypeError(f'The given value for beta (i.e. {beta}) must be a float type.')\n",
    "    elif not isinstance(weather, pd.DataFrame):\n",
    "        raise TypeError(f'The given input for weather must be a Pandas DataFrame.')\n",
    "    elif not (alpha + beta == 1):\n",
    "        raise ValueError(f'The weighting factors have to sum up to 1.0 but are {alpha + beta}.')\n",
    "    else:\n",
    "        r_pred = weather['Rainfall Pred.'].to_numpy()\n",
    "        r_exp = weather['Rainfall'].to_numpy()\n",
    "        e_pred = weather['Evaporation Pred.'].to_numpy()\n",
    "        e_exp = weather['Evaporation'].to_numpy()\n",
    "\n",
    "        result = alpha * np.abs(r_pred - r_exp) + beta * np.abs(e_pred - e_exp)\n",
    "        \n",
    "        return result"
   ]
  },
  {
   "cell_type": "markdown",
   "id": "bb66a8e9-dedd-4fdf-86ca-0c5e2f342f90",
   "metadata": {},
   "source": [
    "### Task 3\n",
    "To compare the performance of the two functions, with the timeit-library, both functions will be executed 100 times and the time this takes is measured."
   ]
  },
  {
   "cell_type": "markdown",
   "id": "27f67e80-ee04-40e4-b2c4-c3a741f2062c",
   "metadata": {},
   "source": [
    "#### Measue the time using lists"
   ]
  },
  {
   "cell_type": "code",
   "execution_count": 5,
   "id": "f5e18066-cd69-4289-9629-9264a758b023",
   "metadata": {},
   "outputs": [],
   "source": [
    "loss_lists = timeit.timeit(\n",
    "    lambda:loss_function_lists(\n",
    "        alpha = 0.5, \n",
    "        beta = 0.5, \n",
    "        weather = weather_data\n",
    "    ), number = 100\n",
    ")"
   ]
  },
  {
   "cell_type": "markdown",
   "id": "cbd694f2-b676-4cce-8d14-c34dbaed0121",
   "metadata": {},
   "source": [
    "#### Measue the time using numpy"
   ]
  },
  {
   "cell_type": "code",
   "execution_count": 6,
   "id": "15dc2ad9-8df9-49a1-8f8f-559e45b0713a",
   "metadata": {
    "scrolled": true
   },
   "outputs": [],
   "source": [
    "loss_numpy = timeit.timeit(\n",
    "    lambda:loss_function_numpy(\n",
    "        alpha = 0.5, \n",
    "        beta = 0.5, \n",
    "        weather = weather_data\n",
    "    ), number = 100\n",
    ")"
   ]
  },
  {
   "cell_type": "markdown",
   "id": "e97282f1-2aaf-4e41-832b-9768305a7010",
   "metadata": {},
   "source": [
    "#### Results:"
   ]
  },
  {
   "cell_type": "code",
   "execution_count": 7,
   "id": "b64b7ceb-3ca8-4d15-b5f7-8a9b26250501",
   "metadata": {},
   "outputs": [
    {
     "name": "stdout",
     "output_type": "stream",
     "text": [
      "Time using Python lists: 2.217046100002335s\n",
      "Time using Numpy arrays: 0.012894200001028366s\n",
      "\n",
      "Speedup factor: 171.94x\n"
     ]
    }
   ],
   "source": [
    "print(f'Time using Python lists: {loss_lists}s')\n",
    "print(f'Time using Numpy arrays: {loss_numpy}s\\n')\n",
    "\n",
    "print(f'Speedup factor: {(loss_lists / loss_numpy):.2f}x')"
   ]
  },
  {
   "cell_type": "markdown",
   "id": "b20b3e7f-5fe3-42dd-92a1-527902cde3a2",
   "metadata": {},
   "source": [
    "By Using python, the calculation is a lot faster."
   ]
  },
  {
   "cell_type": "markdown",
   "id": "5b558012-4dff-4f4c-8ed7-611f5695974d",
   "metadata": {},
   "source": [
    "### References"
   ]
  },
  {
   "cell_type": "markdown",
   "id": "93be6ae6-108f-40c9-861d-fcfe1f6ea87f",
   "metadata": {},
   "source": [
    "[1] Wikipedia contributors, Loss Functions, updated on November 9, 2023. https://en.wikipedia.org/wiki/Loss_function. Online; accessed on Dezember 1, 2023. <br>\n",
    "[2] Karl N. Kirschner. Scientific Programming with Python Assignment: The Performance of Numpy Versus Regular Python Lists when Computing a Loss Function. November 27, 2023. <br>\n",
    "[3] Oswal, N. Predicting Rainfall using Machine Learning Techniques. arXiv, 2019 (https://arxiv.org/abs/1910.13872). <br>\n",
    "[4] Joe Young and Adamyoung. Rain in Australia, Kaggle https://www.kaggle.com/datasets/jsphyg/weather-dataset-rattle-package?resource=download&select=weatherAUS.csv. Online; accessed on November 27, 2022. <br>"
   ]
  }
 ],
 "metadata": {
  "kernelspec": {
   "display_name": "Python 3 (ipykernel)",
   "language": "python",
   "name": "python3"
  },
  "language_info": {
   "codemirror_mode": {
    "name": "ipython",
    "version": 3
   },
   "file_extension": ".py",
   "mimetype": "text/x-python",
   "name": "python",
   "nbconvert_exporter": "python",
   "pygments_lexer": "ipython3",
   "version": "3.10.13"
  }
 },
 "nbformat": 4,
 "nbformat_minor": 5
}
