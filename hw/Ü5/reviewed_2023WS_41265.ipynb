{
 "cells": [
  {
   "cell_type": "markdown",
   "id": "56bcd22c-ea79-4055-8ed9-824f875e2057",
   "metadata": {},
   "source": [
    "# <center>Assigment 5: The Performance of Numpy Versus Regular Python Lists when Cpmputing a Loss Function <h6> [^1] </h6> </center>  "
   ]
  },
  {
   "cell_type": "markdown",
   "id": "6c237e15-f530-47d9-b8d8-e217524ed37c",
   "metadata": {},
   "source": [
    "###  SciPro_ID: 41265 \n",
    "### Date : 27.11.2023"
   ]
  },
  {
   "cell_type": "markdown",
   "id": "3587a396-19dd-4d3c-a8a9-2f987711bb8a",
   "metadata": {},
   "source": [
    "##### Note : Some References are in the Code as a comment."
   ]
  },
  {
   "cell_type": "markdown",
   "id": "79fe8fed-dcc0-4f2f-86ac-5878a31b09a3",
   "metadata": {},
   "source": [
    "##### Goal: In this assignment, we are going to use the numpy library, and we need to understand how it affects the performance of numerical calculations.  "
   ]
  },
  {
   "cell_type": "markdown",
   "id": "68d66657-f9cb-4a41-9c1c-51a30474f7df",
   "metadata": {},
   "source": [
    "---"
   ]
  },
  {
   "cell_type": "markdown",
   "id": "9a8c2a90-7024-4712-a92b-277bedbb416b",
   "metadata": {},
   "source": [
    "##### Problem and Input Data: A machine learning model developed by weather researchers is capable of forecasting rainfall and evaporation for various locations in Australia on different days. The data obtained from both the experimental observations and the model predictions are presented in Table 1. The observables are described by the following : \n",
    "\n",
    "* Date- The observation date.\n",
    "* Location - The weather station location.\n",
    "* MinTemp - The minimum temperature (°C).\n",
    "* MaxTemp - The maximum temperature (°C).\n",
    "* Rainfall - The rainfall amount in 24 hours (mm).\n",
    "* Evaporation - The evaporation amount in 24 hours (mm).\n",
    "* Sunshine - The sunshine amount in 24 hours (h).\n",
    "* WindGustSpeed - The maximum wind gust speed in 24 hours (h).\n",
    "* RainToday - Did it rain on that day= yes: if precipitation >= 1 mm, no:if precipitation < 1 mm.\n",
    "* RainTomorrow - Did it rain in the following day? yes: if precipitation >= 1mm, no: if precipitation < 1mm. 3"
   ]
  },
  {
   "cell_type": "markdown",
   "id": "ad47f807-5322-4db5-8067-03d1e5cff23f",
   "metadata": {},
   "source": [
    "##### This function is for the performance of the model to predict the rainfall and evaporation for each date and location:\n",
    "\n",
    " $$\\LARGE Loss = \\alpha * | R^{Pred} - R^{Exp} | + \\beta * | E^{Pred} - E^{Exp}| [^2] $$\n",
    "\n",
    " * $\\alpha$ is the rainfall weighting factor.\n",
    " * $\\beta$ is evaporation weighting factor.\n",
    " * $R^{Pred}$ and $R^{Exp}$ are the predicted and experimental rainfall values.\n",
    " * $E^{Pred}$ and $E^{Exp}$ are the corresponding evaporation values."
   ]
  },
  {
   "cell_type": "markdown",
   "id": "6705b2d0-95f0-4f34-a4fb-0283bf3bbdce",
   "metadata": {},
   "source": [
    "---"
   ]
  },
  {
   "cell_type": "markdown",
   "id": "2dc99144-bf25-40b1-b6e6-8ec22b1f4c5d",
   "metadata": {},
   "source": [
    "# Task1  \n",
    "### Read in the data  contained in **weather_experiment.csv** and **weather.prediction.csv**."
   ]
  },
  {
   "cell_type": "code",
   "execution_count": 1,
   "id": "a27fb19c-de8a-4d32-9c12-94ebaaeb6d32",
   "metadata": {},
   "outputs": [],
   "source": [
    "import pandas as pd\n",
    "\n",
    "# You need to download the csv given from Mr Kirschner and put it in your local jupyter notebook folder.\n",
    "# Also do not forget to download the libraries locally at your python folder. So that you can use pandas and numpy.\n",
    "#[^5]\n",
    "\n",
    "df = pd.read_csv(\"weather_experiment.csv\")\n",
    "df2 = pd.read_csv(\"weather_prediction.csv\")"
   ]
  },
  {
   "cell_type": "code",
   "execution_count": 2,
   "id": "a2972a6a-cdae-45bd-87e9-7c02a68e0119",
   "metadata": {},
   "outputs": [
    {
     "data": {
      "text/html": [
       "<div>\n",
       "<style scoped>\n",
       "    .dataframe tbody tr th:only-of-type {\n",
       "        vertical-align: middle;\n",
       "    }\n",
       "\n",
       "    .dataframe tbody tr th {\n",
       "        vertical-align: top;\n",
       "    }\n",
       "\n",
       "    .dataframe thead th {\n",
       "        text-align: right;\n",
       "    }\n",
       "</style>\n",
       "<table border=\"1\" class=\"dataframe\">\n",
       "  <thead>\n",
       "    <tr style=\"text-align: right;\">\n",
       "      <th></th>\n",
       "      <th>Date</th>\n",
       "      <th>Location</th>\n",
       "      <th>MinTemp</th>\n",
       "      <th>MaxTemp</th>\n",
       "      <th>Rainfall</th>\n",
       "      <th>Evaporation</th>\n",
       "      <th>Sunshine</th>\n",
       "      <th>WindGustSpeed</th>\n",
       "      <th>RainToday</th>\n",
       "      <th>RainTomorrow</th>\n",
       "    </tr>\n",
       "  </thead>\n",
       "  <tbody>\n",
       "    <tr>\n",
       "      <th>0</th>\n",
       "      <td>2009-01-01</td>\n",
       "      <td>Cobar</td>\n",
       "      <td>17.9</td>\n",
       "      <td>35.2</td>\n",
       "      <td>0.0</td>\n",
       "      <td>12.0</td>\n",
       "      <td>12.3</td>\n",
       "      <td>48.0</td>\n",
       "      <td>No</td>\n",
       "      <td>No</td>\n",
       "    </tr>\n",
       "    <tr>\n",
       "      <th>1</th>\n",
       "      <td>2009-01-02</td>\n",
       "      <td>Cobar</td>\n",
       "      <td>18.4</td>\n",
       "      <td>28.9</td>\n",
       "      <td>0.0</td>\n",
       "      <td>14.8</td>\n",
       "      <td>13.0</td>\n",
       "      <td>37.0</td>\n",
       "      <td>No</td>\n",
       "      <td>No</td>\n",
       "    </tr>\n",
       "    <tr>\n",
       "      <th>2</th>\n",
       "      <td>2009-01-04</td>\n",
       "      <td>Cobar</td>\n",
       "      <td>19.4</td>\n",
       "      <td>37.6</td>\n",
       "      <td>0.0</td>\n",
       "      <td>10.8</td>\n",
       "      <td>10.6</td>\n",
       "      <td>46.0</td>\n",
       "      <td>No</td>\n",
       "      <td>No</td>\n",
       "    </tr>\n",
       "    <tr>\n",
       "      <th>3</th>\n",
       "      <td>2009-01-05</td>\n",
       "      <td>Cobar</td>\n",
       "      <td>21.9</td>\n",
       "      <td>38.4</td>\n",
       "      <td>0.0</td>\n",
       "      <td>11.4</td>\n",
       "      <td>12.2</td>\n",
       "      <td>31.0</td>\n",
       "      <td>No</td>\n",
       "      <td>No</td>\n",
       "    </tr>\n",
       "    <tr>\n",
       "      <th>4</th>\n",
       "      <td>2009-01-06</td>\n",
       "      <td>Cobar</td>\n",
       "      <td>24.2</td>\n",
       "      <td>41.0</td>\n",
       "      <td>0.0</td>\n",
       "      <td>11.2</td>\n",
       "      <td>8.4</td>\n",
       "      <td>35.0</td>\n",
       "      <td>No</td>\n",
       "      <td>No</td>\n",
       "    </tr>\n",
       "    <tr>\n",
       "      <th>...</th>\n",
       "      <td>...</td>\n",
       "      <td>...</td>\n",
       "      <td>...</td>\n",
       "      <td>...</td>\n",
       "      <td>...</td>\n",
       "      <td>...</td>\n",
       "      <td>...</td>\n",
       "      <td>...</td>\n",
       "      <td>...</td>\n",
       "      <td>...</td>\n",
       "    </tr>\n",
       "    <tr>\n",
       "      <th>55242</th>\n",
       "      <td>2017-06-20</td>\n",
       "      <td>Darwin</td>\n",
       "      <td>19.3</td>\n",
       "      <td>33.4</td>\n",
       "      <td>0.0</td>\n",
       "      <td>6.0</td>\n",
       "      <td>11.0</td>\n",
       "      <td>35.0</td>\n",
       "      <td>No</td>\n",
       "      <td>No</td>\n",
       "    </tr>\n",
       "    <tr>\n",
       "      <th>55243</th>\n",
       "      <td>2017-06-21</td>\n",
       "      <td>Darwin</td>\n",
       "      <td>21.2</td>\n",
       "      <td>32.6</td>\n",
       "      <td>0.0</td>\n",
       "      <td>7.6</td>\n",
       "      <td>8.6</td>\n",
       "      <td>37.0</td>\n",
       "      <td>No</td>\n",
       "      <td>No</td>\n",
       "    </tr>\n",
       "    <tr>\n",
       "      <th>55244</th>\n",
       "      <td>2017-06-22</td>\n",
       "      <td>Darwin</td>\n",
       "      <td>20.7</td>\n",
       "      <td>32.8</td>\n",
       "      <td>0.0</td>\n",
       "      <td>5.6</td>\n",
       "      <td>11.0</td>\n",
       "      <td>33.0</td>\n",
       "      <td>No</td>\n",
       "      <td>No</td>\n",
       "    </tr>\n",
       "    <tr>\n",
       "      <th>55245</th>\n",
       "      <td>2017-06-23</td>\n",
       "      <td>Darwin</td>\n",
       "      <td>19.5</td>\n",
       "      <td>31.8</td>\n",
       "      <td>0.0</td>\n",
       "      <td>6.2</td>\n",
       "      <td>10.6</td>\n",
       "      <td>26.0</td>\n",
       "      <td>No</td>\n",
       "      <td>No</td>\n",
       "    </tr>\n",
       "    <tr>\n",
       "      <th>55246</th>\n",
       "      <td>2017-06-24</td>\n",
       "      <td>Darwin</td>\n",
       "      <td>20.2</td>\n",
       "      <td>31.7</td>\n",
       "      <td>0.0</td>\n",
       "      <td>5.6</td>\n",
       "      <td>10.7</td>\n",
       "      <td>30.0</td>\n",
       "      <td>No</td>\n",
       "      <td>No</td>\n",
       "    </tr>\n",
       "  </tbody>\n",
       "</table>\n",
       "<p>55247 rows × 10 columns</p>\n",
       "</div>"
      ],
      "text/plain": [
       "             Date Location  MinTemp  MaxTemp  Rainfall  Evaporation  Sunshine  \\\n",
       "0      2009-01-01    Cobar     17.9     35.2       0.0         12.0      12.3   \n",
       "1      2009-01-02    Cobar     18.4     28.9       0.0         14.8      13.0   \n",
       "2      2009-01-04    Cobar     19.4     37.6       0.0         10.8      10.6   \n",
       "3      2009-01-05    Cobar     21.9     38.4       0.0         11.4      12.2   \n",
       "4      2009-01-06    Cobar     24.2     41.0       0.0         11.2       8.4   \n",
       "...           ...      ...      ...      ...       ...          ...       ...   \n",
       "55242  2017-06-20   Darwin     19.3     33.4       0.0          6.0      11.0   \n",
       "55243  2017-06-21   Darwin     21.2     32.6       0.0          7.6       8.6   \n",
       "55244  2017-06-22   Darwin     20.7     32.8       0.0          5.6      11.0   \n",
       "55245  2017-06-23   Darwin     19.5     31.8       0.0          6.2      10.6   \n",
       "55246  2017-06-24   Darwin     20.2     31.7       0.0          5.6      10.7   \n",
       "\n",
       "       WindGustSpeed RainToday RainTomorrow  \n",
       "0               48.0        No           No  \n",
       "1               37.0        No           No  \n",
       "2               46.0        No           No  \n",
       "3               31.0        No           No  \n",
       "4               35.0        No           No  \n",
       "...              ...       ...          ...  \n",
       "55242           35.0        No           No  \n",
       "55243           37.0        No           No  \n",
       "55244           33.0        No           No  \n",
       "55245           26.0        No           No  \n",
       "55246           30.0        No           No  \n",
       "\n",
       "[55247 rows x 10 columns]"
      ]
     },
     "execution_count": 2,
     "metadata": {},
     "output_type": "execute_result"
    }
   ],
   "source": [
    "df"
   ]
  },
  {
   "cell_type": "code",
   "execution_count": 3,
   "id": "f7136a4f-d08b-42da-8f94-dabede62701a",
   "metadata": {},
   "outputs": [
    {
     "data": {
      "text/html": [
       "<div>\n",
       "<style scoped>\n",
       "    .dataframe tbody tr th:only-of-type {\n",
       "        vertical-align: middle;\n",
       "    }\n",
       "\n",
       "    .dataframe tbody tr th {\n",
       "        vertical-align: top;\n",
       "    }\n",
       "\n",
       "    .dataframe thead th {\n",
       "        text-align: right;\n",
       "    }\n",
       "</style>\n",
       "<table border=\"1\" class=\"dataframe\">\n",
       "  <thead>\n",
       "    <tr style=\"text-align: right;\">\n",
       "      <th></th>\n",
       "      <th>Date</th>\n",
       "      <th>Location</th>\n",
       "      <th>Rainfall Pred.</th>\n",
       "      <th>Evaporation Pred.</th>\n",
       "    </tr>\n",
       "  </thead>\n",
       "  <tbody>\n",
       "    <tr>\n",
       "      <th>0</th>\n",
       "      <td>2009-01-01</td>\n",
       "      <td>Cobar</td>\n",
       "      <td>7.098998</td>\n",
       "      <td>6.179719</td>\n",
       "    </tr>\n",
       "    <tr>\n",
       "      <th>1</th>\n",
       "      <td>2009-01-02</td>\n",
       "      <td>Cobar</td>\n",
       "      <td>1.433238</td>\n",
       "      <td>6.375806</td>\n",
       "    </tr>\n",
       "    <tr>\n",
       "      <th>2</th>\n",
       "      <td>2009-01-04</td>\n",
       "      <td>Cobar</td>\n",
       "      <td>0.914834</td>\n",
       "      <td>5.687946</td>\n",
       "    </tr>\n",
       "    <tr>\n",
       "      <th>3</th>\n",
       "      <td>2009-01-05</td>\n",
       "      <td>Cobar</td>\n",
       "      <td>5.285904</td>\n",
       "      <td>6.897139</td>\n",
       "    </tr>\n",
       "    <tr>\n",
       "      <th>4</th>\n",
       "      <td>2009-01-06</td>\n",
       "      <td>Cobar</td>\n",
       "      <td>0.993975</td>\n",
       "      <td>0.050364</td>\n",
       "    </tr>\n",
       "    <tr>\n",
       "      <th>...</th>\n",
       "      <td>...</td>\n",
       "      <td>...</td>\n",
       "      <td>...</td>\n",
       "      <td>...</td>\n",
       "    </tr>\n",
       "    <tr>\n",
       "      <th>55242</th>\n",
       "      <td>2017-06-20</td>\n",
       "      <td>Darwin</td>\n",
       "      <td>5.693780</td>\n",
       "      <td>3.400099</td>\n",
       "    </tr>\n",
       "    <tr>\n",
       "      <th>55243</th>\n",
       "      <td>2017-06-21</td>\n",
       "      <td>Darwin</td>\n",
       "      <td>1.548031</td>\n",
       "      <td>1.696780</td>\n",
       "    </tr>\n",
       "    <tr>\n",
       "      <th>55244</th>\n",
       "      <td>2017-06-22</td>\n",
       "      <td>Darwin</td>\n",
       "      <td>1.516136</td>\n",
       "      <td>2.945245</td>\n",
       "    </tr>\n",
       "    <tr>\n",
       "      <th>55245</th>\n",
       "      <td>2017-06-23</td>\n",
       "      <td>Darwin</td>\n",
       "      <td>1.158509</td>\n",
       "      <td>4.960711</td>\n",
       "    </tr>\n",
       "    <tr>\n",
       "      <th>55246</th>\n",
       "      <td>2017-06-24</td>\n",
       "      <td>Darwin</td>\n",
       "      <td>1.919091</td>\n",
       "      <td>6.308155</td>\n",
       "    </tr>\n",
       "  </tbody>\n",
       "</table>\n",
       "<p>55247 rows × 4 columns</p>\n",
       "</div>"
      ],
      "text/plain": [
       "             Date Location  Rainfall Pred.  Evaporation Pred.\n",
       "0      2009-01-01    Cobar        7.098998           6.179719\n",
       "1      2009-01-02    Cobar        1.433238           6.375806\n",
       "2      2009-01-04    Cobar        0.914834           5.687946\n",
       "3      2009-01-05    Cobar        5.285904           6.897139\n",
       "4      2009-01-06    Cobar        0.993975           0.050364\n",
       "...           ...      ...             ...                ...\n",
       "55242  2017-06-20   Darwin        5.693780           3.400099\n",
       "55243  2017-06-21   Darwin        1.548031           1.696780\n",
       "55244  2017-06-22   Darwin        1.516136           2.945245\n",
       "55245  2017-06-23   Darwin        1.158509           4.960711\n",
       "55246  2017-06-24   Darwin        1.919091           6.308155\n",
       "\n",
       "[55247 rows x 4 columns]"
      ]
     },
     "execution_count": 3,
     "metadata": {},
     "output_type": "execute_result"
    }
   ],
   "source": [
    "df2"
   ]
  },
  {
   "cell_type": "markdown",
   "id": "ee1c7aaa-7ac2-4160-bd98-4ea4013d3b1a",
   "metadata": {},
   "source": [
    "---"
   ]
  },
  {
   "cell_type": "code",
   "execution_count": null,
   "id": "c6ce8071-1ccc-4825-a62d-31dc449f8001",
   "metadata": {},
   "outputs": [],
   "source": []
  },
  {
   "cell_type": "markdown",
   "id": "0e43f6ad-c06a-4e78-ab68-4ad50d07507b",
   "metadata": {},
   "source": [
    "# Task 2 \n",
    "### Creathe user-defined functions that encodes and computes the loss function(Equation1), which:\n",
    "\n",
    "1. perfoms the calculation using regular Python lists(i.e. **do not use Numpy or ndarrays**), and\n",
    "2. performs the calculation using Numpy (i.e **maximizing the use of Numpy's library and perfomance**).\n",
    "\n"
   ]
  },
  {
   "cell_type": "markdown",
   "id": "f3fda07d-077c-4264-8f02-3188e614eb78",
   "metadata": {},
   "source": [
    "### Python Lists Implementation:"
   ]
  },
  {
   "cell_type": "code",
   "execution_count": 9,
   "id": "f7075913-f7cf-4c64-a755-cf11b420ee54",
   "metadata": {},
   "outputs": [],
   "source": [
    "def calculate_loss_python_list(R_pred_list, R_exp_list, E_pred_list, E_exp_list, alpha, beta):\n",
    "    \n",
    "    # Calculate absolute differences\n",
    "    abs_diff_rainfall = [abs(rp - re) for rp, re in zip(R_pred_list, R_exp_list)]\n",
    "    abs_diff_evaporation = [abs(ep - ee) for ep, ee in zip(E_pred_list, E_exp_list)]\n",
    "\n",
    "    # Calculate the weighted sum\n",
    "    loss = [alpha * r + beta * e for r, e in zip(abs_diff_rainfall, abs_diff_evaporation)]\n",
    "\n",
    "    return loss"
   ]
  },
  {
   "cell_type": "markdown",
   "id": "969c4003-5838-4fe8-b1f5-9dec9cee4352",
   "metadata": {},
   "source": [
    "### Numpy Implementation:"
   ]
  },
  {
   "cell_type": "code",
   "execution_count": 10,
   "id": "c11a1f04-20f4-41dc-9c82-f3c6bcd2b6bc",
   "metadata": {},
   "outputs": [],
   "source": [
    "import numpy as np #[^4]\n",
    "\n",
    "def calculate_loss_numpy_array(R_pred_array, R_exp_array, E_pred_array, E_exp_array, alpha, beta):\n",
    "    \n",
    "    # Calculate absolute differences using NumPy\n",
    "    abs_diff_rainfall = np.abs(R_pred_array - R_exp_array)\n",
    "    abs_diff_evaporation = np.abs(E_pred_array - E_exp_array)\n",
    "\n",
    "    # Calculate the weighted sum using NumPy\n",
    "    loss = alpha * abs_diff_rainfall + beta * abs_diff_evaporation\n",
    "\n",
    "    return loss"
   ]
  },
  {
   "cell_type": "markdown",
   "id": "68b0fdcb-7a0d-4664-bd0c-9c6cd2206287",
   "metadata": {},
   "source": [
    "---"
   ]
  },
  {
   "cell_type": "markdown",
   "id": "c5af4de1-523b-4693-9ba2-62fc6f14b107",
   "metadata": {},
   "source": [
    "# Task 3 \n",
    "##### Evaluate the speed performance between your Task 2 functions by computing the loss value for when $\\alpha$ = $\\beta$ = 0.5. You will use the timeit library ( i.e. timeit.timeit) for this, and assign its \"number\" parameter to 100.\n"
   ]
  },
  {
   "cell_type": "code",
   "execution_count": 8,
   "id": "953d768c-28c6-4a28-b802-4f081dd6e2e8",
   "metadata": {
    "scrolled": true
   },
   "outputs": [
    {
     "name": "stdout",
     "output_type": "stream",
     "text": [
      "Execution time using regular Python lists: 1.9461510999826714 seconds\n",
      "Execution time using NumPy arrays: 0.029745399951934814 seconds\n",
      "NumPy version is 98.47157808290426% faster than the regular Python version.\n"
     ]
    }
   ],
   "source": [
    "import pandas as pd\n",
    "import numpy as np\n",
    "import timeit\n",
    "\n",
    "#[^4], [^5]\n",
    "\n",
    "# Extract relevant columns from the DataFrames\n",
    "R_exp_list = df['Rainfall'].tolist()\n",
    "R_pred_list = df2 ['Rainfall Pred.'].tolist()\n",
    "E_exp_list = df['Evaporation'].tolist()\n",
    "E_pred_list = df2['Evaporation Pred.'].tolist()\n",
    "alpha = 0.5\n",
    "beta = 0.5\n",
    "\n",
    "# Convert lists to arrays for the NumPy version\n",
    "R_exp_array = np.array(R_exp_list)\n",
    "R_pred_array = np.array(R_pred_list)\n",
    "E_exp_array = np.array(E_exp_list)\n",
    "E_pred_array = np.array(E_pred_list)\n",
    "\n",
    "# Function using regular Python lists\n",
    "time_python_list = timeit.timeit(lambda: calculate_loss_python_list(R_pred_list, R_exp_list, E_pred_list, E_exp_list, alpha, beta),number=100)\n",
    "\n",
    "# Function using NumPy arrays\n",
    "time_numpy_array = timeit.timeit(lambda: calculate_loss_numpy_array(R_pred_array, R_exp_array, E_pred_array, E_exp_array, alpha, beta),number=100)\n",
    "\n",
    "\n",
    "# Print the execution times\n",
    "print(f\"Execution time using regular Python lists: {time_python_list} seconds\")\n",
    "print(f\"Execution time using NumPy arrays: {time_numpy_array} seconds\")\n",
    "\n",
    "# Compare the speedup\n",
    "speedup_percentage = ((time_python_list - time_numpy_array) / time_python_list) * 100\n",
    "print(f\"NumPy version is {speedup_percentage}% faster than the regular Python version.\")\n",
    "\n"
   ]
  },
  {
   "cell_type": "markdown",
   "id": "2d82935a-cf19-4584-9d49-5da97acae118",
   "metadata": {},
   "source": [
    "### Conclusion:\n",
    "In this comparison, the NumPy implementation of the loss function outperformed the regular Python lists version, exhibiting a significant speedup of [percentage]% across multiple iterations. NumPy's efficient array operations contribute to improved performance in scientific computations.."
   ]
  },
  {
   "cell_type": "markdown",
   "id": "7d1dd749-5919-4f7a-b5f8-365dc9ff7e5f",
   "metadata": {},
   "source": [
    "---"
   ]
  },
  {
   "cell_type": "markdown",
   "id": "945b9ea1-3287-4210-988b-2931ebe93f74",
   "metadata": {},
   "source": [
    "**References:**\n",
    "1. Adam-P (Mar 27, 2022) Markdown cheatsheet, GitHub. Available at: https://github.com/adam-p/markdown-here/wiki/Markdown-Cheatsheet#tables (Accessed: 28 October 2023). \n",
    "2. Macchia, M. (Nov 26, 2020) Quick Reference for AMS-LaTeX, Github. Available at: https://github.com/manuelemacchia/math-latex/blob/master/amsmath.pdf (Accessed: 28 October 2023). \n",
    "3. Lennard-Jones potential (2023) Wikipedia. Available at: https://en.wikipedia.org/wiki/Lennard-Jones_potential (Accessed: 28 October 2023). \n",
    "4. Kirschner, Karl N (2020) Numpy, Github. Available at: https://github.com/karlkirschner/Scientific_Programming_Course/blob/master/numpy.ipynb (Accessed: 03 December 2023).\n",
    "5. Kirschner, K.N. (2020) Pandas. Available at: https://github.com/karlkirschner/Scientific_Programming_Course/blob/master/pandas.ipynb (Accessed: 26 November 2023). "
   ]
  }
 ],
 "metadata": {
  "kernelspec": {
   "display_name": "Python 3 (ipykernel)",
   "language": "python",
   "name": "python3"
  },
  "language_info": {
   "codemirror_mode": {
    "name": "ipython",
    "version": 3
   },
   "file_extension": ".py",
   "mimetype": "text/x-python",
   "name": "python",
   "nbconvert_exporter": "python",
   "pygments_lexer": "ipython3",
   "version": "3.11.5"
  }
 },
 "nbformat": 4,
 "nbformat_minor": 5
}
