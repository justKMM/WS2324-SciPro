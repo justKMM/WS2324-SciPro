{
 "cells": [
  {
   "cell_type": "markdown",
   "id": "58e02ce9-1f7d-43f9-9d36-36f0c507f2bc",
   "metadata": {},
   "source": [
    "#### 2023WS_53877"
   ]
  },
  {
   "cell_type": "markdown",
   "id": "6e596265-81bd-482e-a824-6eff533dbaa9",
   "metadata": {},
   "source": [
    "## Lennard- Jones Equation"
   ]
  },
  {
   "cell_type": "markdown",
   "id": "d33c6643-0326-48a1-b67d-ea860e44ee3f",
   "metadata": {},
   "source": [
    "$$ \\Large V_{LJ}(r)= 4\\varepsilon \\left[\\left(\\frac{\\sigma}{r}\\right)^{12}- \\left(\\frac{\\sigma}{r}\\right)^{6}\\right ]$$\n"
   ]
  },
  {
   "cell_type": "markdown",
   "id": "5daf3b16-5717-4994-8921-434f876809c9",
   "metadata": {},
   "source": [
    "---"
   ]
  },
  {
   "cell_type": "markdown",
   "id": "7fd0d0ea-f8ff-404b-89a8-369b09829279",
   "metadata": {},
   "source": [
    "### Task Nr 1\n",
    "#### Calculate the nonbonded potential energy between two argon atoms that are Å apart using the Lennard Jones Equation for argon atoms ε and σ"
   ]
  },
  {
   "cell_type": "code",
   "execution_count": 40,
   "id": "198cdd75-993c-4e17-8d6f-1f4c598d6aac",
   "metadata": {},
   "outputs": [],
   "source": [
    "# Argon values\n",
    "distance = 3.5 #Å\n",
    "epsilon = 0.0103 #eV\n",
    "sigma = 3.40 #Å"
   ]
  },
  {
   "cell_type": "code",
   "execution_count": 41,
   "id": "bae4afc3-67a9-4d0d-aa94-0a47eaabaf53",
   "metadata": {},
   "outputs": [
    {
     "name": "stdout",
     "output_type": "stream",
     "text": [
      "The potential energy for the Argon atom is -0.005527196294201813 Electron-volts (eV)\n"
     ]
    }
   ],
   "source": [
    "def lennard_jones_equation(distance: float, epsilon: float, sigma: float):\n",
    "    \n",
    "    return (4*epsilon * ((sigma/distance)**12- (sigma/distance)**6))\n",
    "    \n",
    "potential_energy= lennard_jones_equation(3.5,0.0103,3.4)\n",
    "\n",
    "print(\"The potential energy for the Argon atom is\", potential_energy , \"Electron-volts (eV)\")"
   ]
  },
  {
   "cell_type": "markdown",
   "id": "c3f2a5aa-e5cf-4bd8-a6a6-d37f9cc2ae3d",
   "metadata": {},
   "source": [
    "#### Provide the final $ V_{LJ}(r) $ energy in the \"International Unit for Energy\"\n",
    "\n",
    "-> the international Unit for Energy is joules.\n",
    "1eV = 1,602176565e-19 or J = 1,602176565⋅$10^{-19} J$\n",
    "\n",
    "So the energy in joules E(J) is equal to the energy in electron-volts E(eV) times 1,602176565⋅$10^{-19}$:"
   ]
  },
  {
   "cell_type": "code",
   "execution_count": 42,
   "id": "3428bb93-27e3-4fcc-9844-c5c423a0a77c",
   "metadata": {},
   "outputs": [
    {
     "name": "stdout",
     "output_type": "stream",
     "text": [
      "The nonbonded potential energy between 2 argon atoms is -8.855544372724991e-22 joules\n"
     ]
    }
   ],
   "source": [
    "print (\"The nonbonded potential energy between 2 argon atoms is\",potential_energy*1.602176565e-19,\"joules\")"
   ]
  },
  {
   "cell_type": "markdown",
   "id": "58fa2021-b96b-430d-a441-21009542afd3",
   "metadata": {},
   "source": [
    "---"
   ]
  },
  {
   "cell_type": "markdown",
   "id": "43c9cb95-8dfd-4d59-b265-b8f27f8f4318",
   "metadata": {},
   "source": [
    "### Source: \n",
    "https://en.wikipedia.org/wiki/List_of_mathematical_symbols_by_subject#Geometry\n",
    "\n",
    "https://github.com/adam-p/markdown-here/wiki/Markdown-Cheatsheet\n",
    "\n",
    "https://latex-tutorial.com/subscript-superscript-latex/#:~:text=How%20to%20do%20subscript%20in,2%2C%E2%80%A6%2Cxn."
   ]
  },
  {
   "cell_type": "markdown",
   "id": "ad29f6b9-f231-4139-b6a7-b75961e942f1",
   "metadata": {},
   "source": [
    "---"
   ]
  }
 ],
 "metadata": {
  "kernelspec": {
   "display_name": "Python 3 (ipykernel)",
   "language": "python",
   "name": "python3"
  },
  "language_info": {
   "codemirror_mode": {
    "name": "ipython",
    "version": 3
   },
   "file_extension": ".py",
   "mimetype": "text/x-python",
   "name": "python",
   "nbconvert_exporter": "python",
   "pygments_lexer": "ipython3",
   "version": "3.11.5"
  }
 },
 "nbformat": 4,
 "nbformat_minor": 5
}
