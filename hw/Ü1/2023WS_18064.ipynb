{
 "cells": [
  {
   "cell_type": "markdown",
   "id": "ab92cb7e-2ab0-4f95-9b82-857d1bfc4d74",
   "metadata": {},
   "source": [
    "Author: SciPro_18064\n",
    "\n",
    "Date: October 8, 2023\n",
    "\n",
    "Goal: the goal of this assignment is to familiarize myself with Jupyter-notebooks and/or Google Collaboratory, to demonstrate my level of Python3 knowledge,\n",
    "and to learn a bit about the Lennard-Jones potential for modeling molecular interactions and unit conversion.\n",
    "\n",
    "Task 1: Calculate the nonbonded potentiaon energy between two argon atoms that are 3.5 Å apart using the Lennard-Jones equation. \n",
    "For argon atoms, ε = 0.0103 eV and σ = 3.40 Å.\n",
    "Provide the final V(r) energy in the \"International Unit for Energy\"\n",
    "\n",
    "References:\n",
    "1. Wikipedia contributors, \"Lennard-Jones potential.\" Wikimedia Foundation. Last modifies August 30, 2023. https://en.wikipedia.org/wiki/Lennard-Jones_potential.\n",
    "2. Wikipedia contributors, \"International System of Units.\" Wikimedia Foundation. Last modified September 4,2023. https://en.wikipedia.org/wiki/International_System_of_Units"
   ]
  },
  {
   "cell_type": "markdown",
   "id": "3cdbc5ed-f684-438b-a4e4-b430d6bfe380",
   "metadata": {},
   "source": [
    "Firstly we need to define the given parameters"
   ]
  },
  {
   "cell_type": "code",
   "execution_count": 4,
   "id": "73770b08-0bb5-4ed2-a152-8cfd737f5324",
   "metadata": {},
   "outputs": [],
   "source": [
    "epsilon = 0.0103  # in eV\n",
    "sigma = 3.40  # in Å\n",
    "r = 3.5  # in Å"
   ]
  },
  {
   "attachments": {},
   "cell_type": "markdown",
   "id": "7cd2b685-3e72-4603-845f-b6b229e2bb30",
   "metadata": {},
   "source": [
    "Secondly we calculate the Lennard-Jones potential energy in original units (eV) according to the Lennard-Jones equation[1]."
   ]
  },
  {
   "cell_type": "code",
   "execution_count": 5,
   "id": "70668f29-4cdb-45f2-ac0c-c12d97a9494e",
   "metadata": {},
   "outputs": [],
   "source": [
    "# Calculate the Lennard-Jones potential energy in original units (eV)\n",
    "V_eV = 4 * epsilon * ((sigma / r) ** 12 - (sigma / r) ** 6)"
   ]
  },
  {
   "cell_type": "markdown",
   "id": "afd7460e-2d7e-448e-a85e-9600cf61b8ea",
   "metadata": {},
   "source": [
    "Lastly we need to convert the result from eV to Joules to have it in the International Unit of Energy[2]."
   ]
  },
  {
   "cell_type": "code",
   "execution_count": 6,
   "id": "f6d0c834-9a02-4906-a31f-51158aa3904a",
   "metadata": {},
   "outputs": [
    {
     "name": "stdout",
     "output_type": "stream",
     "text": [
      "Potential energy V(r) between two argon atoms at a distance of 3.5 Å: -8.85556335864426e-22 J\n"
     ]
    }
   ],
   "source": [
    "# Convert V_eV from eV to joules, which is the International Unit of Energy as required\n",
    "V_joules = V_eV * 1.60218e-19  # 1 eV = 1.60218e-19 joules\n",
    "\n",
    "# Print the potential energy in international units (eV)\n",
    "print(\"Potential energy V(r) between two argon atoms at a distance of 3.5 Å:\", V_joules, \"J\")"
   ]
  }
 ],
 "metadata": {
  "kernelspec": {
   "display_name": "Python 3 (ipykernel)",
   "language": "python",
   "name": "python3"
  },
  "language_info": {
   "codemirror_mode": {
    "name": "ipython",
    "version": 3
   },
   "file_extension": ".py",
   "mimetype": "text/x-python",
   "name": "python",
   "nbconvert_exporter": "python",
   "pygments_lexer": "ipython3",
   "version": "3.11.5"
  }
 },
 "nbformat": 4,
 "nbformat_minor": 5
}
