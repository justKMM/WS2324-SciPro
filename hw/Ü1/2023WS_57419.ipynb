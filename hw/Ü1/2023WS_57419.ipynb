{
 "cells": [
  {
   "cell_type": "markdown",
   "id": "e8572b35-6491-46a6-a769-b39dc5a95819",
   "metadata": {
    "jp-MarkdownHeadingCollapsed": true,
    "slideshow": {
     "slide_type": ""
    },
    "tags": []
   },
   "source": [
    "<div class=\"alert alert-block alert-success\">\n",
    "<b>Title</b>: Lennard-Jones Equation <br>\n",
    "<b>Author SciPro_ID</b>: 2023WS_57419 <br>\n",
    "<b>Date</b>: October 4th, 2023 <br>\n",
    "<b>Goal</b>: Calculation of nonbonded potential energy between two argon atoms <br>\n",
    "</div>"
   ]
  },
  {
   "cell_type": "markdown",
   "id": "7058fadf-37f4-4c40-9229-f6c055cbd9be",
   "metadata": {},
   "source": [
    "---"
   ]
  },
  {
   "cell_type": "markdown",
   "id": "f08cb903-8826-4e08-af29-e080462bea8b",
   "metadata": {},
   "source": [
    "# Assignment 1"
   ]
  },
  {
   "cell_type": "markdown",
   "id": "1ff62257-a1f4-47a6-be90-8a4964526179",
   "metadata": {
    "editable": true,
    "slideshow": {
     "slide_type": ""
    },
    "tags": []
   },
   "source": [
    "## Task 1\n",
    "Calculate the nonbonded potential energy between two argon atoms that are 3.5 Å apart using the Lennard-Jones equation [<sup>[1]</sup>](#ref-1).\n",
    "\n",
    "For argon atoms, $\\varepsilon = 0.0103$ eV and $\\sigma = 3.40$ Å.\n",
    "\n",
    "Provide the final $V_{LJ}(r)$ energy in the \"International Unit for Energy\" [<sup>[2]</sup>](#ref-2)."
   ]
  },
  {
   "cell_type": "markdown",
   "id": "979c0e32-7ef2-4133-8aac-d02f1c0cd5ec",
   "metadata": {},
   "source": [
    "**Lennard-Jones equation[<sup>[1]</sup>](#ref-1):**\n",
    "$$V_\\text{LJ}(r) = 4\\varepsilon \\left[ \\left(\\frac{\\sigma}{r}\\right)^{12} - \\left(\\frac{\\sigma}{r}\\right)^6 \\right]$$"
   ]
  },
  {
   "cell_type": "code",
   "execution_count": 1,
   "id": "4fc8b953-f791-4d07-bde3-0bd122c14d15",
   "metadata": {
    "is_executing": true
   },
   "outputs": [],
   "source": [
    "def lennard_jones(r: float, epsilon: float, sigma: float) -> float:\n",
    "    \"\"\"Calculates the nonbonded potential energy between atoms using the Lennard-Jones equation\n",
    "    \n",
    "    :param r: Distance between atoms in Å (Ångström)\n",
    "    :type r: float\n",
    "    :param epsilon: Dispersion energy\n",
    "    :type epsilon: float\n",
    "    :param sigma: Size of the particle\n",
    "    :type sigma: float\n",
    "    :return: Potential energy between atoms\n",
    "    :rtype: float\n",
    "    \"\"\"\n",
    "    return 4 * epsilon * ((sigma/r)**12 - (sigma/r)**6)\n",
    "def ev_to_joule(ev: float) -> float:\n",
    "    \"\"\"Converts value in eV to Joule\"\"\"\n",
    "    return ev * 1.60218e-19"
   ]
  },
  {
   "cell_type": "code",
   "execution_count": 2,
   "id": "6fa111a2-59fa-4932-9a04-e8891beac322",
   "metadata": {
    "editable": true,
    "slideshow": {
     "slide_type": ""
    },
    "tags": []
   },
   "outputs": [
    {
     "data": {
      "text/plain": [
       "(-0.005527196294201813, 'eV')"
      ]
     },
     "execution_count": 2,
     "metadata": {},
     "output_type": "execute_result"
    }
   ],
   "source": [
    "argon_e = 0.0103\n",
    "argon_s = 3.40\n",
    "r = 3.5\n",
    "\n",
    "energy = lennard_jones(r=r, epsilon=argon_e, sigma=argon_s)\n",
    "energy, 'eV'"
   ]
  },
  {
   "cell_type": "markdown",
   "id": "34a1cd22-1b45-4304-b63a-afc2f188439e",
   "metadata": {},
   "source": [
    "`energy` is in $\\mathrm{eV}$ (electronvolt) and needs to be converted to $\\mathrm{J}$ (Joule)"
   ]
  },
  {
   "cell_type": "code",
   "execution_count": 3,
   "id": "38082f31-155e-4f5f-b0c4-f1d2371a0eb0",
   "metadata": {},
   "outputs": [
    {
     "data": {
      "text/plain": [
       "(-8.85556335864426e-22, 'J')"
      ]
     },
     "execution_count": 3,
     "metadata": {},
     "output_type": "execute_result"
    }
   ],
   "source": [
    "energy_joule = ev_to_joule(energy)\n",
    "energy_joule, 'J'"
   ]
  },
  {
   "cell_type": "markdown",
   "id": "682a8256-13f5-42b3-9f2a-1f322ade9546",
   "metadata": {},
   "source": [
    "---"
   ]
  },
  {
   "cell_type": "markdown",
   "id": "35b35ea2-5a99-4b4f-800d-fd5d746df0c4",
   "metadata": {},
   "source": [
    "## References"
   ]
  },
  {
   "cell_type": "markdown",
   "id": "424d96db-c422-4e14-acb5-db9a0357f051",
   "metadata": {},
   "source": [
    "<a name=\"ref-1\"></a>1. Wikipedia contributors, “Lennard-Jones potential,” Wikipedia, Aug. 2023, [Online]. Available: https://en.wikipedia.org/wiki/Lennard-Jones_potential <br>\n",
    "<a name=\"ref-2\"></a>2. Wikipedia contributors, “International system of units,” Wikipedia, Sep. 2023, [Online]. Available: https://en.wikipedia.org/wiki/International_System_of_Units <br>\n",
    "<a name=\"ref-3\"></a>3. “PEP 287 – ReStructuredText docstring format | peps.python.org.” https://peps.python.org/pep-0287/ <br>\n",
    "<a name=\"ref-4\"></a>4. “Colored note boxes inside Jupyter notebooks,” Gist. https://gist.github.com/DanielKotik/4b81480c479a57e0dd13ac4d153e4451 <br>"
   ]
  }
 ],
 "metadata": {
  "kernelspec": {
   "display_name": "Python 3 (ipykernel)",
   "language": "python",
   "name": "python3"
  },
  "language_info": {
   "codemirror_mode": {
    "name": "ipython",
    "version": 3
   },
   "file_extension": ".py",
   "mimetype": "text/x-python",
   "name": "python",
   "nbconvert_exporter": "python",
   "pygments_lexer": "ipython3",
   "version": "3.11.5"
  }
 },
 "nbformat": 4,
 "nbformat_minor": 5
}
